{
  "nbformat": 4,
  "nbformat_minor": 0,
  "metadata": {
    "colab": {
      "name": "1. Análisis y Visualización de Datos.ipynb",
      "provenance": []
    },
    "kernelspec": {
      "name": "python3",
      "display_name": "Python 3"
    },
    "language_info": {
      "name": "python"
    }
  },
  "cells": [
    {
      "cell_type": "markdown",
      "source": [
        "<small>Mentoría de la Diplomatura en Ciencia de Datos y sus Aplicaciones - FaMAF UNC 2022.</small>\n",
        "# Detección de anomalías en despachos de combustible\n",
        "\n",
        "## Práctico de Análisis y Visualización de Datos\n",
        "\n",
        "**Mentora:** Daniela Bosch\n",
        "\n",
        "**Integrantes:**\n",
        "\n",
        "### Introducción\n",
        "\n",
        "En este trabajo buscamos obtener una primera aproximación a los resultados observando la distribución de las variables e identificando los outliers.\n",
        "\n",
        "Los datos con la descripción de cada una de sus columnas puede encontrarse en el siguiente link: https://www.kaggle.com/datasets/danielabosch/fuel-transactions-from-gas-pump\n",
        "\n",
        "#### Objetivos del práctico\n",
        "\n",
        "- Conocer el dataset y familiarizarse con series temporales.\n",
        "- Observar comportamientos similares entre series.\n",
        "- Analizar visualmente outliers observando las distribuciones.\n",
        "\n",
        "### Lectura del dataset\n",
        "\n",
        "Importamos las librerías necesarias y leemos el dataset.\n"
      ],
      "metadata": {
        "id": "djgok9GUdaNl"
      }
    },
    {
      "cell_type": "code",
      "source": [
        "import pandas"
      ],
      "metadata": {
        "id": "2K-Qi-fc-xKX"
      },
      "execution_count": 1,
      "outputs": []
    },
    {
      "cell_type": "code",
      "execution_count": 2,
      "metadata": {
        "colab": {
          "base_uri": "https://localhost:8080/",
          "height": 300
        },
        "id": "kqJPLaeldWsh",
        "outputId": "306a2379-5a13-4778-88fb-58c16e7e1bef"
      },
      "outputs": [
        {
          "output_type": "execute_result",
          "data": {
            "text/plain": [
              "   unique_id_transa  id_transaccion  id_vehiculo  id_usuario  id_equipo  \\\n",
              "0   377220101009999            9999        90952       12708        377   \n",
              "1   504220101006768            6768       101866        6683        504   \n",
              "2   534220101007334            7334       123844       34280        534   \n",
              "3   878220101002206            2206       141769       46520        878   \n",
              "4   898220101005224            5224       129356       29688        898   \n",
              "\n",
              "  veh_site_id  pump_site_id  tank_site_id user_site_id  producto  ...  \\\n",
              "0      000001             1             1         0000       0.0  ...   \n",
              "1      000001             1             1         0000       0.0  ...   \n",
              "2      009593             1             1         3532       0.0  ...   \n",
              "3      000103             2             1         0000       0.0  ...   \n",
              "4      999014             2             1         0001       0.0  ...   \n",
              "\n",
              "   temp_final  volumen_comp_15_inicial volumen_comp_15_final  \\\n",
              "0         NaN                      NaN                   NaN   \n",
              "1         NaN                      NaN                   NaN   \n",
              "2        30.2                 17836.50               17728.5   \n",
              "3         NaN                  6921.42                   NaN   \n",
              "4         NaN                      NaN                   NaN   \n",
              "\n",
              "   cantidad_comp_15 codigo_producto geo_latitud geo_longitud id_empresa  \\\n",
              "0             0.000             NaN         NaN          NaN        238   \n",
              "1           158.416       Product 1         NaN          NaN         25   \n",
              "2           107.850            0000         NaN          NaN        273   \n",
              "3            80.002          GOM G3         NaN          NaN       1142   \n",
              "4           734.900      Diesel 500         NaN          NaN       1083   \n",
              "\n",
              "   id_industria       industria  \n",
              "0           1.0  Transportation  \n",
              "1           5.0     Distributor  \n",
              "2           1.0  Transportation  \n",
              "3           2.0          Mining  \n",
              "4           1.0  Transportation  \n",
              "\n",
              "[5 rows x 32 columns]"
            ],
            "text/html": [
              "\n",
              "  <div id=\"df-60c3178b-4b98-4bb2-8706-0b0706a777a0\">\n",
              "    <div class=\"colab-df-container\">\n",
              "      <div>\n",
              "<style scoped>\n",
              "    .dataframe tbody tr th:only-of-type {\n",
              "        vertical-align: middle;\n",
              "    }\n",
              "\n",
              "    .dataframe tbody tr th {\n",
              "        vertical-align: top;\n",
              "    }\n",
              "\n",
              "    .dataframe thead th {\n",
              "        text-align: right;\n",
              "    }\n",
              "</style>\n",
              "<table border=\"1\" class=\"dataframe\">\n",
              "  <thead>\n",
              "    <tr style=\"text-align: right;\">\n",
              "      <th></th>\n",
              "      <th>unique_id_transa</th>\n",
              "      <th>id_transaccion</th>\n",
              "      <th>id_vehiculo</th>\n",
              "      <th>id_usuario</th>\n",
              "      <th>id_equipo</th>\n",
              "      <th>veh_site_id</th>\n",
              "      <th>pump_site_id</th>\n",
              "      <th>tank_site_id</th>\n",
              "      <th>user_site_id</th>\n",
              "      <th>producto</th>\n",
              "      <th>...</th>\n",
              "      <th>temp_final</th>\n",
              "      <th>volumen_comp_15_inicial</th>\n",
              "      <th>volumen_comp_15_final</th>\n",
              "      <th>cantidad_comp_15</th>\n",
              "      <th>codigo_producto</th>\n",
              "      <th>geo_latitud</th>\n",
              "      <th>geo_longitud</th>\n",
              "      <th>id_empresa</th>\n",
              "      <th>id_industria</th>\n",
              "      <th>industria</th>\n",
              "    </tr>\n",
              "  </thead>\n",
              "  <tbody>\n",
              "    <tr>\n",
              "      <th>0</th>\n",
              "      <td>377220101009999</td>\n",
              "      <td>9999</td>\n",
              "      <td>90952</td>\n",
              "      <td>12708</td>\n",
              "      <td>377</td>\n",
              "      <td>000001</td>\n",
              "      <td>1</td>\n",
              "      <td>1</td>\n",
              "      <td>0000</td>\n",
              "      <td>0.0</td>\n",
              "      <td>...</td>\n",
              "      <td>NaN</td>\n",
              "      <td>NaN</td>\n",
              "      <td>NaN</td>\n",
              "      <td>0.000</td>\n",
              "      <td>NaN</td>\n",
              "      <td>NaN</td>\n",
              "      <td>NaN</td>\n",
              "      <td>238</td>\n",
              "      <td>1.0</td>\n",
              "      <td>Transportation</td>\n",
              "    </tr>\n",
              "    <tr>\n",
              "      <th>1</th>\n",
              "      <td>504220101006768</td>\n",
              "      <td>6768</td>\n",
              "      <td>101866</td>\n",
              "      <td>6683</td>\n",
              "      <td>504</td>\n",
              "      <td>000001</td>\n",
              "      <td>1</td>\n",
              "      <td>1</td>\n",
              "      <td>0000</td>\n",
              "      <td>0.0</td>\n",
              "      <td>...</td>\n",
              "      <td>NaN</td>\n",
              "      <td>NaN</td>\n",
              "      <td>NaN</td>\n",
              "      <td>158.416</td>\n",
              "      <td>Product 1</td>\n",
              "      <td>NaN</td>\n",
              "      <td>NaN</td>\n",
              "      <td>25</td>\n",
              "      <td>5.0</td>\n",
              "      <td>Distributor</td>\n",
              "    </tr>\n",
              "    <tr>\n",
              "      <th>2</th>\n",
              "      <td>534220101007334</td>\n",
              "      <td>7334</td>\n",
              "      <td>123844</td>\n",
              "      <td>34280</td>\n",
              "      <td>534</td>\n",
              "      <td>009593</td>\n",
              "      <td>1</td>\n",
              "      <td>1</td>\n",
              "      <td>3532</td>\n",
              "      <td>0.0</td>\n",
              "      <td>...</td>\n",
              "      <td>30.2</td>\n",
              "      <td>17836.50</td>\n",
              "      <td>17728.5</td>\n",
              "      <td>107.850</td>\n",
              "      <td>0000</td>\n",
              "      <td>NaN</td>\n",
              "      <td>NaN</td>\n",
              "      <td>273</td>\n",
              "      <td>1.0</td>\n",
              "      <td>Transportation</td>\n",
              "    </tr>\n",
              "    <tr>\n",
              "      <th>3</th>\n",
              "      <td>878220101002206</td>\n",
              "      <td>2206</td>\n",
              "      <td>141769</td>\n",
              "      <td>46520</td>\n",
              "      <td>878</td>\n",
              "      <td>000103</td>\n",
              "      <td>2</td>\n",
              "      <td>1</td>\n",
              "      <td>0000</td>\n",
              "      <td>0.0</td>\n",
              "      <td>...</td>\n",
              "      <td>NaN</td>\n",
              "      <td>6921.42</td>\n",
              "      <td>NaN</td>\n",
              "      <td>80.002</td>\n",
              "      <td>GOM G3</td>\n",
              "      <td>NaN</td>\n",
              "      <td>NaN</td>\n",
              "      <td>1142</td>\n",
              "      <td>2.0</td>\n",
              "      <td>Mining</td>\n",
              "    </tr>\n",
              "    <tr>\n",
              "      <th>4</th>\n",
              "      <td>898220101005224</td>\n",
              "      <td>5224</td>\n",
              "      <td>129356</td>\n",
              "      <td>29688</td>\n",
              "      <td>898</td>\n",
              "      <td>999014</td>\n",
              "      <td>2</td>\n",
              "      <td>1</td>\n",
              "      <td>0001</td>\n",
              "      <td>0.0</td>\n",
              "      <td>...</td>\n",
              "      <td>NaN</td>\n",
              "      <td>NaN</td>\n",
              "      <td>NaN</td>\n",
              "      <td>734.900</td>\n",
              "      <td>Diesel 500</td>\n",
              "      <td>NaN</td>\n",
              "      <td>NaN</td>\n",
              "      <td>1083</td>\n",
              "      <td>1.0</td>\n",
              "      <td>Transportation</td>\n",
              "    </tr>\n",
              "  </tbody>\n",
              "</table>\n",
              "<p>5 rows × 32 columns</p>\n",
              "</div>\n",
              "      <button class=\"colab-df-convert\" onclick=\"convertToInteractive('df-60c3178b-4b98-4bb2-8706-0b0706a777a0')\"\n",
              "              title=\"Convert this dataframe to an interactive table.\"\n",
              "              style=\"display:none;\">\n",
              "        \n",
              "  <svg xmlns=\"http://www.w3.org/2000/svg\" height=\"24px\"viewBox=\"0 0 24 24\"\n",
              "       width=\"24px\">\n",
              "    <path d=\"M0 0h24v24H0V0z\" fill=\"none\"/>\n",
              "    <path d=\"M18.56 5.44l.94 2.06.94-2.06 2.06-.94-2.06-.94-.94-2.06-.94 2.06-2.06.94zm-11 1L8.5 8.5l.94-2.06 2.06-.94-2.06-.94L8.5 2.5l-.94 2.06-2.06.94zm10 10l.94 2.06.94-2.06 2.06-.94-2.06-.94-.94-2.06-.94 2.06-2.06.94z\"/><path d=\"M17.41 7.96l-1.37-1.37c-.4-.4-.92-.59-1.43-.59-.52 0-1.04.2-1.43.59L10.3 9.45l-7.72 7.72c-.78.78-.78 2.05 0 2.83L4 21.41c.39.39.9.59 1.41.59.51 0 1.02-.2 1.41-.59l7.78-7.78 2.81-2.81c.8-.78.8-2.07 0-2.86zM5.41 20L4 18.59l7.72-7.72 1.47 1.35L5.41 20z\"/>\n",
              "  </svg>\n",
              "      </button>\n",
              "      \n",
              "  <style>\n",
              "    .colab-df-container {\n",
              "      display:flex;\n",
              "      flex-wrap:wrap;\n",
              "      gap: 12px;\n",
              "    }\n",
              "\n",
              "    .colab-df-convert {\n",
              "      background-color: #E8F0FE;\n",
              "      border: none;\n",
              "      border-radius: 50%;\n",
              "      cursor: pointer;\n",
              "      display: none;\n",
              "      fill: #1967D2;\n",
              "      height: 32px;\n",
              "      padding: 0 0 0 0;\n",
              "      width: 32px;\n",
              "    }\n",
              "\n",
              "    .colab-df-convert:hover {\n",
              "      background-color: #E2EBFA;\n",
              "      box-shadow: 0px 1px 2px rgba(60, 64, 67, 0.3), 0px 1px 3px 1px rgba(60, 64, 67, 0.15);\n",
              "      fill: #174EA6;\n",
              "    }\n",
              "\n",
              "    [theme=dark] .colab-df-convert {\n",
              "      background-color: #3B4455;\n",
              "      fill: #D2E3FC;\n",
              "    }\n",
              "\n",
              "    [theme=dark] .colab-df-convert:hover {\n",
              "      background-color: #434B5C;\n",
              "      box-shadow: 0px 1px 3px 1px rgba(0, 0, 0, 0.15);\n",
              "      filter: drop-shadow(0px 1px 2px rgba(0, 0, 0, 0.3));\n",
              "      fill: #FFFFFF;\n",
              "    }\n",
              "  </style>\n",
              "\n",
              "      <script>\n",
              "        const buttonEl =\n",
              "          document.querySelector('#df-60c3178b-4b98-4bb2-8706-0b0706a777a0 button.colab-df-convert');\n",
              "        buttonEl.style.display =\n",
              "          google.colab.kernel.accessAllowed ? 'block' : 'none';\n",
              "\n",
              "        async function convertToInteractive(key) {\n",
              "          const element = document.querySelector('#df-60c3178b-4b98-4bb2-8706-0b0706a777a0');\n",
              "          const dataTable =\n",
              "            await google.colab.kernel.invokeFunction('convertToInteractive',\n",
              "                                                     [key], {});\n",
              "          if (!dataTable) return;\n",
              "\n",
              "          const docLinkHtml = 'Like what you see? Visit the ' +\n",
              "            '<a target=\"_blank\" href=https://colab.research.google.com/notebooks/data_table.ipynb>data table notebook</a>'\n",
              "            + ' to learn more about interactive tables.';\n",
              "          element.innerHTML = '';\n",
              "          dataTable['output_type'] = 'display_data';\n",
              "          await google.colab.output.renderOutput(dataTable, element);\n",
              "          const docLink = document.createElement('div');\n",
              "          docLink.innerHTML = docLinkHtml;\n",
              "          element.appendChild(docLink);\n",
              "        }\n",
              "      </script>\n",
              "    </div>\n",
              "  </div>\n",
              "  "
            ]
          },
          "metadata": {},
          "execution_count": 2
        }
      ],
      "source": [
        "df = pandas.read_csv(\n",
        "    \"transacciones_surtidor.csv\",\n",
        "    parse_dates=[\"timestamp\", \"timestamp_stop\"],\n",
        "    dtype={\"departamento\": str}\n",
        ")\n",
        "df.head()"
      ]
    },
    {
      "cell_type": "markdown",
      "source": [
        "Se puede observar que las series se encuentran mezcladas en el mismo dataset. Para realizar algunos análisis más interesantes debemos agruparlas o usar pivotes."
      ],
      "metadata": {
        "id": "R-xYEvm__82i"
      }
    },
    {
      "cell_type": "code",
      "source": [
        "df.groupby(\"id_bomba\")[\"cantidad\"].describe()"
      ],
      "metadata": {
        "colab": {
          "base_uri": "https://localhost:8080/",
          "height": 455
        },
        "id": "xG2UF-2fAUzY",
        "outputId": "8b0823dc-7531-4b5b-ad3d-5f1caf682e33"
      },
      "execution_count": 3,
      "outputs": [
        {
          "output_type": "execute_result",
          "data": {
            "text/plain": [
              "           count        mean        std      min       25%       50%  \\\n",
              "id_bomba                                                               \n",
              "0           18.0    0.043667   0.102923    0.000    0.0000    0.0005   \n",
              "62        1184.0  125.802258  91.177540    0.000  100.0000  100.0000   \n",
              "69         718.0   59.569656  64.581628    0.000   22.1960   43.9305   \n",
              "70        2622.0   73.834542  69.283943    0.000   33.0360   57.0420   \n",
              "87           7.0  923.179714   0.023164  923.156  923.1635  923.1710   \n",
              "...          ...         ...        ...      ...       ...       ...   \n",
              "103093       7.0   13.593286  12.939399    0.000    0.5460   20.1490   \n",
              "103094       1.0    0.000000        NaN    0.000    0.0000    0.0000   \n",
              "103095      21.0   18.542952  22.936837    0.000    0.0370   20.1510   \n",
              "103097       1.0    0.238000        NaN    0.238    0.2380    0.2380   \n",
              "103098       1.0    1.982000        NaN    1.982    1.9820    1.9820   \n",
              "\n",
              "                75%      max  \n",
              "id_bomba                      \n",
              "0           0.00175    0.320  \n",
              "62        172.66025  633.995  \n",
              "69         71.18325  631.005  \n",
              "70         87.07850  560.029  \n",
              "87        923.19100  923.222  \n",
              "...             ...      ...  \n",
              "103093     21.28400   31.344  \n",
              "103094      0.00000    0.000  \n",
              "103095     20.19800  104.295  \n",
              "103097      0.23800    0.238  \n",
              "103098      1.98200    1.982  \n",
              "\n",
              "[729 rows x 8 columns]"
            ],
            "text/html": [
              "\n",
              "  <div id=\"df-b0b68348-68c1-4fe9-872d-025544378ded\">\n",
              "    <div class=\"colab-df-container\">\n",
              "      <div>\n",
              "<style scoped>\n",
              "    .dataframe tbody tr th:only-of-type {\n",
              "        vertical-align: middle;\n",
              "    }\n",
              "\n",
              "    .dataframe tbody tr th {\n",
              "        vertical-align: top;\n",
              "    }\n",
              "\n",
              "    .dataframe thead th {\n",
              "        text-align: right;\n",
              "    }\n",
              "</style>\n",
              "<table border=\"1\" class=\"dataframe\">\n",
              "  <thead>\n",
              "    <tr style=\"text-align: right;\">\n",
              "      <th></th>\n",
              "      <th>count</th>\n",
              "      <th>mean</th>\n",
              "      <th>std</th>\n",
              "      <th>min</th>\n",
              "      <th>25%</th>\n",
              "      <th>50%</th>\n",
              "      <th>75%</th>\n",
              "      <th>max</th>\n",
              "    </tr>\n",
              "    <tr>\n",
              "      <th>id_bomba</th>\n",
              "      <th></th>\n",
              "      <th></th>\n",
              "      <th></th>\n",
              "      <th></th>\n",
              "      <th></th>\n",
              "      <th></th>\n",
              "      <th></th>\n",
              "      <th></th>\n",
              "    </tr>\n",
              "  </thead>\n",
              "  <tbody>\n",
              "    <tr>\n",
              "      <th>0</th>\n",
              "      <td>18.0</td>\n",
              "      <td>0.043667</td>\n",
              "      <td>0.102923</td>\n",
              "      <td>0.000</td>\n",
              "      <td>0.0000</td>\n",
              "      <td>0.0005</td>\n",
              "      <td>0.00175</td>\n",
              "      <td>0.320</td>\n",
              "    </tr>\n",
              "    <tr>\n",
              "      <th>62</th>\n",
              "      <td>1184.0</td>\n",
              "      <td>125.802258</td>\n",
              "      <td>91.177540</td>\n",
              "      <td>0.000</td>\n",
              "      <td>100.0000</td>\n",
              "      <td>100.0000</td>\n",
              "      <td>172.66025</td>\n",
              "      <td>633.995</td>\n",
              "    </tr>\n",
              "    <tr>\n",
              "      <th>69</th>\n",
              "      <td>718.0</td>\n",
              "      <td>59.569656</td>\n",
              "      <td>64.581628</td>\n",
              "      <td>0.000</td>\n",
              "      <td>22.1960</td>\n",
              "      <td>43.9305</td>\n",
              "      <td>71.18325</td>\n",
              "      <td>631.005</td>\n",
              "    </tr>\n",
              "    <tr>\n",
              "      <th>70</th>\n",
              "      <td>2622.0</td>\n",
              "      <td>73.834542</td>\n",
              "      <td>69.283943</td>\n",
              "      <td>0.000</td>\n",
              "      <td>33.0360</td>\n",
              "      <td>57.0420</td>\n",
              "      <td>87.07850</td>\n",
              "      <td>560.029</td>\n",
              "    </tr>\n",
              "    <tr>\n",
              "      <th>87</th>\n",
              "      <td>7.0</td>\n",
              "      <td>923.179714</td>\n",
              "      <td>0.023164</td>\n",
              "      <td>923.156</td>\n",
              "      <td>923.1635</td>\n",
              "      <td>923.1710</td>\n",
              "      <td>923.19100</td>\n",
              "      <td>923.222</td>\n",
              "    </tr>\n",
              "    <tr>\n",
              "      <th>...</th>\n",
              "      <td>...</td>\n",
              "      <td>...</td>\n",
              "      <td>...</td>\n",
              "      <td>...</td>\n",
              "      <td>...</td>\n",
              "      <td>...</td>\n",
              "      <td>...</td>\n",
              "      <td>...</td>\n",
              "    </tr>\n",
              "    <tr>\n",
              "      <th>103093</th>\n",
              "      <td>7.0</td>\n",
              "      <td>13.593286</td>\n",
              "      <td>12.939399</td>\n",
              "      <td>0.000</td>\n",
              "      <td>0.5460</td>\n",
              "      <td>20.1490</td>\n",
              "      <td>21.28400</td>\n",
              "      <td>31.344</td>\n",
              "    </tr>\n",
              "    <tr>\n",
              "      <th>103094</th>\n",
              "      <td>1.0</td>\n",
              "      <td>0.000000</td>\n",
              "      <td>NaN</td>\n",
              "      <td>0.000</td>\n",
              "      <td>0.0000</td>\n",
              "      <td>0.0000</td>\n",
              "      <td>0.00000</td>\n",
              "      <td>0.000</td>\n",
              "    </tr>\n",
              "    <tr>\n",
              "      <th>103095</th>\n",
              "      <td>21.0</td>\n",
              "      <td>18.542952</td>\n",
              "      <td>22.936837</td>\n",
              "      <td>0.000</td>\n",
              "      <td>0.0370</td>\n",
              "      <td>20.1510</td>\n",
              "      <td>20.19800</td>\n",
              "      <td>104.295</td>\n",
              "    </tr>\n",
              "    <tr>\n",
              "      <th>103097</th>\n",
              "      <td>1.0</td>\n",
              "      <td>0.238000</td>\n",
              "      <td>NaN</td>\n",
              "      <td>0.238</td>\n",
              "      <td>0.2380</td>\n",
              "      <td>0.2380</td>\n",
              "      <td>0.23800</td>\n",
              "      <td>0.238</td>\n",
              "    </tr>\n",
              "    <tr>\n",
              "      <th>103098</th>\n",
              "      <td>1.0</td>\n",
              "      <td>1.982000</td>\n",
              "      <td>NaN</td>\n",
              "      <td>1.982</td>\n",
              "      <td>1.9820</td>\n",
              "      <td>1.9820</td>\n",
              "      <td>1.98200</td>\n",
              "      <td>1.982</td>\n",
              "    </tr>\n",
              "  </tbody>\n",
              "</table>\n",
              "<p>729 rows × 8 columns</p>\n",
              "</div>\n",
              "      <button class=\"colab-df-convert\" onclick=\"convertToInteractive('df-b0b68348-68c1-4fe9-872d-025544378ded')\"\n",
              "              title=\"Convert this dataframe to an interactive table.\"\n",
              "              style=\"display:none;\">\n",
              "        \n",
              "  <svg xmlns=\"http://www.w3.org/2000/svg\" height=\"24px\"viewBox=\"0 0 24 24\"\n",
              "       width=\"24px\">\n",
              "    <path d=\"M0 0h24v24H0V0z\" fill=\"none\"/>\n",
              "    <path d=\"M18.56 5.44l.94 2.06.94-2.06 2.06-.94-2.06-.94-.94-2.06-.94 2.06-2.06.94zm-11 1L8.5 8.5l.94-2.06 2.06-.94-2.06-.94L8.5 2.5l-.94 2.06-2.06.94zm10 10l.94 2.06.94-2.06 2.06-.94-2.06-.94-.94-2.06-.94 2.06-2.06.94z\"/><path d=\"M17.41 7.96l-1.37-1.37c-.4-.4-.92-.59-1.43-.59-.52 0-1.04.2-1.43.59L10.3 9.45l-7.72 7.72c-.78.78-.78 2.05 0 2.83L4 21.41c.39.39.9.59 1.41.59.51 0 1.02-.2 1.41-.59l7.78-7.78 2.81-2.81c.8-.78.8-2.07 0-2.86zM5.41 20L4 18.59l7.72-7.72 1.47 1.35L5.41 20z\"/>\n",
              "  </svg>\n",
              "      </button>\n",
              "      \n",
              "  <style>\n",
              "    .colab-df-container {\n",
              "      display:flex;\n",
              "      flex-wrap:wrap;\n",
              "      gap: 12px;\n",
              "    }\n",
              "\n",
              "    .colab-df-convert {\n",
              "      background-color: #E8F0FE;\n",
              "      border: none;\n",
              "      border-radius: 50%;\n",
              "      cursor: pointer;\n",
              "      display: none;\n",
              "      fill: #1967D2;\n",
              "      height: 32px;\n",
              "      padding: 0 0 0 0;\n",
              "      width: 32px;\n",
              "    }\n",
              "\n",
              "    .colab-df-convert:hover {\n",
              "      background-color: #E2EBFA;\n",
              "      box-shadow: 0px 1px 2px rgba(60, 64, 67, 0.3), 0px 1px 3px 1px rgba(60, 64, 67, 0.15);\n",
              "      fill: #174EA6;\n",
              "    }\n",
              "\n",
              "    [theme=dark] .colab-df-convert {\n",
              "      background-color: #3B4455;\n",
              "      fill: #D2E3FC;\n",
              "    }\n",
              "\n",
              "    [theme=dark] .colab-df-convert:hover {\n",
              "      background-color: #434B5C;\n",
              "      box-shadow: 0px 1px 3px 1px rgba(0, 0, 0, 0.15);\n",
              "      filter: drop-shadow(0px 1px 2px rgba(0, 0, 0, 0.3));\n",
              "      fill: #FFFFFF;\n",
              "    }\n",
              "  </style>\n",
              "\n",
              "      <script>\n",
              "        const buttonEl =\n",
              "          document.querySelector('#df-b0b68348-68c1-4fe9-872d-025544378ded button.colab-df-convert');\n",
              "        buttonEl.style.display =\n",
              "          google.colab.kernel.accessAllowed ? 'block' : 'none';\n",
              "\n",
              "        async function convertToInteractive(key) {\n",
              "          const element = document.querySelector('#df-b0b68348-68c1-4fe9-872d-025544378ded');\n",
              "          const dataTable =\n",
              "            await google.colab.kernel.invokeFunction('convertToInteractive',\n",
              "                                                     [key], {});\n",
              "          if (!dataTable) return;\n",
              "\n",
              "          const docLinkHtml = 'Like what you see? Visit the ' +\n",
              "            '<a target=\"_blank\" href=https://colab.research.google.com/notebooks/data_table.ipynb>data table notebook</a>'\n",
              "            + ' to learn more about interactive tables.';\n",
              "          element.innerHTML = '';\n",
              "          dataTable['output_type'] = 'display_data';\n",
              "          await google.colab.output.renderOutput(dataTable, element);\n",
              "          const docLink = document.createElement('div');\n",
              "          docLink.innerHTML = docLinkHtml;\n",
              "          element.appendChild(docLink);\n",
              "        }\n",
              "      </script>\n",
              "    </div>\n",
              "  </div>\n",
              "  "
            ]
          },
          "metadata": {},
          "execution_count": 3
        }
      ]
    },
    {
      "cell_type": "markdown",
      "source": [
        "### Consignas\n",
        "\n",
        "Se proponen dos actividades de base y una actividad opcional referida al análisis de series temporales. Realizar una breve conclusión sobre los resultados obtenidos."
      ],
      "metadata": {
        "id": "eJGu722BBBzG"
      }
    },
    {
      "cell_type": "markdown",
      "source": [
        "#### 1. Análisis descriptivo\n",
        "\n",
        "- Seleccionar las columnas de interés a analizar.\n",
        "- Realizar un análisis descriptivo sobre el conjunto completo y sobre algunos agrupadores (industria, empresa, etc). **¿Qué diferencias se pueden ver entre los estadísticos de las agrupaciones?** (Ej. la industria minería tiene un consumo medio por transacción mayor a la industria de transporte).\n",
        "- Seleccionar una o dos industrias. Realizar un análisis descriptivo ahora teniendo en cuenta periodos de tiempo (día de la semana, semana, día del mes, etc). **¿Se observan comportamientos distintos según el periodo de tiempo?**"
      ],
      "metadata": {
        "id": "W9q5SEhaBD3y"
      }
    },
    {
      "cell_type": "markdown",
      "source": [
        "\n",
        "\n",
        "> _Se debe convertir el timestamp a índice para ciertos análisis. Además deben estar ordenados._\n",
        "\n"
      ],
      "metadata": {
        "id": "GxKVNrVzuznG"
      }
    },
    {
      "cell_type": "code",
      "source": [
        "df.set_index(\"timestamp\", inplace=True)\n",
        "df = df.sort_index()"
      ],
      "metadata": {
        "id": "IXsj5e2BuSFe"
      },
      "execution_count": 3,
      "outputs": []
    },
    {
      "cell_type": "code",
      "source": [
        "# Agrupación por periodo\n",
        "df.groupby(pandas.Grouper(freq='1D'))[\"cantidad\"].mean().head()"
      ],
      "metadata": {
        "colab": {
          "base_uri": "https://localhost:8080/"
        },
        "id": "MZ57Mn7eqsT6",
        "outputId": "b986a35d-3633-4cad-bfd1-ab73c0e7266d"
      },
      "execution_count": 13,
      "outputs": [
        {
          "output_type": "execute_result",
          "data": {
            "text/plain": [
              "timestamp\n",
              "2022-01-01    141.718385\n",
              "2022-01-02    343.116945\n",
              "2022-01-03    204.545689\n",
              "2022-01-04    228.681796\n",
              "2022-01-05    237.879609\n",
              "Freq: D, Name: cantidad, dtype: float64"
            ]
          },
          "metadata": {},
          "execution_count": 13
        }
      ]
    },
    {
      "cell_type": "code",
      "source": [
        ""
      ],
      "metadata": {
        "id": "6Vs8LiFI0McO"
      },
      "execution_count": null,
      "outputs": []
    },
    {
      "cell_type": "markdown",
      "source": [
        "#### 2. Visualización de outliers\n",
        "\n",
        "- Seleccionar las variables de interés.\n",
        "- Graficar las distribuciones de estas variables para todo el conjunto y destacar sus outliers. Utilizar boxplots, boxenplots o visualizaciones que crean convenientes.\n",
        "- Graficar las distribuciones ahora agrupando por cualidades en común entre las series (ej. por industria). **¿Ciertas transacciones podrían considerarse anómalas en una [industria] mientras que en otra no?**\n",
        "- Comparar outliers visualizados entre ambos gráficos **¿Qué anomalías se detectaron en una visualización mientras que en la otra no?**"
      ],
      "metadata": {
        "id": "ZKyAs__HA-Tc"
      }
    },
    {
      "cell_type": "code",
      "source": [
        ""
      ],
      "metadata": {
        "id": "ZHcWOPUWBBUv"
      },
      "execution_count": null,
      "outputs": []
    },
    {
      "cell_type": "markdown",
      "source": [
        "#### (Opcional) 3. Descomposición de series temporales\n",
        "\n",
        "El análisis de los componentes de una serie temporal nos puede ayudar más adelante para detectar anomalías relacionadas a su comportamiento estacionario. Una de las librerías recomentadas para la descomposición es `statsmodels`. En este ejercicio se requiere:\n",
        "\n",
        "- Elegir dos estaciones de un sector de la industria y dos estaciones de otra industria, y graficar sus descomposiciones (estacionalidad, tendencia, residuo). Elegir correctamente el periodo para cada una.\n",
        "- ¿Las series son estacionarias? Analizar gráficamente.\n",
        "- Observar las estacionalidades y las tendencias de las series. **¿Se pueden ver comportamientos similares entre estaciones de la misma industria? ¿Y entre industrias?**\n",
        "- Observar los residuos de las series **¿Se pueden detectar a simple vista algunos outliers?** Comentar.\n",
        "\n"
      ],
      "metadata": {
        "id": "YTyrdDJKdzKF"
      }
    },
    {
      "cell_type": "markdown",
      "source": [
        "\n",
        "\n",
        "> _Verificar que la versión de statsmodels sea la última versión estable (0.13.2) ya que cambian varios métodos. Google Colab utiliza por defecto la versión 0.10.2._\n",
        "\n"
      ],
      "metadata": {
        "id": "IR1eyJWih0BK"
      }
    },
    {
      "cell_type": "code",
      "source": [
        "# !pip install statsmodels==0.13.2\n",
        "# import statsmodels\n",
        "# statsmodels.__version__"
      ],
      "metadata": {
        "id": "qhh_Nl4IikzH"
      },
      "execution_count": null,
      "outputs": []
    },
    {
      "cell_type": "markdown",
      "source": [
        "Se deja a modo de ejemplo, la descomposición de la serie de una estación."
      ],
      "metadata": {
        "id": "C0ij1dcBkwqZ"
      }
    },
    {
      "cell_type": "code",
      "source": [
        "from statsmodels.tsa.seasonal import seasonal_decompose"
      ],
      "metadata": {
        "id": "OwHLyQuBfrZH"
      },
      "execution_count": null,
      "outputs": []
    },
    {
      "cell_type": "code",
      "source": [
        "# Seleccionamos una estación\n",
        "station = 504"
      ],
      "metadata": {
        "id": "PtdmUFVwftGG"
      },
      "execution_count": 10,
      "outputs": []
    },
    {
      "cell_type": "code",
      "source": [
        "# Convertir el timestamp a índice en el caso de no haberse realizado \n",
        "# anteriormente\n",
        "# ts_station_504 = df.query(\"id_equipo == @station\").set_index(\"timestamp\")\n",
        "ts_station_504 = df.query(\"id_equipo == @station\")\n",
        "res = seasonal_decompose(ts_station_504[\"cantidad\"], period=24, model=\"aditive\")\n",
        "\n",
        "fig = res.plot()"
      ],
      "metadata": {
        "colab": {
          "base_uri": "https://localhost:8080/",
          "height": 297
        },
        "id": "_hu7HrYMD_tX",
        "outputId": "ef149a02-402d-4f6a-900e-c6e27c4157ae"
      },
      "execution_count": null,
      "outputs": [
        {
          "output_type": "display_data",
          "data": {
            "text/plain": [
              "<Figure size 432x288 with 4 Axes>"
            ],
            "image/png": "[encoded data removed]"
          },
          "metadata": {
            "needs_background": "light"
          }
        }
      ]
    },
    {
      "cell_type": "code",
      "source": [
        ""
      ],
      "metadata": {
        "id": "5oKkWz3L0N80"
      },
      "execution_count": null,
      "outputs": []
    },
    {
      "cell_type": "markdown",
      "source": [
        "### Entregable\n",
        "\n",
        "Se propone la elaboración de un informe que deberá entregarse en formato de notebook tipo Jupyter o Google Colaboratory, con los resultados guardados, gráficos, notas y conclusiones. El mismo deberá apuntar a un público técnico, pero sin conocimientos específicos en el tema.\n",
        "\n",
        "**Fecha de entrega: 20/05/2022**"
      ],
      "metadata": {
        "id": "lES1-wl6EAMv"
      }
    },
    {
      "cell_type": "markdown",
      "source": [
        "### Enlaces útiles\n",
        "- https://www.kaggle.com/code/jagangupta/time-series-basics-exploring-traditional-ts/notebook\n",
        "- https://www.kaggle.com/code/bextuychiev/every-pandas-function-to-manipulate-time-series/notebook\n",
        "- https://towardsdatascience.com/advanced-time-series-analysis-in-python-decomposition-autocorrelation-115aa64f475e\n",
        "- https://neptune.ai/blog/anomaly-detection-in-time-series"
      ],
      "metadata": {
        "id": "cKL75SIKGilo"
      }
    }
  ]
}