{
  "cells": [
    {
      "cell_type": "markdown",
      "metadata": {
        "id": "view-in-github",
        "colab_type": "text"
      },
      "source": [
        "<a href=\"https://colab.research.google.com/github/Nico37-coder/anomaly-detection-fuel-transactions/blob/main/2_Exploraci%C3%B3n_y_Curaci%C3%B3n_de_Datos_compartido28072022.ipynb\" target=\"_parent\"><img src=\"https://colab.research.google.com/assets/colab-badge.svg\" alt=\"Open In Colab\"/></a>"
      ]
    },
    {
      "cell_type": "code",
      "execution_count": 3,
      "metadata": {
        "colab": {
          "base_uri": "https://localhost:8080/",
          "height": 200
        },
        "id": "3JqGIkMZeMqR",
        "outputId": "cc95493d-c165-48ae-eb87-09506b5f7712"
      },
      "outputs": [
        {
          "output_type": "execute_result",
          "data": {
            "text/plain": [
              "'\\nMemo 13/07/2022 reunión Marce y Nico:\\n\\n1) KNN puede tenr datos 0 (ceros) pero no NaNs(dato nulo)\\n2) Ver de imputar datos faltantes de Industrias.\\n\\nPasos:\\n      Actividad 1:\\n                  a) Seleccionar columnas que no tienen datos faltantes\\n                  b) Sacar geo_lon, geo_lat, codigo_producto, producto\\n                  c) Limpiar columna Producto(Diego)\\n                  d) Eliminar abastecimientos\\n                  e) Eliminar categoricas que tengan demasiadas categorías\\n                  f) Analizar lo que hicimos para ver si se puede rescatar algo. Rta: se comento todo esto. Eliminar\\n      Actividad 2:One-hot\\n                  a) Sacar columnas con datos faltantes.(industria tiene faltantes)\\n                  b) Aplicar encoding\\n\\n      Actividad 3:   KNN          \\n                  a) Agregar columnas con datos faltantes(industria, id_industria, usersite_id) \\n                  y que sean imputables.(sacar inimputables)\\n                  b) aplicar KNN\\n                  c) agregar columnas inimputables y asignarle un valor (ej desconocido/D) a estas. \\n                  (por ej volumen inicial)\\n\\n\\nMemo 04/06/2022 reunión Daniela:\\n\\n1) Imputar o meliminar datos nulos(0) ya que ningún algoritmo va a usar datos nulos(¿?)\\n2) Producto 0 = Faltante\\n3) Identificar datos erroneaos ya que son las ANOMALIAS que buscamos\\n4) Filas:  errores RC y RS hay que eliminarlos. (ver otros codigos de error que se peudan usar)\\n5) Se pueden hacer dos dataset uno con valores nulos y el otro curado para ir comparando.\\n6) Eliminar abastecimientos ver codigos error\\n\\nMemo reunión nuestra 07/06/2022:\\n\\n1) Descartar columnas geo_latitud y geo_longitud\\n2) Analizar si descartar las columnas: \\'volumen_final\\', \\'volumen_comp_15_final\\', \\'temp_final\\', \\'codigo_producto\\', \\n\\'volumen_inicial\\', \\'temp_inicial\\', \\'volumen_comp_15_inicial\\'\\nEn caso de no descartar pensar como se las puede Imputar.\\n3) Ver si se puede vincular  \\'veh_site_id y \\'id_vehiculo\\' para vincular e imputar columna \\'nombre_prod\\'(esta columna presennta \\nmuchos datos faltantes que estan identificados de otra manera por ej \"Producto 0\")\\n4) Intentar imputar \\'Industria\\' con columnas \\'id_industria\\' e \\'id_empresa\\' (Ojo puede dar se el caso de una empresa\\npara la cual tanto \\'id_industria\\' como \\'Industria\\' sea faltante)\\n5) Procedimiento: Avisar antes de abrir el Colab para no pisarnos\\n                  Poner comentarios en el Colab\\n'"
            ],
            "application/vnd.google.colaboratory.intrinsic+json": {
              "type": "string"
            }
          },
          "metadata": {},
          "execution_count": 3
        }
      ],
      "source": [
        "\"\"\"\n",
        "Memo 13/07/2022 reunión Marce y Nico:\n",
        "\n",
        "1) KNN puede tenr datos 0 (ceros) pero no NaNs(dato nulo)\n",
        "2) Ver de imputar datos faltantes de Industrias.\n",
        "\n",
        "Pasos:\n",
        "      Actividad 1:\n",
        "                  a) Seleccionar columnas que no tienen datos faltantes\n",
        "                  b) Sacar geo_lon, geo_lat, codigo_producto, producto\n",
        "                  c) Limpiar columna Producto(Diego)\n",
        "                  d) Eliminar abastecimientos\n",
        "                  e) Eliminar categoricas que tengan demasiadas categorías\n",
        "                  f) Analizar lo que hicimos para ver si se puede rescatar algo. Rta: se comento todo esto. Eliminar\n",
        "      Actividad 2:One-hot\n",
        "                  a) Sacar columnas con datos faltantes.(industria tiene faltantes)\n",
        "                  b) Aplicar encoding\n",
        "\n",
        "      Actividad 3:   KNN          \n",
        "                  a) Agregar columnas con datos faltantes(industria, id_industria, usersite_id) \n",
        "                  y que sean imputables.(sacar inimputables)\n",
        "                  b) aplicar KNN\n",
        "                  c) agregar columnas inimputables y asignarle un valor (ej desconocido/D) a estas. \n",
        "                  (por ej volumen inicial)\n",
        "\n",
        "\n",
        "Memo 04/06/2022 reunión Daniela:\n",
        "\n",
        "1) Imputar o meliminar datos nulos(0) ya que ningún algoritmo va a usar datos nulos(¿?)\n",
        "2) Producto 0 = Faltante\n",
        "3) Identificar datos erroneaos ya que son las ANOMALIAS que buscamos\n",
        "4) Filas:  errores RC y RS hay que eliminarlos. (ver otros codigos de error que se peudan usar)\n",
        "5) Se pueden hacer dos dataset uno con valores nulos y el otro curado para ir comparando.\n",
        "6) Eliminar abastecimientos ver codigos error\n",
        "\n",
        "Memo reunión nuestra 07/06/2022:\n",
        "\n",
        "1) Descartar columnas geo_latitud y geo_longitud\n",
        "2) Analizar si descartar las columnas: 'volumen_final', 'volumen_comp_15_final', 'temp_final', 'codigo_producto', \n",
        "'volumen_inicial', 'temp_inicial', 'volumen_comp_15_inicial'\n",
        "En caso de no descartar pensar como se las puede Imputar.\n",
        "3) Ver si se puede vincular  'veh_site_id y 'id_vehiculo' para vincular e imputar columna 'nombre_prod'(esta columna presennta \n",
        "muchos datos faltantes que estan identificados de otra manera por ej \"Producto 0\")\n",
        "4) Intentar imputar 'Industria' con columnas 'id_industria' e 'id_empresa' (Ojo puede dar se el caso de una empresa\n",
        "para la cual tanto 'id_industria' como 'Industria' sea faltante)\n",
        "5) Procedimiento: Avisar antes de abrir el Colab para no pisarnos\n",
        "                  Poner comentarios en el Colab\n",
        "\"\"\"                "
      ]
    },
    {
      "cell_type": "markdown",
      "metadata": {
        "id": "djgok9GUdaNl"
      },
      "source": [
        "<small>Mentoría de la Diplomatura en Ciencia de Datos y sus Aplicaciones - FaMAF UNC 2022.</small>\n",
        "# Detección de anomalías en despachos de combustible\n",
        "\n",
        "## Práctico de Exploración y Curación de Datos\n",
        "\n",
        "**Mentora:** Daniela Bosch\n",
        "\n",
        "**Integrantes:**\n",
        "\n",
        "### Introducción\n",
        "\n",
        "En este trabajo realizamos una exploración en mayor profundidad y dejamos el dataset curado para los próximos trabajos.\n",
        "\n",
        "Los datos con la descripción de cada una de sus columnas puede encontrarse en el siguiente link: https://www.kaggle.com/datasets/danielabosch/fuel-transactions-from-gas-pump\n",
        "\n",
        "#### Objetivos del práctico\n",
        "\n",
        "- Observar datos ruidosos. Diferenciar correctamente los faltantes de los anómalos o mal codificados.\n",
        "- Obtener un dataset curado para ser utilizado en los próximos trabajos.\n"
      ]
    },
    {
      "cell_type": "markdown",
      "metadata": {
        "id": "eJGu722BBBzG"
      },
      "source": [
        "### Consignas\n",
        "\n",
        "Se proponen cuatro actividades de base y dos actividades opcionales. Realizar una breve conclusión sobre el dataset generado."
      ]
    },
    {
      "cell_type": "markdown",
      "metadata": {
        "id": "bfrX2N8teMqF"
      },
      "source": [
        "### Glosario de las variables:"
      ]
    },
    {
      "cell_type": "markdown",
      "metadata": {
        "id": "9PBQouAseMqG"
      },
      "source": [
        "-**unique_id_trans**: Nro de la transacción completo \n",
        "\n",
        "-**id_transaccion**: Nro de la transacción, 4 últimos digitos. Id registrado por un nodo IoT. Puede repetirse entre distintos nodos.\n",
        "\n",
        "-**id_vehiculo**: Id único de unidad de consumo. Puede ser un vehiculo u otra unidad.\n",
        "\n",
        "-**id_usuario**: Id único del operador encargado de autorizar el despacho.\n",
        "\n",
        "-**id_equipo**: Id único de nodo IoT. Un nodo pertenece a una estación\n",
        "\n",
        "-**veh_site_id**: Id de unidad de consumo registrado por el nodo. Puede repetirse entre distintos nodos. Identificador del vehiculo dentro de un mismo sitio.\n",
        "\n",
        "-**pump_site_id**: Id de surtidor registrado por el nodo. Puede repetirse entre distintos nodos. Identificador de la bomba o pico dentro del mismo sitio.(sitio es cada consola que toma datos)\n",
        "\n",
        "-**tank_site_id**: Id de tanque registrado por el nodo. Puede repetirse entre nodos.\n",
        "\n",
        "-**user_site_id**: Id de operador registrado por el nodo. Puede repetirse entre nodos.(4% missing)\n",
        "\n",
        "-**producto**: Id de producto registrado en el nodo IoT. Puede repetirse entre nodos.\n",
        "\n",
        "-**id_bomba**: Id único de surtidor.\n",
        "\n",
        "-**id_tanque**: Id único de tanque conectado a uno o más surtidores.\n",
        "\n",
        "-**departamento**:Departamento perteneciente al vehículo.\n",
        "\n",
        "-**cantidad**: Litros transaccionados.(not missing) \n",
        "\n",
        "-**codigo_error**: Código de finalización de la operación (No indica necesariamente error). **Ver correlaciones entre codigo de error  y outlaiers.**\n",
        "                  \n",
        "                  -C1 51% \n",
        "                  \n",
        "                  -ES 18%\n",
        "                  \n",
        "                  -Other 31%\n",
        "\n",
        "-**timestamp**:Timestamp de inicio de transacción. (*Index*)\n",
        "\n",
        "-**timestamp_stop**:Timestamp de fin de transacciñon\n",
        "\n",
        "-**nombre_prod**:Producto despachado\n",
        "                \n",
        "                -Diesel 500 15% (Most Common)\n",
        "                \n",
        "                -Producto 0 14%\n",
        "                \n",
        "                -Other (400856) 71%\n",
        "\n",
        "-**veh_efficiency**: \n",
        "\n",
        "-**volumen_inicial**: Volumen inicial registrado en el tanque(Missing 26%)\n",
        "\n",
        "-**volumen_final**: Volumen final registrado en el tanque(Missing 39%)\n",
        "\n",
        "-**temp_inicial**:Temperatura registrada al iniciar la operación.(Missing 26% idem *volumen_inicial*)\n",
        "\n",
        "-**temp_final**: Temperatura registrada al finalizar la operación.(Missing 39% idem *volumen_final* )\n",
        "\n",
        "-**volumen_comp_15_inicial**: Volumen inicial registrado en el tanque compensados a 15ºC.(Missing 26% idem *volumen_inicial*)\n",
        "\n",
        "-**volumen_comp_15_final**:Volumen final registrado en el tanque compensados a 15ºC.(Missing 39% idem *volumen_final* ) \n",
        "\n",
        "-**cantidad_comp_15**:Litros despachados compensados a 15ºC \n",
        "\n",
        "-**codigo_producto**: Código utilizado por la empresa para identificar productos entre nodos.\n",
        "                    \n",
        "                    -null 31%\n",
        "                    \n",
        "                    -Product 1 14%\n",
        "                    \n",
        "                    -Other 55%\n",
        "\n",
        "-**geo_latitud**: Geo Latitud (Missing **99%**)\n",
        "\n",
        "-**geo_longitud**: Geo Longitud (Missing **99%**)\n",
        "\n",
        "-**id_empresa**: Id único de empresa a la que pertenece la estación\n",
        "\n",
        "-**id_industria**: Id único de sector de la industria a la que pertenece la empresa(Missing 4%)\n",
        "\n",
        "-**industria**: Nombre de la industria (Missing 8%)\n",
        "        \n",
        "                 -Transportation 36%\n",
        "        \n",
        "                 -Service Station 30%\n",
        "        \n",
        "                 -Other 34%"
      ]
    },
    {
      "cell_type": "code",
      "execution_count": 4,
      "metadata": {
        "id": "6AnbvPGBeMqI"
      },
      "outputs": [],
      "source": [
        "# Importamos las librerías\n",
        "import pandas as pd\n",
        "import matplotlib.pyplot as plt\n",
        "import numpy\n",
        "\n",
        "\n",
        "import seaborn\n",
        "seaborn.set_context('talk')"
      ]
    },
    {
      "cell_type": "code",
      "execution_count": 5,
      "metadata": {
        "colab": {
          "base_uri": "https://localhost:8080/",
          "height": 473
        },
        "id": "8wXmpXCMeMqJ",
        "outputId": "59ce8763-591b-4938-c6be-ccc8bd87854a"
      },
      "outputs": [
        {
          "output_type": "execute_result",
          "data": {
            "text/plain": [
              "   unique_id_transa  id_transaccion  id_vehiculo  id_usuario  id_equipo  \\\n",
              "0   377220101009999            9999        90952       12708        377   \n",
              "1   504220101006768            6768       101866        6683        504   \n",
              "2   534220101007334            7334       123844       34280        534   \n",
              "3   878220101002206            2206       141769       46520        878   \n",
              "4   898220101005224            5224       129356       29688        898   \n",
              "5   898220101005225            5225       128959       29688        898   \n",
              "6   898220101005226            5226       128947       29688        898   \n",
              "7   898220101005227            5227       128956       29688        898   \n",
              "8  1042220101000129             129      1000827       58310       1042   \n",
              "9   454220101000604             604        58754        5893        454   \n",
              "\n",
              "  veh_site_id  pump_site_id  tank_site_id user_site_id  producto  ...  \\\n",
              "0      000001             1             1         0000       0.0  ...   \n",
              "1      000001             1             1         0000       0.0  ...   \n",
              "2      009593             1             1         3532       0.0  ...   \n",
              "3      000103             2             1         0000       0.0  ...   \n",
              "4      999014             2             1         0001       0.0  ...   \n",
              "5      050911             4             1         0001       0.0  ...   \n",
              "6      050710             4             1         0001       0.0  ...   \n",
              "7      050909             4             1         0001       0.0  ...   \n",
              "8      AAA500             1             1         0000       1.0  ...   \n",
              "9      000003             1             1         0000       0.0  ...   \n",
              "\n",
              "   temp_final  volumen_comp_15_inicial volumen_comp_15_final  \\\n",
              "0         NaN                      NaN                   NaN   \n",
              "1         NaN                      NaN                   NaN   \n",
              "2        30.2                 17836.50               17728.5   \n",
              "3         NaN                  6921.42                   NaN   \n",
              "4         NaN                      NaN                   NaN   \n",
              "5         NaN                      NaN                   NaN   \n",
              "6         NaN                      NaN                   NaN   \n",
              "7         NaN                      NaN                   NaN   \n",
              "8        24.0                 41084.10               40867.6   \n",
              "9         NaN                      NaN                   NaN   \n",
              "\n",
              "   cantidad_comp_15 codigo_producto geo_latitud geo_longitud id_empresa  \\\n",
              "0             0.000             NaN         NaN          NaN        238   \n",
              "1           158.416       Product 1         NaN          NaN         25   \n",
              "2           107.850            0000         NaN          NaN        273   \n",
              "3            80.002          GOM G3         NaN          NaN       1142   \n",
              "4           734.900      Diesel 500         NaN          NaN       1083   \n",
              "5           752.655      Diesel 500         NaN          NaN       1083   \n",
              "6           466.937      Diesel 500         NaN          NaN       1083   \n",
              "7           455.825      Diesel 500         NaN          NaN       1083   \n",
              "8           227.935             NaN         NaN          NaN        180   \n",
              "9           109.143       Product 1         NaN          NaN        118   \n",
              "\n",
              "   id_industria        industria  \n",
              "0           1.0   Transportation  \n",
              "1           5.0      Distributor  \n",
              "2           1.0   Transportation  \n",
              "3           2.0           Mining  \n",
              "4           1.0   Transportation  \n",
              "5           1.0   Transportation  \n",
              "6           1.0   Transportation  \n",
              "7           1.0   Transportation  \n",
              "8           4.0      Agriculture  \n",
              "9           6.0  Service Station  \n",
              "\n",
              "[10 rows x 32 columns]"
            ],
            "text/html": [
              "\n",
              "  <div id=\"df-c94b51f6-8a5b-4a48-ac1d-c79e83f8f330\">\n",
              "    <div class=\"colab-df-container\">\n",
              "      <div>\n",
              "<style scoped>\n",
              "    .dataframe tbody tr th:only-of-type {\n",
              "        vertical-align: middle;\n",
              "    }\n",
              "\n",
              "    .dataframe tbody tr th {\n",
              "        vertical-align: top;\n",
              "    }\n",
              "\n",
              "    .dataframe thead th {\n",
              "        text-align: right;\n",
              "    }\n",
              "</style>\n",
              "<table border=\"1\" class=\"dataframe\">\n",
              "  <thead>\n",
              "    <tr style=\"text-align: right;\">\n",
              "      <th></th>\n",
              "      <th>unique_id_transa</th>\n",
              "      <th>id_transaccion</th>\n",
              "      <th>id_vehiculo</th>\n",
              "      <th>id_usuario</th>\n",
              "      <th>id_equipo</th>\n",
              "      <th>veh_site_id</th>\n",
              "      <th>pump_site_id</th>\n",
              "      <th>tank_site_id</th>\n",
              "      <th>user_site_id</th>\n",
              "      <th>producto</th>\n",
              "      <th>...</th>\n",
              "      <th>temp_final</th>\n",
              "      <th>volumen_comp_15_inicial</th>\n",
              "      <th>volumen_comp_15_final</th>\n",
              "      <th>cantidad_comp_15</th>\n",
              "      <th>codigo_producto</th>\n",
              "      <th>geo_latitud</th>\n",
              "      <th>geo_longitud</th>\n",
              "      <th>id_empresa</th>\n",
              "      <th>id_industria</th>\n",
              "      <th>industria</th>\n",
              "    </tr>\n",
              "  </thead>\n",
              "  <tbody>\n",
              "    <tr>\n",
              "      <th>0</th>\n",
              "      <td>377220101009999</td>\n",
              "      <td>9999</td>\n",
              "      <td>90952</td>\n",
              "      <td>12708</td>\n",
              "      <td>377</td>\n",
              "      <td>000001</td>\n",
              "      <td>1</td>\n",
              "      <td>1</td>\n",
              "      <td>0000</td>\n",
              "      <td>0.0</td>\n",
              "      <td>...</td>\n",
              "      <td>NaN</td>\n",
              "      <td>NaN</td>\n",
              "      <td>NaN</td>\n",
              "      <td>0.000</td>\n",
              "      <td>NaN</td>\n",
              "      <td>NaN</td>\n",
              "      <td>NaN</td>\n",
              "      <td>238</td>\n",
              "      <td>1.0</td>\n",
              "      <td>Transportation</td>\n",
              "    </tr>\n",
              "    <tr>\n",
              "      <th>1</th>\n",
              "      <td>504220101006768</td>\n",
              "      <td>6768</td>\n",
              "      <td>101866</td>\n",
              "      <td>6683</td>\n",
              "      <td>504</td>\n",
              "      <td>000001</td>\n",
              "      <td>1</td>\n",
              "      <td>1</td>\n",
              "      <td>0000</td>\n",
              "      <td>0.0</td>\n",
              "      <td>...</td>\n",
              "      <td>NaN</td>\n",
              "      <td>NaN</td>\n",
              "      <td>NaN</td>\n",
              "      <td>158.416</td>\n",
              "      <td>Product 1</td>\n",
              "      <td>NaN</td>\n",
              "      <td>NaN</td>\n",
              "      <td>25</td>\n",
              "      <td>5.0</td>\n",
              "      <td>Distributor</td>\n",
              "    </tr>\n",
              "    <tr>\n",
              "      <th>2</th>\n",
              "      <td>534220101007334</td>\n",
              "      <td>7334</td>\n",
              "      <td>123844</td>\n",
              "      <td>34280</td>\n",
              "      <td>534</td>\n",
              "      <td>009593</td>\n",
              "      <td>1</td>\n",
              "      <td>1</td>\n",
              "      <td>3532</td>\n",
              "      <td>0.0</td>\n",
              "      <td>...</td>\n",
              "      <td>30.2</td>\n",
              "      <td>17836.50</td>\n",
              "      <td>17728.5</td>\n",
              "      <td>107.850</td>\n",
              "      <td>0000</td>\n",
              "      <td>NaN</td>\n",
              "      <td>NaN</td>\n",
              "      <td>273</td>\n",
              "      <td>1.0</td>\n",
              "      <td>Transportation</td>\n",
              "    </tr>\n",
              "    <tr>\n",
              "      <th>3</th>\n",
              "      <td>878220101002206</td>\n",
              "      <td>2206</td>\n",
              "      <td>141769</td>\n",
              "      <td>46520</td>\n",
              "      <td>878</td>\n",
              "      <td>000103</td>\n",
              "      <td>2</td>\n",
              "      <td>1</td>\n",
              "      <td>0000</td>\n",
              "      <td>0.0</td>\n",
              "      <td>...</td>\n",
              "      <td>NaN</td>\n",
              "      <td>6921.42</td>\n",
              "      <td>NaN</td>\n",
              "      <td>80.002</td>\n",
              "      <td>GOM G3</td>\n",
              "      <td>NaN</td>\n",
              "      <td>NaN</td>\n",
              "      <td>1142</td>\n",
              "      <td>2.0</td>\n",
              "      <td>Mining</td>\n",
              "    </tr>\n",
              "    <tr>\n",
              "      <th>4</th>\n",
              "      <td>898220101005224</td>\n",
              "      <td>5224</td>\n",
              "      <td>129356</td>\n",
              "      <td>29688</td>\n",
              "      <td>898</td>\n",
              "      <td>999014</td>\n",
              "      <td>2</td>\n",
              "      <td>1</td>\n",
              "      <td>0001</td>\n",
              "      <td>0.0</td>\n",
              "      <td>...</td>\n",
              "      <td>NaN</td>\n",
              "      <td>NaN</td>\n",
              "      <td>NaN</td>\n",
              "      <td>734.900</td>\n",
              "      <td>Diesel 500</td>\n",
              "      <td>NaN</td>\n",
              "      <td>NaN</td>\n",
              "      <td>1083</td>\n",
              "      <td>1.0</td>\n",
              "      <td>Transportation</td>\n",
              "    </tr>\n",
              "    <tr>\n",
              "      <th>5</th>\n",
              "      <td>898220101005225</td>\n",
              "      <td>5225</td>\n",
              "      <td>128959</td>\n",
              "      <td>29688</td>\n",
              "      <td>898</td>\n",
              "      <td>050911</td>\n",
              "      <td>4</td>\n",
              "      <td>1</td>\n",
              "      <td>0001</td>\n",
              "      <td>0.0</td>\n",
              "      <td>...</td>\n",
              "      <td>NaN</td>\n",
              "      <td>NaN</td>\n",
              "      <td>NaN</td>\n",
              "      <td>752.655</td>\n",
              "      <td>Diesel 500</td>\n",
              "      <td>NaN</td>\n",
              "      <td>NaN</td>\n",
              "      <td>1083</td>\n",
              "      <td>1.0</td>\n",
              "      <td>Transportation</td>\n",
              "    </tr>\n",
              "    <tr>\n",
              "      <th>6</th>\n",
              "      <td>898220101005226</td>\n",
              "      <td>5226</td>\n",
              "      <td>128947</td>\n",
              "      <td>29688</td>\n",
              "      <td>898</td>\n",
              "      <td>050710</td>\n",
              "      <td>4</td>\n",
              "      <td>1</td>\n",
              "      <td>0001</td>\n",
              "      <td>0.0</td>\n",
              "      <td>...</td>\n",
              "      <td>NaN</td>\n",
              "      <td>NaN</td>\n",
              "      <td>NaN</td>\n",
              "      <td>466.937</td>\n",
              "      <td>Diesel 500</td>\n",
              "      <td>NaN</td>\n",
              "      <td>NaN</td>\n",
              "      <td>1083</td>\n",
              "      <td>1.0</td>\n",
              "      <td>Transportation</td>\n",
              "    </tr>\n",
              "    <tr>\n",
              "      <th>7</th>\n",
              "      <td>898220101005227</td>\n",
              "      <td>5227</td>\n",
              "      <td>128956</td>\n",
              "      <td>29688</td>\n",
              "      <td>898</td>\n",
              "      <td>050909</td>\n",
              "      <td>4</td>\n",
              "      <td>1</td>\n",
              "      <td>0001</td>\n",
              "      <td>0.0</td>\n",
              "      <td>...</td>\n",
              "      <td>NaN</td>\n",
              "      <td>NaN</td>\n",
              "      <td>NaN</td>\n",
              "      <td>455.825</td>\n",
              "      <td>Diesel 500</td>\n",
              "      <td>NaN</td>\n",
              "      <td>NaN</td>\n",
              "      <td>1083</td>\n",
              "      <td>1.0</td>\n",
              "      <td>Transportation</td>\n",
              "    </tr>\n",
              "    <tr>\n",
              "      <th>8</th>\n",
              "      <td>1042220101000129</td>\n",
              "      <td>129</td>\n",
              "      <td>1000827</td>\n",
              "      <td>58310</td>\n",
              "      <td>1042</td>\n",
              "      <td>AAA500</td>\n",
              "      <td>1</td>\n",
              "      <td>1</td>\n",
              "      <td>0000</td>\n",
              "      <td>1.0</td>\n",
              "      <td>...</td>\n",
              "      <td>24.0</td>\n",
              "      <td>41084.10</td>\n",
              "      <td>40867.6</td>\n",
              "      <td>227.935</td>\n",
              "      <td>NaN</td>\n",
              "      <td>NaN</td>\n",
              "      <td>NaN</td>\n",
              "      <td>180</td>\n",
              "      <td>4.0</td>\n",
              "      <td>Agriculture</td>\n",
              "    </tr>\n",
              "    <tr>\n",
              "      <th>9</th>\n",
              "      <td>454220101000604</td>\n",
              "      <td>604</td>\n",
              "      <td>58754</td>\n",
              "      <td>5893</td>\n",
              "      <td>454</td>\n",
              "      <td>000003</td>\n",
              "      <td>1</td>\n",
              "      <td>1</td>\n",
              "      <td>0000</td>\n",
              "      <td>0.0</td>\n",
              "      <td>...</td>\n",
              "      <td>NaN</td>\n",
              "      <td>NaN</td>\n",
              "      <td>NaN</td>\n",
              "      <td>109.143</td>\n",
              "      <td>Product 1</td>\n",
              "      <td>NaN</td>\n",
              "      <td>NaN</td>\n",
              "      <td>118</td>\n",
              "      <td>6.0</td>\n",
              "      <td>Service Station</td>\n",
              "    </tr>\n",
              "  </tbody>\n",
              "</table>\n",
              "<p>10 rows × 32 columns</p>\n",
              "</div>\n",
              "      <button class=\"colab-df-convert\" onclick=\"convertToInteractive('df-c94b51f6-8a5b-4a48-ac1d-c79e83f8f330')\"\n",
              "              title=\"Convert this dataframe to an interactive table.\"\n",
              "              style=\"display:none;\">\n",
              "        \n",
              "  <svg xmlns=\"http://www.w3.org/2000/svg\" height=\"24px\"viewBox=\"0 0 24 24\"\n",
              "       width=\"24px\">\n",
              "    <path d=\"M0 0h24v24H0V0z\" fill=\"none\"/>\n",
              "    <path d=\"M18.56 5.44l.94 2.06.94-2.06 2.06-.94-2.06-.94-.94-2.06-.94 2.06-2.06.94zm-11 1L8.5 8.5l.94-2.06 2.06-.94-2.06-.94L8.5 2.5l-.94 2.06-2.06.94zm10 10l.94 2.06.94-2.06 2.06-.94-2.06-.94-.94-2.06-.94 2.06-2.06.94z\"/><path d=\"M17.41 7.96l-1.37-1.37c-.4-.4-.92-.59-1.43-.59-.52 0-1.04.2-1.43.59L10.3 9.45l-7.72 7.72c-.78.78-.78 2.05 0 2.83L4 21.41c.39.39.9.59 1.41.59.51 0 1.02-.2 1.41-.59l7.78-7.78 2.81-2.81c.8-.78.8-2.07 0-2.86zM5.41 20L4 18.59l7.72-7.72 1.47 1.35L5.41 20z\"/>\n",
              "  </svg>\n",
              "      </button>\n",
              "      \n",
              "  <style>\n",
              "    .colab-df-container {\n",
              "      display:flex;\n",
              "      flex-wrap:wrap;\n",
              "      gap: 12px;\n",
              "    }\n",
              "\n",
              "    .colab-df-convert {\n",
              "      background-color: #E8F0FE;\n",
              "      border: none;\n",
              "      border-radius: 50%;\n",
              "      cursor: pointer;\n",
              "      display: none;\n",
              "      fill: #1967D2;\n",
              "      height: 32px;\n",
              "      padding: 0 0 0 0;\n",
              "      width: 32px;\n",
              "    }\n",
              "\n",
              "    .colab-df-convert:hover {\n",
              "      background-color: #E2EBFA;\n",
              "      box-shadow: 0px 1px 2px rgba(60, 64, 67, 0.3), 0px 1px 3px 1px rgba(60, 64, 67, 0.15);\n",
              "      fill: #174EA6;\n",
              "    }\n",
              "\n",
              "    [theme=dark] .colab-df-convert {\n",
              "      background-color: #3B4455;\n",
              "      fill: #D2E3FC;\n",
              "    }\n",
              "\n",
              "    [theme=dark] .colab-df-convert:hover {\n",
              "      background-color: #434B5C;\n",
              "      box-shadow: 0px 1px 3px 1px rgba(0, 0, 0, 0.15);\n",
              "      filter: drop-shadow(0px 1px 2px rgba(0, 0, 0, 0.3));\n",
              "      fill: #FFFFFF;\n",
              "    }\n",
              "  </style>\n",
              "\n",
              "      <script>\n",
              "        const buttonEl =\n",
              "          document.querySelector('#df-c94b51f6-8a5b-4a48-ac1d-c79e83f8f330 button.colab-df-convert');\n",
              "        buttonEl.style.display =\n",
              "          google.colab.kernel.accessAllowed ? 'block' : 'none';\n",
              "\n",
              "        async function convertToInteractive(key) {\n",
              "          const element = document.querySelector('#df-c94b51f6-8a5b-4a48-ac1d-c79e83f8f330');\n",
              "          const dataTable =\n",
              "            await google.colab.kernel.invokeFunction('convertToInteractive',\n",
              "                                                     [key], {});\n",
              "          if (!dataTable) return;\n",
              "\n",
              "          const docLinkHtml = 'Like what you see? Visit the ' +\n",
              "            '<a target=\"_blank\" href=https://colab.research.google.com/notebooks/data_table.ipynb>data table notebook</a>'\n",
              "            + ' to learn more about interactive tables.';\n",
              "          element.innerHTML = '';\n",
              "          dataTable['output_type'] = 'display_data';\n",
              "          await google.colab.output.renderOutput(dataTable, element);\n",
              "          const docLink = document.createElement('div');\n",
              "          docLink.innerHTML = docLinkHtml;\n",
              "          element.appendChild(docLink);\n",
              "        }\n",
              "      </script>\n",
              "    </div>\n",
              "  </div>\n",
              "  "
            ]
          },
          "metadata": {},
          "execution_count": 5
        }
      ],
      "source": [
        "#Habilitar para google colab\n",
        "\n",
        "# Script para habilitar el ingreso a una BD local de Google Drive\n",
        "\n",
        "import io\n",
        "from pydrive.auth import GoogleAuth\n",
        "from pydrive.drive import GoogleDrive\n",
        "from google.colab import auth\n",
        "from oauth2client.client import GoogleCredentials\n",
        "\n",
        "def connect_to_drive():\n",
        "    auth.authenticate_user()\n",
        "    gauth = GoogleAuth()\n",
        "    gauth.credentials = GoogleCredentials.get_application_default()\n",
        "    return GoogleDrive(gauth)\n",
        "\n",
        "def read_pkl_from_drive(drive, id, filename):\n",
        "    downloaded = drive.CreateFile({'id':id}) \n",
        "    downloaded.GetContentFile(filename)  \n",
        "    return pd.read_pickle(filename)\n",
        "\n",
        "def read_csv_from_drive(drive, id, filename):\n",
        "    downloaded = drive.CreateFile({'id':id}) \n",
        "    downloaded.GetContentFile(filename)  \n",
        "    return pd.read_csv(\n",
        "        filename, \n",
        "        parse_dates = [\"timestamp\", \"timestamp_stop\"],\n",
        "        dtype = {\"departamento\" : str}\n",
        "    )\n",
        "\n",
        "drive = connect_to_drive()\n",
        "\n",
        "filename = '1Z6q3ZCzG2j-zhKh2n1xmBL-FoQjzd1KJ'\n",
        "df = read_csv_from_drive(\n",
        "    drive, \n",
        "    filename, \n",
        "    'transacciones_surtidor.csv'\n",
        ")\n",
        "df.head(10)\n"
      ]
    },
    {
      "cell_type": "code",
      "execution_count": 6,
      "metadata": {
        "id": "FArm-1mVeMqK"
      },
      "outputs": [],
      "source": [
        "# Importación local dataset (Nico)- eliminar para entregar\n",
        "\n",
        "#df = pandas.read_csv(r\"C:\\Users\\User\\Google Drive\\Colab Notebooks\\Mentoria\\transacciones_surtidor.csv\",\n",
        "    #parse_dates=[\"timestamp\", \"timestamp_stop\"],\n",
        "    #dtype={\"departamento\": str}\n",
        "#)\n",
        "#df.head()\n",
        "#parse_dates para que las columnas de fechas se lean como tal y no como tipo objeto.\n"
      ]
    },
    {
      "cell_type": "markdown",
      "metadata": {
        "id": "W9q5SEhaBD3y"
      },
      "source": [
        "#### 1. Análisis de datos faltantes y limpieza\n",
        "\n",
        "- Realizar un análisis de datos faltantes. Tener en cuenta estos datos pueden presentarse también de formas distintas de acuerdo a la variable (ej. \"Producto 0\" en la columna de `nombre_prod`).\n",
        "- Decidir qué columnas se imputarán y cuáles se descartarán.\n",
        "- Descartar las columnas que no se utilizarán para detectar las anomalías.\n",
        "- Descartar (si corresponden) las filas que no se consideran parte de este proyecto al tratarse de otro tipo de transacciones (ej. abastecimientos).\n",
        "\n",
        "> _Muchos valores que pueden considerarse como nulos o faltantes pueden en realidad tratarse de datos erróneos. Tener en cuenta esto al momento de analizarlos y luego imputarlos_."
      ]
    },
    {
      "cell_type": "markdown",
      "metadata": {
        "id": "6Vs8LiFI0McO"
      },
      "source": [
        "### 1. Análisis de datos faltantes y limpieza"
      ]
    },
    {
      "cell_type": "code",
      "source": [
        "df.shape"
      ],
      "metadata": {
        "colab": {
          "base_uri": "https://localhost:8080/"
        },
        "id": "WZUBw0W03VPS",
        "outputId": "df2e2bf2-acce-4d89-ec88-b5c2f7a3e63b"
      },
      "execution_count": 7,
      "outputs": [
        {
          "output_type": "execute_result",
          "data": {
            "text/plain": [
              "(561747, 32)"
            ]
          },
          "metadata": {},
          "execution_count": 7
        }
      ]
    },
    {
      "cell_type": "markdown",
      "metadata": {
        "id": "XUsnIRqIeMqM"
      },
      "source": [
        "Detección las variables con valor cero del dataset"
      ]
    },
    {
      "cell_type": "code",
      "execution_count": 8,
      "metadata": {
        "colab": {
          "base_uri": "https://localhost:8080/"
        },
        "id": "U_5LKfb2eMqM",
        "outputId": "a4da7f74-2396-4d75-a36c-3e65e3f2746b"
      },
      "outputs": [
        {
          "output_type": "execute_result",
          "data": {
            "text/plain": [
              "id_transaccion                104\n",
              "id_vehiculo                   107\n",
              "id_usuario                  16537\n",
              "pump_site_id                  212\n",
              "tank_site_id                  130\n",
              "producto                   399455\n",
              "id_bomba                       18\n",
              "cantidad                    26467\n",
              "veh_efficiency             476865\n",
              "volumen_inicial               730\n",
              "volumen_final                 657\n",
              "temp_inicial                    2\n",
              "temp_final                      5\n",
              "volumen_comp_15_inicial       730\n",
              "volumen_comp_15_final         669\n",
              "cantidad_comp_15            26467\n",
              "id_industria                19835\n",
              "dtype: int64"
            ]
          },
          "metadata": {},
          "execution_count": 8
        }
      ],
      "source": [
        "cols = df[df == 0].count(axis=0) # Cuenta la cantidad de ceros(0) en cada columna\n",
        "cols[cols > 0]"
      ]
    },
    {
      "cell_type": "markdown",
      "metadata": {
        "id": "kkinK7KAeMqN"
      },
      "source": [
        "Las variables \"producto\" y \"veh_efficiency\" tienen una cantidad significativa de valores 0 en relación a los casos totales."
      ]
    },
    {
      "cell_type": "markdown",
      "metadata": {
        "id": "EwJxUjgveMqN"
      },
      "source": [
        "La variable cantidad tiene 26467 valores 0(cero), lo cual llama la atención."
      ]
    },
    {
      "cell_type": "markdown",
      "source": [
        "Se seleccionan las transacciones con Cantidad = 0."
      ],
      "metadata": {
        "id": "cn0V3I9FWsHp"
      }
    },
    {
      "cell_type": "code",
      "source": [
        "df_null = df[(df.cantidad == 0)]\n",
        "#df_null"
      ],
      "metadata": {
        "id": "zEm-zfSf5WHw"
      },
      "execution_count": 9,
      "outputs": []
    },
    {
      "cell_type": "code",
      "source": [
        "df_null['dif'] = df_null['volumen_inicial']- df_null['volumen_final']"
      ],
      "metadata": {
        "colab": {
          "base_uri": "https://localhost:8080/"
        },
        "id": "aSW-HTT-ZOUQ",
        "outputId": "4e4c18f7-3bcc-49a0-e2ec-ef8b93e61689"
      },
      "execution_count": 10,
      "outputs": [
        {
          "output_type": "stream",
          "name": "stderr",
          "text": [
            "/usr/local/lib/python3.7/dist-packages/ipykernel_launcher.py:1: SettingWithCopyWarning: \n",
            "A value is trying to be set on a copy of a slice from a DataFrame.\n",
            "Try using .loc[row_indexer,col_indexer] = value instead\n",
            "\n",
            "See the caveats in the documentation: https://pandas.pydata.org/pandas-docs/stable/user_guide/indexing.html#returning-a-view-versus-a-copy\n",
            "  \"\"\"Entry point for launching an IPython kernel.\n"
          ]
        }
      ]
    },
    {
      "cell_type": "code",
      "source": [
        "df_null['cantidad imputada'] = df_null['cantidad'] + df_null['dif']"
      ],
      "metadata": {
        "colab": {
          "base_uri": "https://localhost:8080/"
        },
        "outputId": "7533b35b-5047-4ed7-cfcb-c88cbc5f4573",
        "id": "0VTDsxlxbUXx"
      },
      "execution_count": 11,
      "outputs": [
        {
          "output_type": "stream",
          "name": "stderr",
          "text": [
            "/usr/local/lib/python3.7/dist-packages/ipykernel_launcher.py:1: SettingWithCopyWarning: \n",
            "A value is trying to be set on a copy of a slice from a DataFrame.\n",
            "Try using .loc[row_indexer,col_indexer] = value instead\n",
            "\n",
            "See the caveats in the documentation: https://pandas.pydata.org/pandas-docs/stable/user_guide/indexing.html#returning-a-view-versus-a-copy\n",
            "  \"\"\"Entry point for launching an IPython kernel.\n"
          ]
        }
      ]
    },
    {
      "cell_type": "code",
      "source": [
        "df_null.head()"
      ],
      "metadata": {
        "colab": {
          "base_uri": "https://localhost:8080/",
          "height": 369
        },
        "id": "D1WMPH6TaJ2J",
        "outputId": "f077d044-3e6c-4485-b4ff-b93d1945c095"
      },
      "execution_count": 12,
      "outputs": [
        {
          "output_type": "execute_result",
          "data": {
            "text/plain": [
              "     unique_id_transa  id_transaccion  id_vehiculo  id_usuario  id_equipo  \\\n",
              "0     377220101009999            9999        90952       12708        377   \n",
              "19    159220101005492            5492        59716        5888        159   \n",
              "33    159220101005511            5511        59716        5888        159   \n",
              "166   833220101003656            3656       140721       46122        833   \n",
              "213   159220101005569            5569        59716        5888        159   \n",
              "\n",
              "    veh_site_id  pump_site_id  tank_site_id user_site_id  producto  ...  \\\n",
              "0        000001             1             1         0000       0.0  ...   \n",
              "19       000000            13             2         0000       0.0  ...   \n",
              "33       000000            13             2         0000       0.0  ...   \n",
              "166      000029             2             1         1664       0.0  ...   \n",
              "213      000000            13             2         0000       0.0  ...   \n",
              "\n",
              "     volumen_comp_15_final  cantidad_comp_15 codigo_producto  geo_latitud  \\\n",
              "0                      NaN               0.0             NaN          NaN   \n",
              "19                 22962.4               0.0     Nafta Super          NaN   \n",
              "33                 22914.5               0.0     Nafta Super          NaN   \n",
              "166                    NaN               0.0  Gasoil Grado 3          NaN   \n",
              "213                22597.3               0.0     Nafta Super          NaN   \n",
              "\n",
              "    geo_longitud id_empresa id_industria        industria   dif  \\\n",
              "0            NaN        238          1.0   Transportation   NaN   \n",
              "19           NaN         45          6.0  Service Station  19.7   \n",
              "33           NaN         45          6.0  Service Station  13.0   \n",
              "166          NaN       1084          2.0           Mining   NaN   \n",
              "213          NaN         45          6.0  Service Station  18.2   \n",
              "\n",
              "     cantidad imputada  \n",
              "0                  NaN  \n",
              "19                19.7  \n",
              "33                13.0  \n",
              "166                NaN  \n",
              "213               18.2  \n",
              "\n",
              "[5 rows x 34 columns]"
            ],
            "text/html": [
              "\n",
              "  <div id=\"df-d692b917-f439-4b22-b170-8299ab2704c8\">\n",
              "    <div class=\"colab-df-container\">\n",
              "      <div>\n",
              "<style scoped>\n",
              "    .dataframe tbody tr th:only-of-type {\n",
              "        vertical-align: middle;\n",
              "    }\n",
              "\n",
              "    .dataframe tbody tr th {\n",
              "        vertical-align: top;\n",
              "    }\n",
              "\n",
              "    .dataframe thead th {\n",
              "        text-align: right;\n",
              "    }\n",
              "</style>\n",
              "<table border=\"1\" class=\"dataframe\">\n",
              "  <thead>\n",
              "    <tr style=\"text-align: right;\">\n",
              "      <th></th>\n",
              "      <th>unique_id_transa</th>\n",
              "      <th>id_transaccion</th>\n",
              "      <th>id_vehiculo</th>\n",
              "      <th>id_usuario</th>\n",
              "      <th>id_equipo</th>\n",
              "      <th>veh_site_id</th>\n",
              "      <th>pump_site_id</th>\n",
              "      <th>tank_site_id</th>\n",
              "      <th>user_site_id</th>\n",
              "      <th>producto</th>\n",
              "      <th>...</th>\n",
              "      <th>volumen_comp_15_final</th>\n",
              "      <th>cantidad_comp_15</th>\n",
              "      <th>codigo_producto</th>\n",
              "      <th>geo_latitud</th>\n",
              "      <th>geo_longitud</th>\n",
              "      <th>id_empresa</th>\n",
              "      <th>id_industria</th>\n",
              "      <th>industria</th>\n",
              "      <th>dif</th>\n",
              "      <th>cantidad imputada</th>\n",
              "    </tr>\n",
              "  </thead>\n",
              "  <tbody>\n",
              "    <tr>\n",
              "      <th>0</th>\n",
              "      <td>377220101009999</td>\n",
              "      <td>9999</td>\n",
              "      <td>90952</td>\n",
              "      <td>12708</td>\n",
              "      <td>377</td>\n",
              "      <td>000001</td>\n",
              "      <td>1</td>\n",
              "      <td>1</td>\n",
              "      <td>0000</td>\n",
              "      <td>0.0</td>\n",
              "      <td>...</td>\n",
              "      <td>NaN</td>\n",
              "      <td>0.0</td>\n",
              "      <td>NaN</td>\n",
              "      <td>NaN</td>\n",
              "      <td>NaN</td>\n",
              "      <td>238</td>\n",
              "      <td>1.0</td>\n",
              "      <td>Transportation</td>\n",
              "      <td>NaN</td>\n",
              "      <td>NaN</td>\n",
              "    </tr>\n",
              "    <tr>\n",
              "      <th>19</th>\n",
              "      <td>159220101005492</td>\n",
              "      <td>5492</td>\n",
              "      <td>59716</td>\n",
              "      <td>5888</td>\n",
              "      <td>159</td>\n",
              "      <td>000000</td>\n",
              "      <td>13</td>\n",
              "      <td>2</td>\n",
              "      <td>0000</td>\n",
              "      <td>0.0</td>\n",
              "      <td>...</td>\n",
              "      <td>22962.4</td>\n",
              "      <td>0.0</td>\n",
              "      <td>Nafta Super</td>\n",
              "      <td>NaN</td>\n",
              "      <td>NaN</td>\n",
              "      <td>45</td>\n",
              "      <td>6.0</td>\n",
              "      <td>Service Station</td>\n",
              "      <td>19.7</td>\n",
              "      <td>19.7</td>\n",
              "    </tr>\n",
              "    <tr>\n",
              "      <th>33</th>\n",
              "      <td>159220101005511</td>\n",
              "      <td>5511</td>\n",
              "      <td>59716</td>\n",
              "      <td>5888</td>\n",
              "      <td>159</td>\n",
              "      <td>000000</td>\n",
              "      <td>13</td>\n",
              "      <td>2</td>\n",
              "      <td>0000</td>\n",
              "      <td>0.0</td>\n",
              "      <td>...</td>\n",
              "      <td>22914.5</td>\n",
              "      <td>0.0</td>\n",
              "      <td>Nafta Super</td>\n",
              "      <td>NaN</td>\n",
              "      <td>NaN</td>\n",
              "      <td>45</td>\n",
              "      <td>6.0</td>\n",
              "      <td>Service Station</td>\n",
              "      <td>13.0</td>\n",
              "      <td>13.0</td>\n",
              "    </tr>\n",
              "    <tr>\n",
              "      <th>166</th>\n",
              "      <td>833220101003656</td>\n",
              "      <td>3656</td>\n",
              "      <td>140721</td>\n",
              "      <td>46122</td>\n",
              "      <td>833</td>\n",
              "      <td>000029</td>\n",
              "      <td>2</td>\n",
              "      <td>1</td>\n",
              "      <td>1664</td>\n",
              "      <td>0.0</td>\n",
              "      <td>...</td>\n",
              "      <td>NaN</td>\n",
              "      <td>0.0</td>\n",
              "      <td>Gasoil Grado 3</td>\n",
              "      <td>NaN</td>\n",
              "      <td>NaN</td>\n",
              "      <td>1084</td>\n",
              "      <td>2.0</td>\n",
              "      <td>Mining</td>\n",
              "      <td>NaN</td>\n",
              "      <td>NaN</td>\n",
              "    </tr>\n",
              "    <tr>\n",
              "      <th>213</th>\n",
              "      <td>159220101005569</td>\n",
              "      <td>5569</td>\n",
              "      <td>59716</td>\n",
              "      <td>5888</td>\n",
              "      <td>159</td>\n",
              "      <td>000000</td>\n",
              "      <td>13</td>\n",
              "      <td>2</td>\n",
              "      <td>0000</td>\n",
              "      <td>0.0</td>\n",
              "      <td>...</td>\n",
              "      <td>22597.3</td>\n",
              "      <td>0.0</td>\n",
              "      <td>Nafta Super</td>\n",
              "      <td>NaN</td>\n",
              "      <td>NaN</td>\n",
              "      <td>45</td>\n",
              "      <td>6.0</td>\n",
              "      <td>Service Station</td>\n",
              "      <td>18.2</td>\n",
              "      <td>18.2</td>\n",
              "    </tr>\n",
              "  </tbody>\n",
              "</table>\n",
              "<p>5 rows × 34 columns</p>\n",
              "</div>\n",
              "      <button class=\"colab-df-convert\" onclick=\"convertToInteractive('df-d692b917-f439-4b22-b170-8299ab2704c8')\"\n",
              "              title=\"Convert this dataframe to an interactive table.\"\n",
              "              style=\"display:none;\">\n",
              "        \n",
              "  <svg xmlns=\"http://www.w3.org/2000/svg\" height=\"24px\"viewBox=\"0 0 24 24\"\n",
              "       width=\"24px\">\n",
              "    <path d=\"M0 0h24v24H0V0z\" fill=\"none\"/>\n",
              "    <path d=\"M18.56 5.44l.94 2.06.94-2.06 2.06-.94-2.06-.94-.94-2.06-.94 2.06-2.06.94zm-11 1L8.5 8.5l.94-2.06 2.06-.94-2.06-.94L8.5 2.5l-.94 2.06-2.06.94zm10 10l.94 2.06.94-2.06 2.06-.94-2.06-.94-.94-2.06-.94 2.06-2.06.94z\"/><path d=\"M17.41 7.96l-1.37-1.37c-.4-.4-.92-.59-1.43-.59-.52 0-1.04.2-1.43.59L10.3 9.45l-7.72 7.72c-.78.78-.78 2.05 0 2.83L4 21.41c.39.39.9.59 1.41.59.51 0 1.02-.2 1.41-.59l7.78-7.78 2.81-2.81c.8-.78.8-2.07 0-2.86zM5.41 20L4 18.59l7.72-7.72 1.47 1.35L5.41 20z\"/>\n",
              "  </svg>\n",
              "      </button>\n",
              "      \n",
              "  <style>\n",
              "    .colab-df-container {\n",
              "      display:flex;\n",
              "      flex-wrap:wrap;\n",
              "      gap: 12px;\n",
              "    }\n",
              "\n",
              "    .colab-df-convert {\n",
              "      background-color: #E8F0FE;\n",
              "      border: none;\n",
              "      border-radius: 50%;\n",
              "      cursor: pointer;\n",
              "      display: none;\n",
              "      fill: #1967D2;\n",
              "      height: 32px;\n",
              "      padding: 0 0 0 0;\n",
              "      width: 32px;\n",
              "    }\n",
              "\n",
              "    .colab-df-convert:hover {\n",
              "      background-color: #E2EBFA;\n",
              "      box-shadow: 0px 1px 2px rgba(60, 64, 67, 0.3), 0px 1px 3px 1px rgba(60, 64, 67, 0.15);\n",
              "      fill: #174EA6;\n",
              "    }\n",
              "\n",
              "    [theme=dark] .colab-df-convert {\n",
              "      background-color: #3B4455;\n",
              "      fill: #D2E3FC;\n",
              "    }\n",
              "\n",
              "    [theme=dark] .colab-df-convert:hover {\n",
              "      background-color: #434B5C;\n",
              "      box-shadow: 0px 1px 3px 1px rgba(0, 0, 0, 0.15);\n",
              "      filter: drop-shadow(0px 1px 2px rgba(0, 0, 0, 0.3));\n",
              "      fill: #FFFFFF;\n",
              "    }\n",
              "  </style>\n",
              "\n",
              "      <script>\n",
              "        const buttonEl =\n",
              "          document.querySelector('#df-d692b917-f439-4b22-b170-8299ab2704c8 button.colab-df-convert');\n",
              "        buttonEl.style.display =\n",
              "          google.colab.kernel.accessAllowed ? 'block' : 'none';\n",
              "\n",
              "        async function convertToInteractive(key) {\n",
              "          const element = document.querySelector('#df-d692b917-f439-4b22-b170-8299ab2704c8');\n",
              "          const dataTable =\n",
              "            await google.colab.kernel.invokeFunction('convertToInteractive',\n",
              "                                                     [key], {});\n",
              "          if (!dataTable) return;\n",
              "\n",
              "          const docLinkHtml = 'Like what you see? Visit the ' +\n",
              "            '<a target=\"_blank\" href=https://colab.research.google.com/notebooks/data_table.ipynb>data table notebook</a>'\n",
              "            + ' to learn more about interactive tables.';\n",
              "          element.innerHTML = '';\n",
              "          dataTable['output_type'] = 'display_data';\n",
              "          await google.colab.output.renderOutput(dataTable, element);\n",
              "          const docLink = document.createElement('div');\n",
              "          docLink.innerHTML = docLinkHtml;\n",
              "          element.appendChild(docLink);\n",
              "        }\n",
              "      </script>\n",
              "    </div>\n",
              "  </div>\n",
              "  "
            ]
          },
          "metadata": {},
          "execution_count": 12
        }
      ]
    },
    {
      "cell_type": "code",
      "source": [
        ""
      ],
      "metadata": {
        "id": "EtzUZeUfaNPi"
      },
      "execution_count": 12,
      "outputs": []
    },
    {
      "cell_type": "code",
      "source": [
        "nul_error = df_null.codigo_error.value_counts()\\\n",
        "    .reset_index()\\\n",
        "    .rename(columns={'index': 'Nulos', 'codigo_error': 'frequency'})\n",
        "# Calculamos las frecuencias relativas acumuladas\n",
        "frecuencia_relativa = nul_error['frequency'].cumsum()\n",
        "total_defectos = nul_error[\"frequency\"].sum()\n",
        "nul_error[\"relativa_acum_porcentual\"] = frecuencia_relativa/total_defectos*100\n",
        "nul_error[:30]"
      ],
      "metadata": {
        "colab": {
          "base_uri": "https://localhost:8080/",
          "height": 864
        },
        "id": "m5RlQNW_7dZw",
        "outputId": "b36c6471-2be3-475f-9c9b-8bb7598e149a"
      },
      "execution_count": 13,
      "outputs": [
        {
          "output_type": "execute_result",
          "data": {
            "text/plain": [
              "   Nulos  frequency  relativa_acum_porcentual\n",
              "0     UE       7416                 28.019798\n",
              "1     C1       5907                 50.338157\n",
              "2     ES       2938                 61.438773\n",
              "3     H2       2845                 72.188008\n",
              "4     UL       1776                 78.898251\n",
              "5     C4       1699                 85.317565\n",
              "6     BF       1188                 89.806174\n",
              "7     H1        790                 92.791023\n",
              "8     H4        701                 95.439604\n",
              "9     BE        371                 96.841350\n",
              "10    BD        364                 98.216647\n",
              "11    RS        172                 98.866513\n",
              "12    C0        144                 99.410587\n",
              "13    UD         61                 99.641062\n",
              "14    C2         33                 99.765746\n",
              "15    B0         18                 99.833755\n",
              "16    PR         12                 99.879095\n",
              "17    00          7                 99.905543\n",
              "18    RC          6                 99.928212\n",
              "19    BA          5                 99.947104\n",
              "20    ER          4                 99.962217\n",
              "21    H5          3                 99.973552\n",
              "22    E1          2                 99.981109\n",
              "23    U3          2                 99.988665\n",
              "24    U4          2                 99.996222\n",
              "25    BR          1                100.000000"
            ],
            "text/html": [
              "\n",
              "  <div id=\"df-19a2a1b6-cbca-48fe-9ea9-0e5ad8569bbf\">\n",
              "    <div class=\"colab-df-container\">\n",
              "      <div>\n",
              "<style scoped>\n",
              "    .dataframe tbody tr th:only-of-type {\n",
              "        vertical-align: middle;\n",
              "    }\n",
              "\n",
              "    .dataframe tbody tr th {\n",
              "        vertical-align: top;\n",
              "    }\n",
              "\n",
              "    .dataframe thead th {\n",
              "        text-align: right;\n",
              "    }\n",
              "</style>\n",
              "<table border=\"1\" class=\"dataframe\">\n",
              "  <thead>\n",
              "    <tr style=\"text-align: right;\">\n",
              "      <th></th>\n",
              "      <th>Nulos</th>\n",
              "      <th>frequency</th>\n",
              "      <th>relativa_acum_porcentual</th>\n",
              "    </tr>\n",
              "  </thead>\n",
              "  <tbody>\n",
              "    <tr>\n",
              "      <th>0</th>\n",
              "      <td>UE</td>\n",
              "      <td>7416</td>\n",
              "      <td>28.019798</td>\n",
              "    </tr>\n",
              "    <tr>\n",
              "      <th>1</th>\n",
              "      <td>C1</td>\n",
              "      <td>5907</td>\n",
              "      <td>50.338157</td>\n",
              "    </tr>\n",
              "    <tr>\n",
              "      <th>2</th>\n",
              "      <td>ES</td>\n",
              "      <td>2938</td>\n",
              "      <td>61.438773</td>\n",
              "    </tr>\n",
              "    <tr>\n",
              "      <th>3</th>\n",
              "      <td>H2</td>\n",
              "      <td>2845</td>\n",
              "      <td>72.188008</td>\n",
              "    </tr>\n",
              "    <tr>\n",
              "      <th>4</th>\n",
              "      <td>UL</td>\n",
              "      <td>1776</td>\n",
              "      <td>78.898251</td>\n",
              "    </tr>\n",
              "    <tr>\n",
              "      <th>5</th>\n",
              "      <td>C4</td>\n",
              "      <td>1699</td>\n",
              "      <td>85.317565</td>\n",
              "    </tr>\n",
              "    <tr>\n",
              "      <th>6</th>\n",
              "      <td>BF</td>\n",
              "      <td>1188</td>\n",
              "      <td>89.806174</td>\n",
              "    </tr>\n",
              "    <tr>\n",
              "      <th>7</th>\n",
              "      <td>H1</td>\n",
              "      <td>790</td>\n",
              "      <td>92.791023</td>\n",
              "    </tr>\n",
              "    <tr>\n",
              "      <th>8</th>\n",
              "      <td>H4</td>\n",
              "      <td>701</td>\n",
              "      <td>95.439604</td>\n",
              "    </tr>\n",
              "    <tr>\n",
              "      <th>9</th>\n",
              "      <td>BE</td>\n",
              "      <td>371</td>\n",
              "      <td>96.841350</td>\n",
              "    </tr>\n",
              "    <tr>\n",
              "      <th>10</th>\n",
              "      <td>BD</td>\n",
              "      <td>364</td>\n",
              "      <td>98.216647</td>\n",
              "    </tr>\n",
              "    <tr>\n",
              "      <th>11</th>\n",
              "      <td>RS</td>\n",
              "      <td>172</td>\n",
              "      <td>98.866513</td>\n",
              "    </tr>\n",
              "    <tr>\n",
              "      <th>12</th>\n",
              "      <td>C0</td>\n",
              "      <td>144</td>\n",
              "      <td>99.410587</td>\n",
              "    </tr>\n",
              "    <tr>\n",
              "      <th>13</th>\n",
              "      <td>UD</td>\n",
              "      <td>61</td>\n",
              "      <td>99.641062</td>\n",
              "    </tr>\n",
              "    <tr>\n",
              "      <th>14</th>\n",
              "      <td>C2</td>\n",
              "      <td>33</td>\n",
              "      <td>99.765746</td>\n",
              "    </tr>\n",
              "    <tr>\n",
              "      <th>15</th>\n",
              "      <td>B0</td>\n",
              "      <td>18</td>\n",
              "      <td>99.833755</td>\n",
              "    </tr>\n",
              "    <tr>\n",
              "      <th>16</th>\n",
              "      <td>PR</td>\n",
              "      <td>12</td>\n",
              "      <td>99.879095</td>\n",
              "    </tr>\n",
              "    <tr>\n",
              "      <th>17</th>\n",
              "      <td>00</td>\n",
              "      <td>7</td>\n",
              "      <td>99.905543</td>\n",
              "    </tr>\n",
              "    <tr>\n",
              "      <th>18</th>\n",
              "      <td>RC</td>\n",
              "      <td>6</td>\n",
              "      <td>99.928212</td>\n",
              "    </tr>\n",
              "    <tr>\n",
              "      <th>19</th>\n",
              "      <td>BA</td>\n",
              "      <td>5</td>\n",
              "      <td>99.947104</td>\n",
              "    </tr>\n",
              "    <tr>\n",
              "      <th>20</th>\n",
              "      <td>ER</td>\n",
              "      <td>4</td>\n",
              "      <td>99.962217</td>\n",
              "    </tr>\n",
              "    <tr>\n",
              "      <th>21</th>\n",
              "      <td>H5</td>\n",
              "      <td>3</td>\n",
              "      <td>99.973552</td>\n",
              "    </tr>\n",
              "    <tr>\n",
              "      <th>22</th>\n",
              "      <td>E1</td>\n",
              "      <td>2</td>\n",
              "      <td>99.981109</td>\n",
              "    </tr>\n",
              "    <tr>\n",
              "      <th>23</th>\n",
              "      <td>U3</td>\n",
              "      <td>2</td>\n",
              "      <td>99.988665</td>\n",
              "    </tr>\n",
              "    <tr>\n",
              "      <th>24</th>\n",
              "      <td>U4</td>\n",
              "      <td>2</td>\n",
              "      <td>99.996222</td>\n",
              "    </tr>\n",
              "    <tr>\n",
              "      <th>25</th>\n",
              "      <td>BR</td>\n",
              "      <td>1</td>\n",
              "      <td>100.000000</td>\n",
              "    </tr>\n",
              "  </tbody>\n",
              "</table>\n",
              "</div>\n",
              "      <button class=\"colab-df-convert\" onclick=\"convertToInteractive('df-19a2a1b6-cbca-48fe-9ea9-0e5ad8569bbf')\"\n",
              "              title=\"Convert this dataframe to an interactive table.\"\n",
              "              style=\"display:none;\">\n",
              "        \n",
              "  <svg xmlns=\"http://www.w3.org/2000/svg\" height=\"24px\"viewBox=\"0 0 24 24\"\n",
              "       width=\"24px\">\n",
              "    <path d=\"M0 0h24v24H0V0z\" fill=\"none\"/>\n",
              "    <path d=\"M18.56 5.44l.94 2.06.94-2.06 2.06-.94-2.06-.94-.94-2.06-.94 2.06-2.06.94zm-11 1L8.5 8.5l.94-2.06 2.06-.94-2.06-.94L8.5 2.5l-.94 2.06-2.06.94zm10 10l.94 2.06.94-2.06 2.06-.94-2.06-.94-.94-2.06-.94 2.06-2.06.94z\"/><path d=\"M17.41 7.96l-1.37-1.37c-.4-.4-.92-.59-1.43-.59-.52 0-1.04.2-1.43.59L10.3 9.45l-7.72 7.72c-.78.78-.78 2.05 0 2.83L4 21.41c.39.39.9.59 1.41.59.51 0 1.02-.2 1.41-.59l7.78-7.78 2.81-2.81c.8-.78.8-2.07 0-2.86zM5.41 20L4 18.59l7.72-7.72 1.47 1.35L5.41 20z\"/>\n",
              "  </svg>\n",
              "      </button>\n",
              "      \n",
              "  <style>\n",
              "    .colab-df-container {\n",
              "      display:flex;\n",
              "      flex-wrap:wrap;\n",
              "      gap: 12px;\n",
              "    }\n",
              "\n",
              "    .colab-df-convert {\n",
              "      background-color: #E8F0FE;\n",
              "      border: none;\n",
              "      border-radius: 50%;\n",
              "      cursor: pointer;\n",
              "      display: none;\n",
              "      fill: #1967D2;\n",
              "      height: 32px;\n",
              "      padding: 0 0 0 0;\n",
              "      width: 32px;\n",
              "    }\n",
              "\n",
              "    .colab-df-convert:hover {\n",
              "      background-color: #E2EBFA;\n",
              "      box-shadow: 0px 1px 2px rgba(60, 64, 67, 0.3), 0px 1px 3px 1px rgba(60, 64, 67, 0.15);\n",
              "      fill: #174EA6;\n",
              "    }\n",
              "\n",
              "    [theme=dark] .colab-df-convert {\n",
              "      background-color: #3B4455;\n",
              "      fill: #D2E3FC;\n",
              "    }\n",
              "\n",
              "    [theme=dark] .colab-df-convert:hover {\n",
              "      background-color: #434B5C;\n",
              "      box-shadow: 0px 1px 3px 1px rgba(0, 0, 0, 0.15);\n",
              "      filter: drop-shadow(0px 1px 2px rgba(0, 0, 0, 0.3));\n",
              "      fill: #FFFFFF;\n",
              "    }\n",
              "  </style>\n",
              "\n",
              "      <script>\n",
              "        const buttonEl =\n",
              "          document.querySelector('#df-19a2a1b6-cbca-48fe-9ea9-0e5ad8569bbf button.colab-df-convert');\n",
              "        buttonEl.style.display =\n",
              "          google.colab.kernel.accessAllowed ? 'block' : 'none';\n",
              "\n",
              "        async function convertToInteractive(key) {\n",
              "          const element = document.querySelector('#df-19a2a1b6-cbca-48fe-9ea9-0e5ad8569bbf');\n",
              "          const dataTable =\n",
              "            await google.colab.kernel.invokeFunction('convertToInteractive',\n",
              "                                                     [key], {});\n",
              "          if (!dataTable) return;\n",
              "\n",
              "          const docLinkHtml = 'Like what you see? Visit the ' +\n",
              "            '<a target=\"_blank\" href=https://colab.research.google.com/notebooks/data_table.ipynb>data table notebook</a>'\n",
              "            + ' to learn more about interactive tables.';\n",
              "          element.innerHTML = '';\n",
              "          dataTable['output_type'] = 'display_data';\n",
              "          await google.colab.output.renderOutput(dataTable, element);\n",
              "          const docLink = document.createElement('div');\n",
              "          docLink.innerHTML = docLinkHtml;\n",
              "          element.appendChild(docLink);\n",
              "        }\n",
              "      </script>\n",
              "    </div>\n",
              "  </div>\n",
              "  "
            ]
          },
          "metadata": {},
          "execution_count": 13
        }
      ]
    },
    {
      "cell_type": "code",
      "source": [
        "df_null_errorUE = df_null[(df_null.codigo_error == 'UE')]"
      ],
      "metadata": {
        "id": "gsg38MYQ71UP"
      },
      "execution_count": 14,
      "outputs": []
    },
    {
      "cell_type": "code",
      "source": [
        "                                             "
      ],
      "metadata": {
        "id": "4zPkef4oeZoa"
      },
      "execution_count": 14,
      "outputs": []
    },
    {
      "cell_type": "code",
      "execution_count": 15,
      "metadata": {
        "colab": {
          "base_uri": "https://localhost:8080/"
        },
        "id": "CGxHjjIdeMqN",
        "outputId": "499fc9fa-f976-42d7-ca9a-d92f5d454c6f"
      },
      "outputs": [
        {
          "output_type": "stream",
          "name": "stdout",
          "text": [
            "<class 'pandas.core.frame.DataFrame'>\n",
            "RangeIndex: 561747 entries, 0 to 561746\n",
            "Data columns (total 32 columns):\n",
            " #   Column                   Non-Null Count   Dtype         \n",
            "---  ------                   --------------   -----         \n",
            " 0   unique_id_transa         561747 non-null  int64         \n",
            " 1   id_transaccion           561747 non-null  int64         \n",
            " 2   id_vehiculo              561747 non-null  int64         \n",
            " 3   id_usuario               561747 non-null  int64         \n",
            " 4   id_equipo                561747 non-null  int64         \n",
            " 5   veh_site_id              561740 non-null  object        \n",
            " 6   pump_site_id             561747 non-null  int64         \n",
            " 7   tank_site_id             561747 non-null  int64         \n",
            " 8   user_site_id             545281 non-null  object        \n",
            " 9   producto                 561644 non-null  float64       \n",
            " 10  id_bomba                 561747 non-null  int64         \n",
            " 11  id_tanque                561747 non-null  int64         \n",
            " 12  departamento             561747 non-null  object        \n",
            " 13  cantidad                 561747 non-null  float64       \n",
            " 14  codigo_error             561747 non-null  object        \n",
            " 15  timestamp                561747 non-null  datetime64[ns]\n",
            " 16  timestamp_stop           561747 non-null  datetime64[ns]\n",
            " 17  nombre_prod              561747 non-null  object        \n",
            " 18  veh_efficiency           561747 non-null  float64       \n",
            " 19  volumen_inicial          414675 non-null  float64       \n",
            " 20  volumen_final            344272 non-null  float64       \n",
            " 21  temp_inicial             414675 non-null  float64       \n",
            " 22  temp_final               344272 non-null  float64       \n",
            " 23  volumen_comp_15_inicial  414675 non-null  float64       \n",
            " 24  volumen_comp_15_final    344272 non-null  float64       \n",
            " 25  cantidad_comp_15         561747 non-null  float64       \n",
            " 26  codigo_producto          386217 non-null  object        \n",
            " 27  geo_latitud              6392 non-null    float64       \n",
            " 28  geo_longitud             6392 non-null    float64       \n",
            " 29  id_empresa               561747 non-null  int64         \n",
            " 30  id_industria             538464 non-null  float64       \n",
            " 31  industria                518629 non-null  object        \n",
            "dtypes: datetime64[ns](2), float64(13), int64(10), object(7)\n",
            "memory usage: 137.1+ MB\n"
          ]
        }
      ],
      "source": [
        "df.info() #tipo de datos de cada columna"
      ]
    },
    {
      "cell_type": "code",
      "execution_count": 16,
      "metadata": {
        "colab": {
          "base_uri": "https://localhost:8080/"
        },
        "id": "fq4GqRp9eMqO",
        "outputId": "41edaf86-efde-498c-c1fd-67f12c44444b"
      },
      "outputs": [
        {
          "output_type": "execute_result",
          "data": {
            "text/plain": [
              "unique_id_transa                0\n",
              "id_transaccion                  0\n",
              "id_vehiculo                     0\n",
              "id_usuario                      0\n",
              "id_equipo                       0\n",
              "veh_site_id                     7\n",
              "pump_site_id                    0\n",
              "tank_site_id                    0\n",
              "user_site_id                16466\n",
              "producto                      103\n",
              "id_bomba                        0\n",
              "id_tanque                       0\n",
              "departamento                    0\n",
              "cantidad                        0\n",
              "codigo_error                    0\n",
              "timestamp                       0\n",
              "timestamp_stop                  0\n",
              "nombre_prod                     0\n",
              "veh_efficiency                  0\n",
              "volumen_inicial            147072\n",
              "volumen_final              217475\n",
              "temp_inicial               147072\n",
              "temp_final                 217475\n",
              "volumen_comp_15_inicial    147072\n",
              "volumen_comp_15_final      217475\n",
              "cantidad_comp_15                0\n",
              "codigo_producto            175530\n",
              "geo_latitud                555355\n",
              "geo_longitud               555355\n",
              "id_empresa                      0\n",
              "id_industria                23283\n",
              "industria                   43118\n",
              "dtype: int64"
            ]
          },
          "metadata": {},
          "execution_count": 16
        }
      ],
      "source": [
        "missing_values_count = df.isna().sum() # suma todos los Nan en cada columna\n",
        "missing_values_count"
      ]
    },
    {
      "cell_type": "markdown",
      "metadata": {
        "id": "i0wSgtAleMqO"
      },
      "source": [
        "Veamos cual es el porcentaje de datos faltantes que tiene el dataset."
      ]
    },
    {
      "cell_type": "code",
      "execution_count": 17,
      "metadata": {
        "colab": {
          "base_uri": "https://localhost:8080/"
        },
        "id": "wM_dN0ZAeMqO",
        "outputId": "0fadc579-fa5f-480d-a1cd-48775573ecfb"
      },
      "outputs": [
        {
          "output_type": "execute_result",
          "data": {
            "text/plain": [
              "13.700885362983692"
            ]
          },
          "metadata": {},
          "execution_count": 17
        }
      ],
      "source": [
        "# how many total missing values do we have?\n",
        "total_cells = numpy.product(df.shape)\n",
        "total_missing = missing_values_count.sum()\n",
        "\n",
        "# percent of data that is missing\n",
        "(total_missing/total_cells) * 100"
      ]
    },
    {
      "cell_type": "markdown",
      "metadata": {
        "id": "C8NyUN5YeMqP"
      },
      "source": [
        "Un 14% de datos son faltantes, concentrados en algunas variables. Usando el paquete missingno podemos hacer un análisis gráfico de los datos faltantes."
      ]
    },
    {
      "cell_type": "code",
      "execution_count": 18,
      "metadata": {
        "colab": {
          "base_uri": "https://localhost:8080/",
          "height": 559
        },
        "id": "syzPJ-NLeMqP",
        "outputId": "5ed80905-67ce-4f6a-d996-049672a6c635"
      },
      "outputs": [
        {
          "output_type": "execute_result",
          "data": {
            "text/plain": [
              "<matplotlib.axes._subplots.AxesSubplot at 0x7faba9bf6dd0>"
            ]
          },
          "metadata": {},
          "execution_count": 18
        },
        {
          "output_type": "display_data",
          "data": {
            "text/plain": [
              "<Figure size 864x432 with 3 Axes>"
            ],
            "image/png": "[encoded data removed]"
          },
          "metadata": {
            "needs_background": "light"
          }
        }
      ],
      "source": [
        "import missingno as msno\n",
        "msno.bar(df,figsize=(12, 6), sort=\"ascending\",fontsize=12, color='steelblue') \n",
        "\n",
        "#color='steelblue')\n",
        "#color=\"dodgerblue\")\n",
        "#color=\"tab:green\")"
      ]
    },
    {
      "cell_type": "markdown",
      "metadata": {
        "id": "8cvqQzELeMqP"
      },
      "source": [
        "Podemos ver que catorce columnas no tienen todos sus valores: 'geo_longitud', 'geo_latitud', 'volumen_final', 'volumen_comp_15_final', 'temp_final', 'codigo_producto', 'volumen_inicial', 'temp_inicial', 'volumen_comp_15_inicial', 'industria', 'id_industria', 'user_site_id', 'producto', 'veh_site_id'."
      ]
    },
    {
      "cell_type": "markdown",
      "metadata": {
        "id": "yQ57tpbVeMqQ"
      },
      "source": [
        "Podemos visualizar las posiciones en el dataset de los datos faltantes usando la matrix(). El gráfico aparece en blanco siempre que falten valores."
      ]
    },
    {
      "cell_type": "code",
      "execution_count": 19,
      "metadata": {
        "colab": {
          "base_uri": "https://localhost:8080/",
          "height": 514
        },
        "id": "GR2m0XzDeMqQ",
        "outputId": "3794c2c7-1843-4deb-c91c-e43cdb698b1c"
      },
      "outputs": [
        {
          "output_type": "execute_result",
          "data": {
            "text/plain": [
              "<matplotlib.axes._subplots.AxesSubplot at 0x7fabae2a3150>"
            ]
          },
          "metadata": {},
          "execution_count": 19
        },
        {
          "output_type": "display_data",
          "data": {
            "text/plain": [
              "<Figure size 864x432 with 2 Axes>"
            ],
            "image/png": "[encoded data removed]"
          },
          "metadata": {
            "needs_background": "light"
          }
        }
      ],
      "source": [
        "msno.matrix(df,figsize=(12, 6), fontsize=12, color=[0,0,0.1])"
      ]
    },
    {
      "cell_type": "markdown",
      "metadata": {
        "id": "zDnJRucTeMqQ"
      },
      "source": [
        "Se observa una correlación entre los datos faltantes de las variables 'volumen_inicial', 'volumen_comp_15_inicial' y 'temp_inicial' (missing 26%) así como una correlación entre 'volumen_final', 'volumen_comp_15_final' y 'temp_final' (missing 39%)."
      ]
    },
    {
      "cell_type": "markdown",
      "metadata": {
        "id": "K69BcdOleMqQ"
      },
      "source": [
        "La existencia de correlacion entre la ausencia de datos faltantes en determinadas variables es una muestra de la falta de aleatoriedad del mecanismo de perdida. Aun asi, puede existir una relacion entre las variables que permita imputar el dato perdido como funcion de los datos relevados."
      ]
    },
    {
      "cell_type": "markdown",
      "source": [
        "      Actividad 1:\n",
        "                  a) Seleccionar columnas que no tienen datos faltantes\n",
        "                  b) Sacar geo_lon, geo_lat, codigo_producto, producto\n",
        "                  c) Limpiar columna Producto(Diego)\n",
        "                  d) Eliminar abastecimientos\n",
        "                  e) Eliminar categoricas que tengan demasiadas categorías"
      ],
      "metadata": {
        "id": "Jthk51E4tWMh"
      }
    },
    {
      "cell_type": "markdown",
      "metadata": {
        "id": "Hm5DEn1beMqR"
      },
      "source": [
        "Las variables `geo_latitud` y `geo_longitud` no son tenidos en cuenta para la imputación debido a la escasa disponibilidad de datos."
      ]
    },
    {
      "cell_type": "markdown",
      "source": [
        "La variable `codigo_producto`  se elimina dado que es un campo asignado arbitrariamente. Por lo tanto debería ser desestimado para la imputación."
      ],
      "metadata": {
        "id": "yR80teUzX73r"
      }
    },
    {
      "cell_type": "markdown",
      "source": [
        "La variable `producto` será transformada para poder tenerla en cuenta en el OHE."
      ],
      "metadata": {
        "id": "dUrLPTyXuXA5"
      }
    },
    {
      "cell_type": "markdown",
      "source": [
        "A priori las features que necesitaríamos imputar (y que son imputables) son: `veh_site_id`, `user_site_id`, `id_industria`, `industria`"
      ],
      "metadata": {
        "id": "wYfs_iSYR8C5"
      }
    },
    {
      "cell_type": "markdown",
      "source": [
        "### Trabajamos sobre copia del el 'df' original llamandolo 'data'"
      ],
      "metadata": {
        "id": "TN-mFS_MtCmK"
      }
    },
    {
      "cell_type": "code",
      "source": [
        "data=df.copy()"
      ],
      "metadata": {
        "id": "mptz6edYtAl5"
      },
      "execution_count": 20,
      "outputs": []
    },
    {
      "cell_type": "markdown",
      "source": [
        "### Creamos un subconjunto con las variables a utilizar.  "
      ],
      "metadata": {
        "id": "NW0bTQxbuzvc"
      }
    },
    {
      "cell_type": "code",
      "source": [
        "data.columns"
      ],
      "metadata": {
        "colab": {
          "base_uri": "https://localhost:8080/"
        },
        "id": "Cj4uXDzSvGBM",
        "outputId": "7e5c53c2-31e6-4f21-914d-44b69c6f9a2b"
      },
      "execution_count": 21,
      "outputs": [
        {
          "output_type": "execute_result",
          "data": {
            "text/plain": [
              "Index(['unique_id_transa', 'id_transaccion', 'id_vehiculo', 'id_usuario',\n",
              "       'id_equipo', 'veh_site_id', 'pump_site_id', 'tank_site_id',\n",
              "       'user_site_id', 'producto', 'id_bomba', 'id_tanque', 'departamento',\n",
              "       'cantidad', 'codigo_error', 'timestamp', 'timestamp_stop',\n",
              "       'nombre_prod', 'veh_efficiency', 'volumen_inicial', 'volumen_final',\n",
              "       'temp_inicial', 'temp_final', 'volumen_comp_15_inicial',\n",
              "       'volumen_comp_15_final', 'cantidad_comp_15', 'codigo_producto',\n",
              "       'geo_latitud', 'geo_longitud', 'id_empresa', 'id_industria',\n",
              "       'industria'],\n",
              "      dtype='object')"
            ]
          },
          "metadata": {},
          "execution_count": 21
        }
      ]
    },
    {
      "cell_type": "markdown",
      "source": [
        "Eliminando las columnas 'producto',  'geo_latitud',  'geo_longitud' y 'codigo_producto'."
      ],
      "metadata": {
        "id": "6DDp3qN_vSa7"
      }
    },
    {
      "cell_type": "code",
      "source": [
        "data = data[['unique_id_transa', 'id_transaccion', 'id_vehiculo', 'id_usuario',\n",
        "       'id_equipo', 'veh_site_id', 'pump_site_id', 'tank_site_id',\n",
        "       'user_site_id', 'id_bomba', 'id_tanque', 'departamento',\n",
        "       'cantidad', 'codigo_error', 'timestamp', 'timestamp_stop',\n",
        "       'nombre_prod', 'veh_efficiency', 'volumen_inicial', 'volumen_final',\n",
        "       'temp_inicial', 'temp_final', 'volumen_comp_15_inicial',\n",
        "       'volumen_comp_15_final', 'cantidad_comp_15', \n",
        "       'id_empresa', 'id_industria','industria']]"
      ],
      "metadata": {
        "id": "JShAXa16vADW"
      },
      "execution_count": 22,
      "outputs": []
    },
    {
      "cell_type": "markdown",
      "source": [
        "### Eliminar codigos_error de abastecimientos(RC y RS)"
      ],
      "metadata": {
        "id": "x3uV5I2jtt2N"
      }
    },
    {
      "cell_type": "code",
      "source": [
        "#young_df_idx=kgp_df[kgp_df[\"Age\"]<=33].index\n",
        "#young_folks=kgp_df.drop(young_df_idx)"
      ],
      "metadata": {
        "id": "UiLrGHZjuZ4t"
      },
      "execution_count": 23,
      "outputs": []
    },
    {
      "cell_type": "code",
      "source": [
        "abast_RC = data[data['codigo_error']=='RC'].index "
      ],
      "metadata": {
        "id": "nzJ3kkkjxoMJ"
      },
      "execution_count": 24,
      "outputs": []
    },
    {
      "cell_type": "code",
      "source": [
        "abast_RS =  data[data['codigo_error']=='RS'].index"
      ],
      "metadata": {
        "id": "IYSE1OAfy5Ba"
      },
      "execution_count": 25,
      "outputs": []
    },
    {
      "cell_type": "code",
      "source": [
        "data = data.drop(abast_RC)"
      ],
      "metadata": {
        "id": "2_NG88DyzB9J"
      },
      "execution_count": 26,
      "outputs": []
    },
    {
      "cell_type": "code",
      "source": [
        "data = data.drop(abast_RS)"
      ],
      "metadata": {
        "id": "Gkat1eHkzkof"
      },
      "execution_count": 27,
      "outputs": []
    },
    {
      "cell_type": "markdown",
      "source": [
        "## Análisis con el subconjunto seleccionado de variables(data)"
      ],
      "metadata": {
        "id": "gYmupF3R0ByS"
      }
    },
    {
      "cell_type": "code",
      "source": [
        "import missingno as msno\n",
        "msno.bar(data,figsize=(12, 6), sort=\"ascending\",fontsize=12, color='tab:green') \n",
        "\n",
        "#color='steelblue')\n",
        "#color=\"dodgerblue\")\n",
        "#color=\"tab:green\")"
      ],
      "metadata": {
        "colab": {
          "base_uri": "https://localhost:8080/",
          "height": 543
        },
        "id": "6UPE9MMR0kYk",
        "outputId": "b3f0c743-4ea3-42f9-a493-a351e6b965b7"
      },
      "execution_count": 28,
      "outputs": [
        {
          "output_type": "execute_result",
          "data": {
            "text/plain": [
              "<matplotlib.axes._subplots.AxesSubplot at 0x7fabae7c4750>"
            ]
          },
          "metadata": {},
          "execution_count": 28
        },
        {
          "output_type": "display_data",
          "data": {
            "text/plain": [
              "<Figure size 864x432 with 3 Axes>"
            ],
            "image/png": "[encoded data removed]"
          },
          "metadata": {
            "needs_background": "light"
          }
        }
      ]
    },
    {
      "cell_type": "code",
      "source": [
        ""
      ],
      "metadata": {
        "id": "Z7GcpBjx0kcN"
      },
      "execution_count": 28,
      "outputs": []
    },
    {
      "cell_type": "code",
      "source": [
        "msno.matrix(data,figsize=(12, 6), fontsize=12, color=[0,1,0.1])"
      ],
      "metadata": {
        "colab": {
          "base_uri": "https://localhost:8080/",
          "height": 514
        },
        "id": "Q8q2kReV0kfU",
        "outputId": "4a298cd0-949b-4dea-97b9-2d4088c92a1a"
      },
      "execution_count": 29,
      "outputs": [
        {
          "output_type": "execute_result",
          "data": {
            "text/plain": [
              "<matplotlib.axes._subplots.AxesSubplot at 0x7fabac62c950>"
            ]
          },
          "metadata": {},
          "execution_count": 29
        },
        {
          "output_type": "display_data",
          "data": {
            "text/plain": [
              "<Figure size 864x432 with 2 Axes>"
            ],
            "image/png": "[encoded data removed]"
          },
          "metadata": {
            "needs_background": "light"
          }
        }
      ]
    },
    {
      "cell_type": "code",
      "source": [
        "data.shape"
      ],
      "metadata": {
        "colab": {
          "base_uri": "https://localhost:8080/"
        },
        "id": "blON532R0kiO",
        "outputId": "4d9d89a6-b4be-4c44-9090-ea44e61a79da"
      },
      "execution_count": 30,
      "outputs": [
        {
          "output_type": "execute_result",
          "data": {
            "text/plain": [
              "(561525, 28)"
            ]
          },
          "metadata": {},
          "execution_count": 30
        }
      ]
    },
    {
      "cell_type": "code",
      "source": [
        "df.shape"
      ],
      "metadata": {
        "colab": {
          "base_uri": "https://localhost:8080/"
        },
        "id": "3u2ewy5l1zk0",
        "outputId": "7eabbd79-e502-4bcf-b590-cec201aaad89"
      },
      "execution_count": 31,
      "outputs": [
        {
          "output_type": "execute_result",
          "data": {
            "text/plain": [
              "(561747, 32)"
            ]
          },
          "metadata": {},
          "execution_count": 31
        }
      ]
    },
    {
      "cell_type": "markdown",
      "source": [
        "## Transformación de la variable 'nombre_prod'"
      ],
      "metadata": {
        "id": "bhQ0FeGl2kHb"
      }
    },
    {
      "cell_type": "code",
      "source": [
        "data[\"nombre_prod\"] = data[\"nombre_prod\"].apply(lambda x: x.replace(\"Diesel 500\", \"Diesel\"))\n",
        "data[\"nombre_prod\"] = data[\"nombre_prod\"].apply(lambda x: x.replace(\"Gas Oil\", \"Diesel\"))\n",
        "data[\"nombre_prod\"] = data[\"nombre_prod\"].apply(lambda x: x.replace(\"Gasoil\", \"Diesel\"))\n",
        "data[\"nombre_prod\"] = data[\"nombre_prod\"].apply(lambda x: x.replace(\"Infinia Diesel\", \"Diesel\"))\n",
        "data[\"nombre_prod\"] = data[\"nombre_prod\"].apply(lambda x: x.replace(\"DIESEL\", \"Diesel\"))\n",
        "data[\"nombre_prod\"] = data[\"nombre_prod\"].apply(lambda x: x.replace(\"Diesel Grado 2\", \"Diesel\"))\n",
        "data[\"nombre_prod\"] = data[\"nombre_prod\"].apply(lambda x: x.replace(\"GASOIL\", \"Diesel\"))\n",
        "data[\"nombre_prod\"] = data[\"nombre_prod\"].apply(lambda x: x.replace(\"Ultra Diesel\", \"Diesel\"))\n",
        "data[\"nombre_prod\"] = data[\"nombre_prod\"].apply(lambda x: x.replace(\"Formula Diesel\", \"Diesel\"))\n",
        "data[\"nombre_prod\"] = data[\"nombre_prod\"].apply(lambda x: x.replace(\"Diesel GOM G3\", \"Diesel\"))\n",
        "data[\"nombre_prod\"] = data[\"nombre_prod\"].apply(lambda x: x.replace(\"Diesel Grado 3\", \"Diesel\"))\n",
        "data[\"nombre_prod\"] = data[\"nombre_prod\"].apply(lambda x: x.replace(\"GOM\", \"Diesel\"))\n",
        "data[\"nombre_prod\"] = data[\"nombre_prod\"].apply(lambda x: x.replace(\"V-Power Diesel\", \"Diesel\"))\n",
        "data[\"nombre_prod\"] = data[\"nombre_prod\"].apply(lambda x: x.replace(\"VP Diesel\", \"Diesel\"))\n",
        "data[\"nombre_prod\"] = data[\"nombre_prod\"].apply(lambda x: x.replace(\"GAS-OIL - GRADO 3\", \"Diesel\"))\n",
        "data[\"nombre_prod\"] = data[\"nombre_prod\"].apply(lambda x: x.replace(\"Diesel 2\", \"Diesel\"))\n",
        "data[\"nombre_prod\"] = data[\"nombre_prod\"].apply(lambda x: x.replace(\"INFINIA Diesel\", \"Diesel\"))\n",
        "data[\"nombre_prod\"] = data[\"nombre_prod\"].apply(lambda x: x.replace(\"EURODiesel\", \"Diesel\"))\n",
        "data[\"nombre_prod\"] = data[\"nombre_prod\"].apply(lambda x: x.replace(\"Diesel Diesel\", \"Diesel\"))\n",
        "data[\"nombre_prod\"] = data[\"nombre_prod\"].apply(lambda x: x.replace(\"Evolux Diesel\", \"Diesel\"))\n",
        "data[\"nombre_prod\"] = data[\"nombre_prod\"].apply(lambda x: x.replace(\"VP-Diesel\", \"Diesel\"))\n",
        "data[\"nombre_prod\"] = data[\"nombre_prod\"].apply(lambda x: x.replace(\"Euro Diesel\", \"Diesel\"))\n",
        "data[\"nombre_prod\"] = data[\"nombre_prod\"].apply(lambda x: x.replace(\"Diesel Infinia\", \"Diesel\"))\n",
        "data[\"nombre_prod\"] = data[\"nombre_prod\"].apply(lambda x: x.replace(\"Euro Diesel\", \"Diesel\"))\n",
        "data[\"nombre_prod\"] = data[\"nombre_prod\"].apply(lambda x: x.replace(\"Diesel Infinia'\", \"Diesel\"))\n",
        "data[\"nombre_prod\"] = data[\"nombre_prod\"].apply(lambda x: x.replace(\"Euro-Diesel\", \"Diesel\"))\n",
        "data[\"nombre_prod\"] = data[\"nombre_prod\"].apply(lambda x: x.replace(\"Diesel Comun\", \"Diesel\"))\n",
        "data[\"nombre_prod\"] = data[\"nombre_prod\"].apply(lambda x: x.replace(\"Diesel Euro Gr 3\", \"Diesel\"))\n",
        "data[\"nombre_prod\"] = data[\"nombre_prod\"].apply(lambda x: x.replace(\"Diesel grado 2\", \"Diesel\"))\n",
        "data[\"nombre_prod\"] = data[\"nombre_prod\"].apply(lambda x: x.replace(\"Infinia Diésel\", \"Diesel\"))\n",
        "data[\"nombre_prod\"] = data[\"nombre_prod\"].apply(lambda x: x.replace(\"Diesel-500\", \"Diesel\"))\n",
        "data[\"nombre_prod\"] = data[\"nombre_prod\"].apply(lambda x: x.replace(\"Diesel 1\", \"Diesel\"))\n",
        "data[\"nombre_prod\"] = data[\"nombre_prod\"].apply(lambda x: x.replace(\"GAS OIL\", \"Diesel\"))\n",
        "data[\"nombre_prod\"] = data[\"nombre_prod\"].apply(lambda x: x.replace(\"Diesel \", \"Diesel\"))\n",
        "data[\"nombre_prod\"] = data[\"nombre_prod\"].apply(lambda x: x.replace(\"COMBUSTIBLE -  Diesel\", \"Diesel\"))\n",
        "data[\"nombre_prod\"] = data[\"nombre_prod\"].apply(lambda x: x.replace(\"ULTRA Diesel\", \"Diesel\"))\n",
        "data[\"nombre_prod\"] = data[\"nombre_prod\"].apply(lambda x: x.replace(\"Diesel EURO\", \"Diesel\"))\n",
        "data[\"nombre_prod\"] = data[\"nombre_prod\"].apply(lambda x: x.replace(\"Diesel PPM\", \"Diesel\"))\n",
        "data[\"nombre_prod\"] = data[\"nombre_prod\"].apply(lambda x: x.replace(\"Diesel Premium\", \"Diesel\"))\n",
        "data[\"nombre_prod\"] = data[\"nombre_prod\"].apply(lambda x: x.replace(\"ULTRADiesel\", \"Diesel\"))\n",
        "data[\"nombre_prod\"] = data[\"nombre_prod\"].apply(lambda x: x.replace(\"COMBUSTIBLE -  Diesel\", \"Diesel\"))\n",
        "data[\"nombre_prod\"] = data[\"nombre_prod\"].apply(lambda x: x.replace(\" Diesel\", \"Diesel\"))\n",
        "data[\"nombre_prod\"] = data[\"nombre_prod\"].apply(lambda x: x.replace(\"DieselEURO\", \"Diesel\"))\n",
        "data[\"nombre_prod\"] = data[\"nombre_prod\"].apply(lambda x: x.replace(\"DieselPPM\", \"Diesel\"))\n",
        "data[\"nombre_prod\"] = data[\"nombre_prod\"].apply(lambda x: x.replace(\"Producto 1 -Diesel\", \"Diesel\"))\n",
        "data[\"nombre_prod\"] = data[\"nombre_prod\"].apply(lambda x: x.replace(\"AxionDiesel\", \"Diesel\"))\n",
        "data[\"nombre_prod\"] = data[\"nombre_prod\"].apply(lambda x: x.replace(\"DieselGr 2\", \"Diesel\"))\n",
        "data[\"nombre_prod\"] = data[\"nombre_prod\"].apply(lambda x: x.replace(\"Producto 1-Diesel\", \"Diesel\"))\n",
        "data[\"nombre_prod\"] = data[\"nombre_prod\"].apply(lambda x: x.replace(\"Producto 2 -Diesel\", \"Diesel\"))\n",
        "data[\"nombre_prod\"] = data[\"nombre_prod\"].apply(lambda x: x.replace(\"DieselGrado3\", \"Diesel\"))\n",
        "data[\"nombre_prod\"] = data[\"nombre_prod\"].apply(lambda x: x.replace(\"DieselG3\", \"Diesel\"))\n",
        "data[\"nombre_prod\"] = data[\"nombre_prod\"].apply(lambda x: x.replace(\"DieselPremium\", \"Diesel\"))\n",
        "data[\"nombre_prod\"] = data[\"nombre_prod\"].apply(lambda x: x.replace(\"Diesel500\", \"Diesel\"))\n",
        "data[\"nombre_prod\"] = data[\"nombre_prod\"].apply(lambda x: x.replace(\"Diesel \", \"Diesel\"))\n",
        "data[\"nombre_prod\"] = data[\"nombre_prod\"].apply(lambda x: x.replace(\"D 500\", \"Diesel\"))\n",
        "data[\"nombre_prod\"] = data[\"nombre_prod\"].apply(lambda x: x.replace(\"DieselMarítimo\", \"Diesel\"))\n",
        "data[\"nombre_prod\"] = data[\"nombre_prod\"].apply(lambda x: x.replace(\"BIODiesel\", \"Diesel\"))\n",
        "data[\"nombre_prod\"] = data[\"nombre_prod\"].apply(lambda x: x.replace(\"GAS-OIL\", \"Diesel\"))\n",
        "data[\"nombre_prod\"] = data[\"nombre_prod\"].apply(lambda x: x.replace(\"DieselG2\", \"Diesel\"))\n",
        "data[\"nombre_prod\"] = data[\"nombre_prod\"].apply(lambda x: x.replace(\"Diesel-Diesel\", \"Diesel\"))\n",
        "data[\"nombre_prod\"] = data[\"nombre_prod\"].apply(lambda x: x.replace(\"QUANTIUMDiesel\", \"Diesel\"))\n",
        "\n",
        "data[\"nombre_prod\"] = data[\"nombre_prod\"].apply(lambda x: x.replace(\"Nafta Super\", \"Nafta\"))\n",
        "data[\"nombre_prod\"] = data[\"nombre_prod\"].apply(lambda x: x.replace(\"V-Power Nafta\", \"Nafta\"))\n",
        "data[\"nombre_prod\"] = data[\"nombre_prod\"].apply(lambda x: x.replace(\"VP Nafta\", \"Nafta\"))\n",
        "data[\"nombre_prod\"] = data[\"nombre_prod\"].apply(lambda x: x.replace(\"Infinia\", \"Nafta\"))\n",
        "data[\"nombre_prod\"] = data[\"nombre_prod\"].apply(lambda x: x.replace(\"INFINIA\", \"Nafta\"))\n",
        "data[\"nombre_prod\"] = data[\"nombre_prod\"].apply(lambda x: x.replace(\"Azul 32\", \"Nafta\"))\n",
        "data[\"nombre_prod\"] = data[\"nombre_prod\"].apply(lambda x: x.replace(\"Comun\", \"Nafta\"))\n",
        "data[\"nombre_prod\"] = data[\"nombre_prod\"].apply(lambda x: x.replace(\"INFINIA T20\", \"Nafta\"))\n",
        "data[\"nombre_prod\"] = data[\"nombre_prod\"].apply(lambda x: x.replace(\"nafta\", \"Nafta\"))\n",
        "data[\"nombre_prod\"] = data[\"nombre_prod\"].apply(lambda x: x.replace(\"Super\", \"Nafta\"))\n",
        "data[\"nombre_prod\"] = data[\"nombre_prod\"].apply(lambda x: x.replace(\"Nafta T20\", \"Nafta\"))\n",
        "data[\"nombre_prod\"] = data[\"nombre_prod\"].apply(lambda x: x.replace(\"Nafta T40\", \"Nafta\"))"
      ],
      "metadata": {
        "id": "i_YXmSCb-U4a"
      },
      "execution_count": 32,
      "outputs": []
    },
    {
      "cell_type": "markdown",
      "metadata": {
        "id": "ZKyAs__HA-Tc"
      },
      "source": [
        "#### 2. Transformación de datos\n",
        "\n",
        "- Realizar un encoding tipo One Hot de las columnas seleccionadas que no contengan valores nulos.\n",
        "- Escalar, estandarizar, normalizar los datos si es necesario.\n",
        "- (Opcional) Se recomienda el uso de Pipelines para realizar estas transformaciones. "
      ]
    },
    {
      "cell_type": "code",
      "source": [
        "data.info() #tipo de datos de cada columna"
      ],
      "metadata": {
        "id": "r0Sw8Cr4UDQL",
        "colab": {
          "base_uri": "https://localhost:8080/"
        },
        "outputId": "f304c835-e79a-4a8f-8c75-b51a8794f0bb"
      },
      "execution_count": 33,
      "outputs": [
        {
          "output_type": "stream",
          "name": "stdout",
          "text": [
            "<class 'pandas.core.frame.DataFrame'>\n",
            "Int64Index: 561525 entries, 0 to 561746\n",
            "Data columns (total 28 columns):\n",
            " #   Column                   Non-Null Count   Dtype         \n",
            "---  ------                   --------------   -----         \n",
            " 0   unique_id_transa         561525 non-null  int64         \n",
            " 1   id_transaccion           561525 non-null  int64         \n",
            " 2   id_vehiculo              561525 non-null  int64         \n",
            " 3   id_usuario               561525 non-null  int64         \n",
            " 4   id_equipo                561525 non-null  int64         \n",
            " 5   veh_site_id              561518 non-null  object        \n",
            " 6   pump_site_id             561525 non-null  int64         \n",
            " 7   tank_site_id             561525 non-null  int64         \n",
            " 8   user_site_id             545059 non-null  object        \n",
            " 9   id_bomba                 561525 non-null  int64         \n",
            " 10  id_tanque                561525 non-null  int64         \n",
            " 11  departamento             561525 non-null  object        \n",
            " 12  cantidad                 561525 non-null  float64       \n",
            " 13  codigo_error             561525 non-null  object        \n",
            " 14  timestamp                561525 non-null  datetime64[ns]\n",
            " 15  timestamp_stop           561525 non-null  datetime64[ns]\n",
            " 16  nombre_prod              561525 non-null  object        \n",
            " 17  veh_efficiency           561525 non-null  float64       \n",
            " 18  volumen_inicial          414458 non-null  float64       \n",
            " 19  volumen_final            344096 non-null  float64       \n",
            " 20  temp_inicial             414458 non-null  float64       \n",
            " 21  temp_final               344096 non-null  float64       \n",
            " 22  volumen_comp_15_inicial  414458 non-null  float64       \n",
            " 23  volumen_comp_15_final    344096 non-null  float64       \n",
            " 24  cantidad_comp_15         561525 non-null  float64       \n",
            " 25  id_empresa               561525 non-null  int64         \n",
            " 26  id_industria             538242 non-null  float64       \n",
            " 27  industria                518407 non-null  object        \n",
            "dtypes: datetime64[ns](2), float64(10), int64(10), object(6)\n",
            "memory usage: 124.2+ MB\n"
          ]
        }
      ]
    },
    {
      "cell_type": "code",
      "source": [
        "categorical_cols=['nombre_prod', 'codigo_error'] #Ver si hay otras categóricas: industria,'user_site_id' tienen valores nulos8no se tomarían)\n",
        "numerical_cols=['departamento']\n",
        "max = 20\n",
        "categorias = [\n",
        "    data[col].value_counts()[:max].index.values for col in categorical_cols\n",
        "]\n",
        "categorias"
      ],
      "metadata": {
        "colab": {
          "base_uri": "https://localhost:8080/"
        },
        "id": "8plHpxm9A5R7",
        "outputId": "f7eb7368-191b-4aef-9528-f92c7ccec35f"
      },
      "execution_count": 34,
      "outputs": [
        {
          "output_type": "execute_result",
          "data": {
            "text/plain": [
              "[array(['Diesel', 'Nafta', 'Producto 0', 'Product 1', 'Producto 1',\n",
              "        'Product 2', 'Product 3', 'Producto 2', 'Formula', 'EURO', 'Urea',\n",
              "        'Euro', 'UREA', 'S1002050010', 'Ultra-Diesel', 'COMUN',\n",
              "        'Glifosato', 'UD', 'Puerto Seco La Puerta SA', 'Cereales Norte SA'],\n",
              "       dtype=object),\n",
              " array(['C1', 'ES', 'H1', 'C4', 'BF', 'C0', 'C2', 'UE', 'H2', 'BD', 'H4',\n",
              "        'UL', 'BE', 'H3', 'H5', 'UD', 'BA', 'PR', 'ee', 'B0'], dtype=object)]"
            ]
          },
          "metadata": {},
          "execution_count": 34
        }
      ]
    },
    {
      "cell_type": "code",
      "execution_count": 35,
      "metadata": {
        "colab": {
          "base_uri": "https://localhost:8080/"
        },
        "outputId": "eff9f600-ed2a-4c7f-e45e-52c447676cee",
        "id": "oOTBell-UWeJ"
      },
      "outputs": [
        {
          "output_type": "execute_result",
          "data": {
            "text/plain": [
              "[array(['Diesel', 'Nafta', 'Producto 0', 'Product 1', 'Producto 1',\n",
              "        'Product 2', 'Product 3', 'Producto 2', 'Formula', 'EURO', 'Urea',\n",
              "        'Euro', 'UREA', 'S1002050010', 'Ultra-Diesel', 'COMUN',\n",
              "        'Glifosato', 'UD', 'Puerto Seco La Puerta SA', 'Cereales Norte SA'],\n",
              "       dtype=object),\n",
              " array(['C1', 'ES', 'H1', 'C4', 'BF', 'C0', 'C2', 'UE', 'H2', 'BD', 'H4',\n",
              "        'UL', 'BE', 'H3', 'H5', 'UD', 'BA', 'PR', 'ee', 'B0'], dtype=object)]"
            ]
          },
          "metadata": {},
          "execution_count": 35
        }
      ],
      "source": [
        "from sklearn.preprocessing import OneHotEncoder\n",
        "\n",
        "\n",
        "enc = OneHotEncoder(categories=categorias, handle_unknown=\"ignore\",sparse=False)\n",
        "enc.fit(data[categorical_cols])\n",
        "\n",
        "\n",
        "enc.categories_"
      ]
    },
    {
      "cell_type": "code",
      "source": [
        "categorias = enc.transform(data[categorical_cols])\n",
        "categorias"
      ],
      "metadata": {
        "colab": {
          "base_uri": "https://localhost:8080/"
        },
        "id": "cYquV0in8Ur8",
        "outputId": "48b6eefa-c9e4-494e-99a5-ba63c86c756c"
      },
      "execution_count": 36,
      "outputs": [
        {
          "output_type": "execute_result",
          "data": {
            "text/plain": [
              "array([[0., 0., 1., ..., 0., 0., 0.],\n",
              "       [0., 0., 0., ..., 0., 0., 0.],\n",
              "       [1., 0., 0., ..., 0., 0., 0.],\n",
              "       ...,\n",
              "       [0., 0., 0., ..., 0., 0., 0.],\n",
              "       [0., 0., 0., ..., 0., 0., 0.],\n",
              "       [0., 0., 1., ..., 0., 0., 0.]])"
            ]
          },
          "metadata": {},
          "execution_count": 36
        }
      ]
    },
    {
      "cell_type": "code",
      "source": [
        "len(categorias)"
      ],
      "metadata": {
        "colab": {
          "base_uri": "https://localhost:8080/"
        },
        "id": "X333p-xu_fsG",
        "outputId": "c95093f8-04c9-4ad4-f60a-093840ef647c"
      },
      "execution_count": 37,
      "outputs": [
        {
          "output_type": "execute_result",
          "data": {
            "text/plain": [
              "561525"
            ]
          },
          "metadata": {},
          "execution_count": 37
        }
      ]
    },
    {
      "cell_type": "code",
      "source": [
        "# armamos el nuevo dataframe\n",
        "df_numerico = pd.DataFrame(data=data, columns=numerical_cols)\n",
        "df_numerico.head()"
      ],
      "metadata": {
        "colab": {
          "base_uri": "https://localhost:8080/",
          "height": 206
        },
        "id": "GpXVlo6GC75W",
        "outputId": "98de01df-66fb-4298-e260-59a0889d6fd3"
      },
      "execution_count": 38,
      "outputs": [
        {
          "output_type": "execute_result",
          "data": {
            "text/plain": [
              "  departamento\n",
              "0         0000\n",
              "1         0000\n",
              "2         0000\n",
              "3         0014\n",
              "4         0002"
            ],
            "text/html": [
              "\n",
              "  <div id=\"df-c08338dc-c839-473b-8948-f8253d323a10\">\n",
              "    <div class=\"colab-df-container\">\n",
              "      <div>\n",
              "<style scoped>\n",
              "    .dataframe tbody tr th:only-of-type {\n",
              "        vertical-align: middle;\n",
              "    }\n",
              "\n",
              "    .dataframe tbody tr th {\n",
              "        vertical-align: top;\n",
              "    }\n",
              "\n",
              "    .dataframe thead th {\n",
              "        text-align: right;\n",
              "    }\n",
              "</style>\n",
              "<table border=\"1\" class=\"dataframe\">\n",
              "  <thead>\n",
              "    <tr style=\"text-align: right;\">\n",
              "      <th></th>\n",
              "      <th>departamento</th>\n",
              "    </tr>\n",
              "  </thead>\n",
              "  <tbody>\n",
              "    <tr>\n",
              "      <th>0</th>\n",
              "      <td>0000</td>\n",
              "    </tr>\n",
              "    <tr>\n",
              "      <th>1</th>\n",
              "      <td>0000</td>\n",
              "    </tr>\n",
              "    <tr>\n",
              "      <th>2</th>\n",
              "      <td>0000</td>\n",
              "    </tr>\n",
              "    <tr>\n",
              "      <th>3</th>\n",
              "      <td>0014</td>\n",
              "    </tr>\n",
              "    <tr>\n",
              "      <th>4</th>\n",
              "      <td>0002</td>\n",
              "    </tr>\n",
              "  </tbody>\n",
              "</table>\n",
              "</div>\n",
              "      <button class=\"colab-df-convert\" onclick=\"convertToInteractive('df-c08338dc-c839-473b-8948-f8253d323a10')\"\n",
              "              title=\"Convert this dataframe to an interactive table.\"\n",
              "              style=\"display:none;\">\n",
              "        \n",
              "  <svg xmlns=\"http://www.w3.org/2000/svg\" height=\"24px\"viewBox=\"0 0 24 24\"\n",
              "       width=\"24px\">\n",
              "    <path d=\"M0 0h24v24H0V0z\" fill=\"none\"/>\n",
              "    <path d=\"M18.56 5.44l.94 2.06.94-2.06 2.06-.94-2.06-.94-.94-2.06-.94 2.06-2.06.94zm-11 1L8.5 8.5l.94-2.06 2.06-.94-2.06-.94L8.5 2.5l-.94 2.06-2.06.94zm10 10l.94 2.06.94-2.06 2.06-.94-2.06-.94-.94-2.06-.94 2.06-2.06.94z\"/><path d=\"M17.41 7.96l-1.37-1.37c-.4-.4-.92-.59-1.43-.59-.52 0-1.04.2-1.43.59L10.3 9.45l-7.72 7.72c-.78.78-.78 2.05 0 2.83L4 21.41c.39.39.9.59 1.41.59.51 0 1.02-.2 1.41-.59l7.78-7.78 2.81-2.81c.8-.78.8-2.07 0-2.86zM5.41 20L4 18.59l7.72-7.72 1.47 1.35L5.41 20z\"/>\n",
              "  </svg>\n",
              "      </button>\n",
              "      \n",
              "  <style>\n",
              "    .colab-df-container {\n",
              "      display:flex;\n",
              "      flex-wrap:wrap;\n",
              "      gap: 12px;\n",
              "    }\n",
              "\n",
              "    .colab-df-convert {\n",
              "      background-color: #E8F0FE;\n",
              "      border: none;\n",
              "      border-radius: 50%;\n",
              "      cursor: pointer;\n",
              "      display: none;\n",
              "      fill: #1967D2;\n",
              "      height: 32px;\n",
              "      padding: 0 0 0 0;\n",
              "      width: 32px;\n",
              "    }\n",
              "\n",
              "    .colab-df-convert:hover {\n",
              "      background-color: #E2EBFA;\n",
              "      box-shadow: 0px 1px 2px rgba(60, 64, 67, 0.3), 0px 1px 3px 1px rgba(60, 64, 67, 0.15);\n",
              "      fill: #174EA6;\n",
              "    }\n",
              "\n",
              "    [theme=dark] .colab-df-convert {\n",
              "      background-color: #3B4455;\n",
              "      fill: #D2E3FC;\n",
              "    }\n",
              "\n",
              "    [theme=dark] .colab-df-convert:hover {\n",
              "      background-color: #434B5C;\n",
              "      box-shadow: 0px 1px 3px 1px rgba(0, 0, 0, 0.15);\n",
              "      filter: drop-shadow(0px 1px 2px rgba(0, 0, 0, 0.3));\n",
              "      fill: #FFFFFF;\n",
              "    }\n",
              "  </style>\n",
              "\n",
              "      <script>\n",
              "        const buttonEl =\n",
              "          document.querySelector('#df-c08338dc-c839-473b-8948-f8253d323a10 button.colab-df-convert');\n",
              "        buttonEl.style.display =\n",
              "          google.colab.kernel.accessAllowed ? 'block' : 'none';\n",
              "\n",
              "        async function convertToInteractive(key) {\n",
              "          const element = document.querySelector('#df-c08338dc-c839-473b-8948-f8253d323a10');\n",
              "          const dataTable =\n",
              "            await google.colab.kernel.invokeFunction('convertToInteractive',\n",
              "                                                     [key], {});\n",
              "          if (!dataTable) return;\n",
              "\n",
              "          const docLinkHtml = 'Like what you see? Visit the ' +\n",
              "            '<a target=\"_blank\" href=https://colab.research.google.com/notebooks/data_table.ipynb>data table notebook</a>'\n",
              "            + ' to learn more about interactive tables.';\n",
              "          element.innerHTML = '';\n",
              "          dataTable['output_type'] = 'display_data';\n",
              "          await google.colab.output.renderOutput(dataTable, element);\n",
              "          const docLink = document.createElement('div');\n",
              "          docLink.innerHTML = docLinkHtml;\n",
              "          element.appendChild(docLink);\n",
              "        }\n",
              "      </script>\n",
              "    </div>\n",
              "  </div>\n",
              "  "
            ]
          },
          "metadata": {},
          "execution_count": 38
        }
      ]
    },
    {
      "cell_type": "code",
      "source": [
        "melb_enc = pd.DataFrame(numpy.hstack((df_numerico.values,categorias)))\n",
        "melb_enc.columns =list(df_numerico.columns.tolist()) + list(enc.get_feature_names_out())\n",
        "\n",
        "melb_enc"
      ],
      "metadata": {
        "colab": {
          "base_uri": "https://localhost:8080/",
          "height": 505
        },
        "id": "BCw872Ts8dOo",
        "outputId": "133c71c1-8a85-4376-ab81-b7509d813d8f"
      },
      "execution_count": 39,
      "outputs": [
        {
          "output_type": "execute_result",
          "data": {
            "text/plain": [
              "       departamento nombre_prod_Diesel nombre_prod_Nafta  \\\n",
              "0              0000                0.0               0.0   \n",
              "1              0000                0.0               0.0   \n",
              "2              0000                1.0               0.0   \n",
              "3              0014                1.0               0.0   \n",
              "4              0002                1.0               0.0   \n",
              "...             ...                ...               ...   \n",
              "561520         0000                0.0               0.0   \n",
              "561521         0000                0.0               0.0   \n",
              "561522         0000                0.0               0.0   \n",
              "561523         0000                0.0               0.0   \n",
              "561524         0000                0.0               0.0   \n",
              "\n",
              "       nombre_prod_Producto 0 nombre_prod_Product 1 nombre_prod_Producto 1  \\\n",
              "0                         1.0                   0.0                    0.0   \n",
              "1                         0.0                   1.0                    0.0   \n",
              "2                         0.0                   0.0                    0.0   \n",
              "3                         0.0                   0.0                    0.0   \n",
              "4                         0.0                   0.0                    0.0   \n",
              "...                       ...                   ...                    ...   \n",
              "561520                    0.0                   0.0                    1.0   \n",
              "561521                    0.0                   0.0                    1.0   \n",
              "561522                    0.0                   0.0                    1.0   \n",
              "561523                    0.0                   0.0                    1.0   \n",
              "561524                    1.0                   0.0                    0.0   \n",
              "\n",
              "       nombre_prod_Product 2 nombre_prod_Product 3 nombre_prod_Producto 2  \\\n",
              "0                        0.0                   0.0                    0.0   \n",
              "1                        0.0                   0.0                    0.0   \n",
              "2                        0.0                   0.0                    0.0   \n",
              "3                        0.0                   0.0                    0.0   \n",
              "4                        0.0                   0.0                    0.0   \n",
              "...                      ...                   ...                    ...   \n",
              "561520                   0.0                   0.0                    0.0   \n",
              "561521                   0.0                   0.0                    0.0   \n",
              "561522                   0.0                   0.0                    0.0   \n",
              "561523                   0.0                   0.0                    0.0   \n",
              "561524                   0.0                   0.0                    0.0   \n",
              "\n",
              "       nombre_prod_Formula  ... codigo_error_H4 codigo_error_UL  \\\n",
              "0                      0.0  ...             0.0             0.0   \n",
              "1                      0.0  ...             0.0             0.0   \n",
              "2                      0.0  ...             0.0             0.0   \n",
              "3                      0.0  ...             0.0             0.0   \n",
              "4                      0.0  ...             0.0             0.0   \n",
              "...                    ...  ...             ...             ...   \n",
              "561520                 0.0  ...             0.0             0.0   \n",
              "561521                 0.0  ...             0.0             0.0   \n",
              "561522                 0.0  ...             0.0             0.0   \n",
              "561523                 0.0  ...             0.0             0.0   \n",
              "561524                 0.0  ...             0.0             0.0   \n",
              "\n",
              "       codigo_error_BE codigo_error_H3 codigo_error_H5 codigo_error_UD  \\\n",
              "0                  0.0             0.0             0.0             0.0   \n",
              "1                  0.0             0.0             0.0             0.0   \n",
              "2                  0.0             0.0             0.0             0.0   \n",
              "3                  0.0             0.0             0.0             0.0   \n",
              "4                  0.0             0.0             0.0             0.0   \n",
              "...                ...             ...             ...             ...   \n",
              "561520             0.0             0.0             0.0             0.0   \n",
              "561521             0.0             0.0             0.0             0.0   \n",
              "561522             0.0             0.0             0.0             0.0   \n",
              "561523             0.0             0.0             0.0             0.0   \n",
              "561524             0.0             0.0             0.0             0.0   \n",
              "\n",
              "       codigo_error_BA codigo_error_PR codigo_error_ee codigo_error_B0  \n",
              "0                  0.0             0.0             0.0             0.0  \n",
              "1                  0.0             0.0             0.0             0.0  \n",
              "2                  0.0             0.0             0.0             0.0  \n",
              "3                  0.0             0.0             0.0             0.0  \n",
              "4                  0.0             0.0             0.0             0.0  \n",
              "...                ...             ...             ...             ...  \n",
              "561520             0.0             0.0             0.0             0.0  \n",
              "561521             0.0             0.0             0.0             0.0  \n",
              "561522             0.0             0.0             0.0             0.0  \n",
              "561523             0.0             0.0             0.0             0.0  \n",
              "561524             0.0             0.0             0.0             0.0  \n",
              "\n",
              "[561525 rows x 41 columns]"
            ],
            "text/html": [
              "\n",
              "  <div id=\"df-36675a06-9381-43ab-84af-68c5fbb806ef\">\n",
              "    <div class=\"colab-df-container\">\n",
              "      <div>\n",
              "<style scoped>\n",
              "    .dataframe tbody tr th:only-of-type {\n",
              "        vertical-align: middle;\n",
              "    }\n",
              "\n",
              "    .dataframe tbody tr th {\n",
              "        vertical-align: top;\n",
              "    }\n",
              "\n",
              "    .dataframe thead th {\n",
              "        text-align: right;\n",
              "    }\n",
              "</style>\n",
              "<table border=\"1\" class=\"dataframe\">\n",
              "  <thead>\n",
              "    <tr style=\"text-align: right;\">\n",
              "      <th></th>\n",
              "      <th>departamento</th>\n",
              "      <th>nombre_prod_Diesel</th>\n",
              "      <th>nombre_prod_Nafta</th>\n",
              "      <th>nombre_prod_Producto 0</th>\n",
              "      <th>nombre_prod_Product 1</th>\n",
              "      <th>nombre_prod_Producto 1</th>\n",
              "      <th>nombre_prod_Product 2</th>\n",
              "      <th>nombre_prod_Product 3</th>\n",
              "      <th>nombre_prod_Producto 2</th>\n",
              "      <th>nombre_prod_Formula</th>\n",
              "      <th>...</th>\n",
              "      <th>codigo_error_H4</th>\n",
              "      <th>codigo_error_UL</th>\n",
              "      <th>codigo_error_BE</th>\n",
              "      <th>codigo_error_H3</th>\n",
              "      <th>codigo_error_H5</th>\n",
              "      <th>codigo_error_UD</th>\n",
              "      <th>codigo_error_BA</th>\n",
              "      <th>codigo_error_PR</th>\n",
              "      <th>codigo_error_ee</th>\n",
              "      <th>codigo_error_B0</th>\n",
              "    </tr>\n",
              "  </thead>\n",
              "  <tbody>\n",
              "    <tr>\n",
              "      <th>0</th>\n",
              "      <td>0000</td>\n",
              "      <td>0.0</td>\n",
              "      <td>0.0</td>\n",
              "      <td>1.0</td>\n",
              "      <td>0.0</td>\n",
              "      <td>0.0</td>\n",
              "      <td>0.0</td>\n",
              "      <td>0.0</td>\n",
              "      <td>0.0</td>\n",
              "      <td>0.0</td>\n",
              "      <td>...</td>\n",
              "      <td>0.0</td>\n",
              "      <td>0.0</td>\n",
              "      <td>0.0</td>\n",
              "      <td>0.0</td>\n",
              "      <td>0.0</td>\n",
              "      <td>0.0</td>\n",
              "      <td>0.0</td>\n",
              "      <td>0.0</td>\n",
              "      <td>0.0</td>\n",
              "      <td>0.0</td>\n",
              "    </tr>\n",
              "    <tr>\n",
              "      <th>1</th>\n",
              "      <td>0000</td>\n",
              "      <td>0.0</td>\n",
              "      <td>0.0</td>\n",
              "      <td>0.0</td>\n",
              "      <td>1.0</td>\n",
              "      <td>0.0</td>\n",
              "      <td>0.0</td>\n",
              "      <td>0.0</td>\n",
              "      <td>0.0</td>\n",
              "      <td>0.0</td>\n",
              "      <td>...</td>\n",
              "      <td>0.0</td>\n",
              "      <td>0.0</td>\n",
              "      <td>0.0</td>\n",
              "      <td>0.0</td>\n",
              "      <td>0.0</td>\n",
              "      <td>0.0</td>\n",
              "      <td>0.0</td>\n",
              "      <td>0.0</td>\n",
              "      <td>0.0</td>\n",
              "      <td>0.0</td>\n",
              "    </tr>\n",
              "    <tr>\n",
              "      <th>2</th>\n",
              "      <td>0000</td>\n",
              "      <td>1.0</td>\n",
              "      <td>0.0</td>\n",
              "      <td>0.0</td>\n",
              "      <td>0.0</td>\n",
              "      <td>0.0</td>\n",
              "      <td>0.0</td>\n",
              "      <td>0.0</td>\n",
              "      <td>0.0</td>\n",
              "      <td>0.0</td>\n",
              "      <td>...</td>\n",
              "      <td>0.0</td>\n",
              "      <td>0.0</td>\n",
              "      <td>0.0</td>\n",
              "      <td>0.0</td>\n",
              "      <td>0.0</td>\n",
              "      <td>0.0</td>\n",
              "      <td>0.0</td>\n",
              "      <td>0.0</td>\n",
              "      <td>0.0</td>\n",
              "      <td>0.0</td>\n",
              "    </tr>\n",
              "    <tr>\n",
              "      <th>3</th>\n",
              "      <td>0014</td>\n",
              "      <td>1.0</td>\n",
              "      <td>0.0</td>\n",
              "      <td>0.0</td>\n",
              "      <td>0.0</td>\n",
              "      <td>0.0</td>\n",
              "      <td>0.0</td>\n",
              "      <td>0.0</td>\n",
              "      <td>0.0</td>\n",
              "      <td>0.0</td>\n",
              "      <td>...</td>\n",
              "      <td>0.0</td>\n",
              "      <td>0.0</td>\n",
              "      <td>0.0</td>\n",
              "      <td>0.0</td>\n",
              "      <td>0.0</td>\n",
              "      <td>0.0</td>\n",
              "      <td>0.0</td>\n",
              "      <td>0.0</td>\n",
              "      <td>0.0</td>\n",
              "      <td>0.0</td>\n",
              "    </tr>\n",
              "    <tr>\n",
              "      <th>4</th>\n",
              "      <td>0002</td>\n",
              "      <td>1.0</td>\n",
              "      <td>0.0</td>\n",
              "      <td>0.0</td>\n",
              "      <td>0.0</td>\n",
              "      <td>0.0</td>\n",
              "      <td>0.0</td>\n",
              "      <td>0.0</td>\n",
              "      <td>0.0</td>\n",
              "      <td>0.0</td>\n",
              "      <td>...</td>\n",
              "      <td>0.0</td>\n",
              "      <td>0.0</td>\n",
              "      <td>0.0</td>\n",
              "      <td>0.0</td>\n",
              "      <td>0.0</td>\n",
              "      <td>0.0</td>\n",
              "      <td>0.0</td>\n",
              "      <td>0.0</td>\n",
              "      <td>0.0</td>\n",
              "      <td>0.0</td>\n",
              "    </tr>\n",
              "    <tr>\n",
              "      <th>...</th>\n",
              "      <td>...</td>\n",
              "      <td>...</td>\n",
              "      <td>...</td>\n",
              "      <td>...</td>\n",
              "      <td>...</td>\n",
              "      <td>...</td>\n",
              "      <td>...</td>\n",
              "      <td>...</td>\n",
              "      <td>...</td>\n",
              "      <td>...</td>\n",
              "      <td>...</td>\n",
              "      <td>...</td>\n",
              "      <td>...</td>\n",
              "      <td>...</td>\n",
              "      <td>...</td>\n",
              "      <td>...</td>\n",
              "      <td>...</td>\n",
              "      <td>...</td>\n",
              "      <td>...</td>\n",
              "      <td>...</td>\n",
              "      <td>...</td>\n",
              "    </tr>\n",
              "    <tr>\n",
              "      <th>561520</th>\n",
              "      <td>0000</td>\n",
              "      <td>0.0</td>\n",
              "      <td>0.0</td>\n",
              "      <td>0.0</td>\n",
              "      <td>0.0</td>\n",
              "      <td>1.0</td>\n",
              "      <td>0.0</td>\n",
              "      <td>0.0</td>\n",
              "      <td>0.0</td>\n",
              "      <td>0.0</td>\n",
              "      <td>...</td>\n",
              "      <td>0.0</td>\n",
              "      <td>0.0</td>\n",
              "      <td>0.0</td>\n",
              "      <td>0.0</td>\n",
              "      <td>0.0</td>\n",
              "      <td>0.0</td>\n",
              "      <td>0.0</td>\n",
              "      <td>0.0</td>\n",
              "      <td>0.0</td>\n",
              "      <td>0.0</td>\n",
              "    </tr>\n",
              "    <tr>\n",
              "      <th>561521</th>\n",
              "      <td>0000</td>\n",
              "      <td>0.0</td>\n",
              "      <td>0.0</td>\n",
              "      <td>0.0</td>\n",
              "      <td>0.0</td>\n",
              "      <td>1.0</td>\n",
              "      <td>0.0</td>\n",
              "      <td>0.0</td>\n",
              "      <td>0.0</td>\n",
              "      <td>0.0</td>\n",
              "      <td>...</td>\n",
              "      <td>0.0</td>\n",
              "      <td>0.0</td>\n",
              "      <td>0.0</td>\n",
              "      <td>0.0</td>\n",
              "      <td>0.0</td>\n",
              "      <td>0.0</td>\n",
              "      <td>0.0</td>\n",
              "      <td>0.0</td>\n",
              "      <td>0.0</td>\n",
              "      <td>0.0</td>\n",
              "    </tr>\n",
              "    <tr>\n",
              "      <th>561522</th>\n",
              "      <td>0000</td>\n",
              "      <td>0.0</td>\n",
              "      <td>0.0</td>\n",
              "      <td>0.0</td>\n",
              "      <td>0.0</td>\n",
              "      <td>1.0</td>\n",
              "      <td>0.0</td>\n",
              "      <td>0.0</td>\n",
              "      <td>0.0</td>\n",
              "      <td>0.0</td>\n",
              "      <td>...</td>\n",
              "      <td>0.0</td>\n",
              "      <td>0.0</td>\n",
              "      <td>0.0</td>\n",
              "      <td>0.0</td>\n",
              "      <td>0.0</td>\n",
              "      <td>0.0</td>\n",
              "      <td>0.0</td>\n",
              "      <td>0.0</td>\n",
              "      <td>0.0</td>\n",
              "      <td>0.0</td>\n",
              "    </tr>\n",
              "    <tr>\n",
              "      <th>561523</th>\n",
              "      <td>0000</td>\n",
              "      <td>0.0</td>\n",
              "      <td>0.0</td>\n",
              "      <td>0.0</td>\n",
              "      <td>0.0</td>\n",
              "      <td>1.0</td>\n",
              "      <td>0.0</td>\n",
              "      <td>0.0</td>\n",
              "      <td>0.0</td>\n",
              "      <td>0.0</td>\n",
              "      <td>...</td>\n",
              "      <td>0.0</td>\n",
              "      <td>0.0</td>\n",
              "      <td>0.0</td>\n",
              "      <td>0.0</td>\n",
              "      <td>0.0</td>\n",
              "      <td>0.0</td>\n",
              "      <td>0.0</td>\n",
              "      <td>0.0</td>\n",
              "      <td>0.0</td>\n",
              "      <td>0.0</td>\n",
              "    </tr>\n",
              "    <tr>\n",
              "      <th>561524</th>\n",
              "      <td>0000</td>\n",
              "      <td>0.0</td>\n",
              "      <td>0.0</td>\n",
              "      <td>1.0</td>\n",
              "      <td>0.0</td>\n",
              "      <td>0.0</td>\n",
              "      <td>0.0</td>\n",
              "      <td>0.0</td>\n",
              "      <td>0.0</td>\n",
              "      <td>0.0</td>\n",
              "      <td>...</td>\n",
              "      <td>0.0</td>\n",
              "      <td>0.0</td>\n",
              "      <td>0.0</td>\n",
              "      <td>0.0</td>\n",
              "      <td>0.0</td>\n",
              "      <td>0.0</td>\n",
              "      <td>0.0</td>\n",
              "      <td>0.0</td>\n",
              "      <td>0.0</td>\n",
              "      <td>0.0</td>\n",
              "    </tr>\n",
              "  </tbody>\n",
              "</table>\n",
              "<p>561525 rows × 41 columns</p>\n",
              "</div>\n",
              "      <button class=\"colab-df-convert\" onclick=\"convertToInteractive('df-36675a06-9381-43ab-84af-68c5fbb806ef')\"\n",
              "              title=\"Convert this dataframe to an interactive table.\"\n",
              "              style=\"display:none;\">\n",
              "        \n",
              "  <svg xmlns=\"http://www.w3.org/2000/svg\" height=\"24px\"viewBox=\"0 0 24 24\"\n",
              "       width=\"24px\">\n",
              "    <path d=\"M0 0h24v24H0V0z\" fill=\"none\"/>\n",
              "    <path d=\"M18.56 5.44l.94 2.06.94-2.06 2.06-.94-2.06-.94-.94-2.06-.94 2.06-2.06.94zm-11 1L8.5 8.5l.94-2.06 2.06-.94-2.06-.94L8.5 2.5l-.94 2.06-2.06.94zm10 10l.94 2.06.94-2.06 2.06-.94-2.06-.94-.94-2.06-.94 2.06-2.06.94z\"/><path d=\"M17.41 7.96l-1.37-1.37c-.4-.4-.92-.59-1.43-.59-.52 0-1.04.2-1.43.59L10.3 9.45l-7.72 7.72c-.78.78-.78 2.05 0 2.83L4 21.41c.39.39.9.59 1.41.59.51 0 1.02-.2 1.41-.59l7.78-7.78 2.81-2.81c.8-.78.8-2.07 0-2.86zM5.41 20L4 18.59l7.72-7.72 1.47 1.35L5.41 20z\"/>\n",
              "  </svg>\n",
              "      </button>\n",
              "      \n",
              "  <style>\n",
              "    .colab-df-container {\n",
              "      display:flex;\n",
              "      flex-wrap:wrap;\n",
              "      gap: 12px;\n",
              "    }\n",
              "\n",
              "    .colab-df-convert {\n",
              "      background-color: #E8F0FE;\n",
              "      border: none;\n",
              "      border-radius: 50%;\n",
              "      cursor: pointer;\n",
              "      display: none;\n",
              "      fill: #1967D2;\n",
              "      height: 32px;\n",
              "      padding: 0 0 0 0;\n",
              "      width: 32px;\n",
              "    }\n",
              "\n",
              "    .colab-df-convert:hover {\n",
              "      background-color: #E2EBFA;\n",
              "      box-shadow: 0px 1px 2px rgba(60, 64, 67, 0.3), 0px 1px 3px 1px rgba(60, 64, 67, 0.15);\n",
              "      fill: #174EA6;\n",
              "    }\n",
              "\n",
              "    [theme=dark] .colab-df-convert {\n",
              "      background-color: #3B4455;\n",
              "      fill: #D2E3FC;\n",
              "    }\n",
              "\n",
              "    [theme=dark] .colab-df-convert:hover {\n",
              "      background-color: #434B5C;\n",
              "      box-shadow: 0px 1px 3px 1px rgba(0, 0, 0, 0.15);\n",
              "      filter: drop-shadow(0px 1px 2px rgba(0, 0, 0, 0.3));\n",
              "      fill: #FFFFFF;\n",
              "    }\n",
              "  </style>\n",
              "\n",
              "      <script>\n",
              "        const buttonEl =\n",
              "          document.querySelector('#df-36675a06-9381-43ab-84af-68c5fbb806ef button.colab-df-convert');\n",
              "        buttonEl.style.display =\n",
              "          google.colab.kernel.accessAllowed ? 'block' : 'none';\n",
              "\n",
              "        async function convertToInteractive(key) {\n",
              "          const element = document.querySelector('#df-36675a06-9381-43ab-84af-68c5fbb806ef');\n",
              "          const dataTable =\n",
              "            await google.colab.kernel.invokeFunction('convertToInteractive',\n",
              "                                                     [key], {});\n",
              "          if (!dataTable) return;\n",
              "\n",
              "          const docLinkHtml = 'Like what you see? Visit the ' +\n",
              "            '<a target=\"_blank\" href=https://colab.research.google.com/notebooks/data_table.ipynb>data table notebook</a>'\n",
              "            + ' to learn more about interactive tables.';\n",
              "          element.innerHTML = '';\n",
              "          dataTable['output_type'] = 'display_data';\n",
              "          await google.colab.output.renderOutput(dataTable, element);\n",
              "          const docLink = document.createElement('div');\n",
              "          docLink.innerHTML = docLinkHtml;\n",
              "          element.appendChild(docLink);\n",
              "        }\n",
              "      </script>\n",
              "    </div>\n",
              "  </div>\n",
              "  "
            ]
          },
          "metadata": {},
          "execution_count": 39
        }
      ]
    },
    {
      "cell_type": "code",
      "source": [
        "#Escalamos los datos numericos\n",
        "#KNN Imputer precisa que los datos esten estandarizados.\n",
        "# Datos con diferentes escalas introducen valores de reemplazo sesgados \n",
        "#  Scikit-Learn’s MinMaxScaler escala las variables al [0,1].\n",
        "\n",
        "from sklearn.experimental import enable_iterative_imputer\n",
        "from sklearn.neighbors import KNeighborsRegressor\n",
        "from sklearn.impute import IterativeImputer\n",
        "from sklearn.preprocessing import MinMaxScaler\n",
        "\n",
        "scaler = MinMaxScaler()\n",
        "melb_scaled = melb_enc.copy(deep=True)\n",
        "melb_scaled = scaler.fit_transform(melb_scaled[numerical_cols])\n",
        "melb_scaled"
      ],
      "metadata": {
        "colab": {
          "base_uri": "https://localhost:8080/",
          "height": 378
        },
        "id": "fQ-1Bi2THc9x",
        "outputId": "725891e7-8eac-4c55-c340-3787c08c06ea"
      },
      "execution_count": 40,
      "outputs": [
        {
          "output_type": "error",
          "ename": "ValueError",
          "evalue": "ignored",
          "traceback": [
            "\u001b[0;31m---------------------------------------------------------------------------\u001b[0m",
            "\u001b[0;31mValueError\u001b[0m                                Traceback (most recent call last)",
            "\u001b[0;32m<ipython-input-40-9020bb20e14c>\u001b[0m in \u001b[0;36m<module>\u001b[0;34m()\u001b[0m\n\u001b[1;32m     11\u001b[0m \u001b[0mscaler\u001b[0m \u001b[0;34m=\u001b[0m \u001b[0mMinMaxScaler\u001b[0m\u001b[0;34m(\u001b[0m\u001b[0;34m)\u001b[0m\u001b[0;34m\u001b[0m\u001b[0;34m\u001b[0m\u001b[0m\n\u001b[1;32m     12\u001b[0m \u001b[0mmelb_scaled\u001b[0m \u001b[0;34m=\u001b[0m \u001b[0mmelb_enc\u001b[0m\u001b[0;34m.\u001b[0m\u001b[0mcopy\u001b[0m\u001b[0;34m(\u001b[0m\u001b[0mdeep\u001b[0m\u001b[0;34m=\u001b[0m\u001b[0;32mTrue\u001b[0m\u001b[0;34m)\u001b[0m\u001b[0;34m\u001b[0m\u001b[0;34m\u001b[0m\u001b[0m\n\u001b[0;32m---> 13\u001b[0;31m \u001b[0mmelb_scaled\u001b[0m \u001b[0;34m=\u001b[0m \u001b[0mscaler\u001b[0m\u001b[0;34m.\u001b[0m\u001b[0mfit_transform\u001b[0m\u001b[0;34m(\u001b[0m\u001b[0mmelb_scaled\u001b[0m\u001b[0;34m[\u001b[0m\u001b[0mnumerical_cols\u001b[0m\u001b[0;34m]\u001b[0m\u001b[0;34m)\u001b[0m\u001b[0;34m\u001b[0m\u001b[0;34m\u001b[0m\u001b[0m\n\u001b[0m\u001b[1;32m     14\u001b[0m \u001b[0mmelb_scaled\u001b[0m\u001b[0;34m\u001b[0m\u001b[0;34m\u001b[0m\u001b[0m\n",
            "\u001b[0;32m/usr/local/lib/python3.7/dist-packages/sklearn/base.py\u001b[0m in \u001b[0;36mfit_transform\u001b[0;34m(self, X, y, **fit_params)\u001b[0m\n\u001b[1;32m    850\u001b[0m         \u001b[0;32mif\u001b[0m \u001b[0my\u001b[0m \u001b[0;32mis\u001b[0m \u001b[0;32mNone\u001b[0m\u001b[0;34m:\u001b[0m\u001b[0;34m\u001b[0m\u001b[0;34m\u001b[0m\u001b[0m\n\u001b[1;32m    851\u001b[0m             \u001b[0;31m# fit method of arity 1 (unsupervised transformation)\u001b[0m\u001b[0;34m\u001b[0m\u001b[0;34m\u001b[0m\u001b[0;34m\u001b[0m\u001b[0m\n\u001b[0;32m--> 852\u001b[0;31m             \u001b[0;32mreturn\u001b[0m \u001b[0mself\u001b[0m\u001b[0;34m.\u001b[0m\u001b[0mfit\u001b[0m\u001b[0;34m(\u001b[0m\u001b[0mX\u001b[0m\u001b[0;34m,\u001b[0m \u001b[0;34m**\u001b[0m\u001b[0mfit_params\u001b[0m\u001b[0;34m)\u001b[0m\u001b[0;34m.\u001b[0m\u001b[0mtransform\u001b[0m\u001b[0;34m(\u001b[0m\u001b[0mX\u001b[0m\u001b[0;34m)\u001b[0m\u001b[0;34m\u001b[0m\u001b[0;34m\u001b[0m\u001b[0m\n\u001b[0m\u001b[1;32m    853\u001b[0m         \u001b[0;32melse\u001b[0m\u001b[0;34m:\u001b[0m\u001b[0;34m\u001b[0m\u001b[0;34m\u001b[0m\u001b[0m\n\u001b[1;32m    854\u001b[0m             \u001b[0;31m# fit method of arity 2 (supervised transformation)\u001b[0m\u001b[0;34m\u001b[0m\u001b[0;34m\u001b[0m\u001b[0;34m\u001b[0m\u001b[0m\n",
            "\u001b[0;32m/usr/local/lib/python3.7/dist-packages/sklearn/preprocessing/_data.py\u001b[0m in \u001b[0;36mfit\u001b[0;34m(self, X, y)\u001b[0m\n\u001b[1;32m    414\u001b[0m         \u001b[0;31m# Reset internal state before fitting\u001b[0m\u001b[0;34m\u001b[0m\u001b[0;34m\u001b[0m\u001b[0;34m\u001b[0m\u001b[0m\n\u001b[1;32m    415\u001b[0m         \u001b[0mself\u001b[0m\u001b[0;34m.\u001b[0m\u001b[0m_reset\u001b[0m\u001b[0;34m(\u001b[0m\u001b[0;34m)\u001b[0m\u001b[0;34m\u001b[0m\u001b[0;34m\u001b[0m\u001b[0m\n\u001b[0;32m--> 416\u001b[0;31m         \u001b[0;32mreturn\u001b[0m \u001b[0mself\u001b[0m\u001b[0;34m.\u001b[0m\u001b[0mpartial_fit\u001b[0m\u001b[0;34m(\u001b[0m\u001b[0mX\u001b[0m\u001b[0;34m,\u001b[0m \u001b[0my\u001b[0m\u001b[0;34m)\u001b[0m\u001b[0;34m\u001b[0m\u001b[0;34m\u001b[0m\u001b[0m\n\u001b[0m\u001b[1;32m    417\u001b[0m \u001b[0;34m\u001b[0m\u001b[0m\n\u001b[1;32m    418\u001b[0m     \u001b[0;32mdef\u001b[0m \u001b[0mpartial_fit\u001b[0m\u001b[0;34m(\u001b[0m\u001b[0mself\u001b[0m\u001b[0;34m,\u001b[0m \u001b[0mX\u001b[0m\u001b[0;34m,\u001b[0m \u001b[0my\u001b[0m\u001b[0;34m=\u001b[0m\u001b[0;32mNone\u001b[0m\u001b[0;34m)\u001b[0m\u001b[0;34m:\u001b[0m\u001b[0;34m\u001b[0m\u001b[0;34m\u001b[0m\u001b[0m\n",
            "\u001b[0;32m/usr/local/lib/python3.7/dist-packages/sklearn/preprocessing/_data.py\u001b[0m in \u001b[0;36mpartial_fit\u001b[0;34m(self, X, y)\u001b[0m\n\u001b[1;32m    456\u001b[0m             \u001b[0mestimator\u001b[0m\u001b[0;34m=\u001b[0m\u001b[0mself\u001b[0m\u001b[0;34m,\u001b[0m\u001b[0;34m\u001b[0m\u001b[0;34m\u001b[0m\u001b[0m\n\u001b[1;32m    457\u001b[0m             \u001b[0mdtype\u001b[0m\u001b[0;34m=\u001b[0m\u001b[0mFLOAT_DTYPES\u001b[0m\u001b[0;34m,\u001b[0m\u001b[0;34m\u001b[0m\u001b[0;34m\u001b[0m\u001b[0m\n\u001b[0;32m--> 458\u001b[0;31m             \u001b[0mforce_all_finite\u001b[0m\u001b[0;34m=\u001b[0m\u001b[0;34m\"allow-nan\"\u001b[0m\u001b[0;34m,\u001b[0m\u001b[0;34m\u001b[0m\u001b[0;34m\u001b[0m\u001b[0m\n\u001b[0m\u001b[1;32m    459\u001b[0m         )\n\u001b[1;32m    460\u001b[0m \u001b[0;34m\u001b[0m\u001b[0m\n",
            "\u001b[0;32m/usr/local/lib/python3.7/dist-packages/sklearn/base.py\u001b[0m in \u001b[0;36m_validate_data\u001b[0;34m(self, X, y, reset, validate_separately, **check_params)\u001b[0m\n\u001b[1;32m    564\u001b[0m             \u001b[0;32mraise\u001b[0m \u001b[0mValueError\u001b[0m\u001b[0;34m(\u001b[0m\u001b[0;34m\"Validation should be done on X, y or both.\"\u001b[0m\u001b[0;34m)\u001b[0m\u001b[0;34m\u001b[0m\u001b[0;34m\u001b[0m\u001b[0m\n\u001b[1;32m    565\u001b[0m         \u001b[0;32melif\u001b[0m \u001b[0;32mnot\u001b[0m \u001b[0mno_val_X\u001b[0m \u001b[0;32mand\u001b[0m \u001b[0mno_val_y\u001b[0m\u001b[0;34m:\u001b[0m\u001b[0;34m\u001b[0m\u001b[0;34m\u001b[0m\u001b[0m\n\u001b[0;32m--> 566\u001b[0;31m             \u001b[0mX\u001b[0m \u001b[0;34m=\u001b[0m \u001b[0mcheck_array\u001b[0m\u001b[0;34m(\u001b[0m\u001b[0mX\u001b[0m\u001b[0;34m,\u001b[0m \u001b[0;34m**\u001b[0m\u001b[0mcheck_params\u001b[0m\u001b[0;34m)\u001b[0m\u001b[0;34m\u001b[0m\u001b[0;34m\u001b[0m\u001b[0m\n\u001b[0m\u001b[1;32m    567\u001b[0m             \u001b[0mout\u001b[0m \u001b[0;34m=\u001b[0m \u001b[0mX\u001b[0m\u001b[0;34m\u001b[0m\u001b[0;34m\u001b[0m\u001b[0m\n\u001b[1;32m    568\u001b[0m         \u001b[0;32melif\u001b[0m \u001b[0mno_val_X\u001b[0m \u001b[0;32mand\u001b[0m \u001b[0;32mnot\u001b[0m \u001b[0mno_val_y\u001b[0m\u001b[0;34m:\u001b[0m\u001b[0;34m\u001b[0m\u001b[0;34m\u001b[0m\u001b[0m\n",
            "\u001b[0;32m/usr/local/lib/python3.7/dist-packages/sklearn/utils/validation.py\u001b[0m in \u001b[0;36mcheck_array\u001b[0;34m(array, accept_sparse, accept_large_sparse, dtype, order, copy, force_all_finite, ensure_2d, allow_nd, ensure_min_samples, ensure_min_features, estimator)\u001b[0m\n\u001b[1;32m    744\u001b[0m                     \u001b[0marray\u001b[0m \u001b[0;34m=\u001b[0m \u001b[0marray\u001b[0m\u001b[0;34m.\u001b[0m\u001b[0mastype\u001b[0m\u001b[0;34m(\u001b[0m\u001b[0mdtype\u001b[0m\u001b[0;34m,\u001b[0m \u001b[0mcasting\u001b[0m\u001b[0;34m=\u001b[0m\u001b[0;34m\"unsafe\"\u001b[0m\u001b[0;34m,\u001b[0m \u001b[0mcopy\u001b[0m\u001b[0;34m=\u001b[0m\u001b[0;32mFalse\u001b[0m\u001b[0;34m)\u001b[0m\u001b[0;34m\u001b[0m\u001b[0;34m\u001b[0m\u001b[0m\n\u001b[1;32m    745\u001b[0m                 \u001b[0;32melse\u001b[0m\u001b[0;34m:\u001b[0m\u001b[0;34m\u001b[0m\u001b[0;34m\u001b[0m\u001b[0m\n\u001b[0;32m--> 746\u001b[0;31m                     \u001b[0marray\u001b[0m \u001b[0;34m=\u001b[0m \u001b[0mnp\u001b[0m\u001b[0;34m.\u001b[0m\u001b[0masarray\u001b[0m\u001b[0;34m(\u001b[0m\u001b[0marray\u001b[0m\u001b[0;34m,\u001b[0m \u001b[0morder\u001b[0m\u001b[0;34m=\u001b[0m\u001b[0morder\u001b[0m\u001b[0;34m,\u001b[0m \u001b[0mdtype\u001b[0m\u001b[0;34m=\u001b[0m\u001b[0mdtype\u001b[0m\u001b[0;34m)\u001b[0m\u001b[0;34m\u001b[0m\u001b[0;34m\u001b[0m\u001b[0m\n\u001b[0m\u001b[1;32m    747\u001b[0m             \u001b[0;32mexcept\u001b[0m \u001b[0mComplexWarning\u001b[0m \u001b[0;32mas\u001b[0m \u001b[0mcomplex_warning\u001b[0m\u001b[0;34m:\u001b[0m\u001b[0;34m\u001b[0m\u001b[0;34m\u001b[0m\u001b[0m\n\u001b[1;32m    748\u001b[0m                 raise ValueError(\n",
            "\u001b[0;32m/usr/local/lib/python3.7/dist-packages/pandas/core/generic.py\u001b[0m in \u001b[0;36m__array__\u001b[0;34m(self, dtype)\u001b[0m\n\u001b[1;32m   1991\u001b[0m \u001b[0;34m\u001b[0m\u001b[0m\n\u001b[1;32m   1992\u001b[0m     \u001b[0;32mdef\u001b[0m \u001b[0m__array__\u001b[0m\u001b[0;34m(\u001b[0m\u001b[0mself\u001b[0m\u001b[0;34m,\u001b[0m \u001b[0mdtype\u001b[0m\u001b[0;34m:\u001b[0m \u001b[0mNpDtype\u001b[0m \u001b[0;34m|\u001b[0m \u001b[0;32mNone\u001b[0m \u001b[0;34m=\u001b[0m \u001b[0;32mNone\u001b[0m\u001b[0;34m)\u001b[0m \u001b[0;34m->\u001b[0m \u001b[0mnp\u001b[0m\u001b[0;34m.\u001b[0m\u001b[0mndarray\u001b[0m\u001b[0;34m:\u001b[0m\u001b[0;34m\u001b[0m\u001b[0;34m\u001b[0m\u001b[0m\n\u001b[0;32m-> 1993\u001b[0;31m         \u001b[0;32mreturn\u001b[0m \u001b[0mnp\u001b[0m\u001b[0;34m.\u001b[0m\u001b[0masarray\u001b[0m\u001b[0;34m(\u001b[0m\u001b[0mself\u001b[0m\u001b[0;34m.\u001b[0m\u001b[0m_values\u001b[0m\u001b[0;34m,\u001b[0m \u001b[0mdtype\u001b[0m\u001b[0;34m=\u001b[0m\u001b[0mdtype\u001b[0m\u001b[0;34m)\u001b[0m\u001b[0;34m\u001b[0m\u001b[0;34m\u001b[0m\u001b[0m\n\u001b[0m\u001b[1;32m   1994\u001b[0m \u001b[0;34m\u001b[0m\u001b[0m\n\u001b[1;32m   1995\u001b[0m     def __array_wrap__(\n",
            "\u001b[0;31mValueError\u001b[0m: could not convert string to float: 'FOGA'"
          ]
        }
      ]
    },
    {
      "cell_type": "code",
      "source": [
        "#Acá empieza la parte de Marce ++++++++++++++++++++++++++++++++++++++++"
      ],
      "metadata": {
        "id": "je4QdPXnMzHO"
      },
      "execution_count": 41,
      "outputs": []
    },
    {
      "cell_type": "code",
      "source": [
        "#Confeccionamos un dataset con las features que nos interesan\n",
        "OHE_df = data[categorical_cols+numerical_cols]"
      ],
      "metadata": {
        "id": "1yQEqRpDM3zz"
      },
      "execution_count": 42,
      "outputs": []
    },
    {
      "cell_type": "code",
      "source": [
        "OHE_df.head()"
      ],
      "metadata": {
        "colab": {
          "base_uri": "https://localhost:8080/",
          "height": 206
        },
        "id": "Up0G3LfE6jhX",
        "outputId": "d20c841a-f5cf-476b-edbd-2bfa79b97093"
      },
      "execution_count": 43,
      "outputs": [
        {
          "output_type": "execute_result",
          "data": {
            "text/plain": [
              "  nombre_prod codigo_error departamento\n",
              "0  Producto 0           UE         0000\n",
              "1   Product 1           C4         0000\n",
              "2      Diesel           C1         0000\n",
              "3      Diesel           C0         0014\n",
              "4      Diesel           BF         0002"
            ],
            "text/html": [
              "\n",
              "  <div id=\"df-ce357d6f-1eec-428e-ad1a-6eea913dcf1a\">\n",
              "    <div class=\"colab-df-container\">\n",
              "      <div>\n",
              "<style scoped>\n",
              "    .dataframe tbody tr th:only-of-type {\n",
              "        vertical-align: middle;\n",
              "    }\n",
              "\n",
              "    .dataframe tbody tr th {\n",
              "        vertical-align: top;\n",
              "    }\n",
              "\n",
              "    .dataframe thead th {\n",
              "        text-align: right;\n",
              "    }\n",
              "</style>\n",
              "<table border=\"1\" class=\"dataframe\">\n",
              "  <thead>\n",
              "    <tr style=\"text-align: right;\">\n",
              "      <th></th>\n",
              "      <th>nombre_prod</th>\n",
              "      <th>codigo_error</th>\n",
              "      <th>departamento</th>\n",
              "    </tr>\n",
              "  </thead>\n",
              "  <tbody>\n",
              "    <tr>\n",
              "      <th>0</th>\n",
              "      <td>Producto 0</td>\n",
              "      <td>UE</td>\n",
              "      <td>0000</td>\n",
              "    </tr>\n",
              "    <tr>\n",
              "      <th>1</th>\n",
              "      <td>Product 1</td>\n",
              "      <td>C4</td>\n",
              "      <td>0000</td>\n",
              "    </tr>\n",
              "    <tr>\n",
              "      <th>2</th>\n",
              "      <td>Diesel</td>\n",
              "      <td>C1</td>\n",
              "      <td>0000</td>\n",
              "    </tr>\n",
              "    <tr>\n",
              "      <th>3</th>\n",
              "      <td>Diesel</td>\n",
              "      <td>C0</td>\n",
              "      <td>0014</td>\n",
              "    </tr>\n",
              "    <tr>\n",
              "      <th>4</th>\n",
              "      <td>Diesel</td>\n",
              "      <td>BF</td>\n",
              "      <td>0002</td>\n",
              "    </tr>\n",
              "  </tbody>\n",
              "</table>\n",
              "</div>\n",
              "      <button class=\"colab-df-convert\" onclick=\"convertToInteractive('df-ce357d6f-1eec-428e-ad1a-6eea913dcf1a')\"\n",
              "              title=\"Convert this dataframe to an interactive table.\"\n",
              "              style=\"display:none;\">\n",
              "        \n",
              "  <svg xmlns=\"http://www.w3.org/2000/svg\" height=\"24px\"viewBox=\"0 0 24 24\"\n",
              "       width=\"24px\">\n",
              "    <path d=\"M0 0h24v24H0V0z\" fill=\"none\"/>\n",
              "    <path d=\"M18.56 5.44l.94 2.06.94-2.06 2.06-.94-2.06-.94-.94-2.06-.94 2.06-2.06.94zm-11 1L8.5 8.5l.94-2.06 2.06-.94-2.06-.94L8.5 2.5l-.94 2.06-2.06.94zm10 10l.94 2.06.94-2.06 2.06-.94-2.06-.94-.94-2.06-.94 2.06-2.06.94z\"/><path d=\"M17.41 7.96l-1.37-1.37c-.4-.4-.92-.59-1.43-.59-.52 0-1.04.2-1.43.59L10.3 9.45l-7.72 7.72c-.78.78-.78 2.05 0 2.83L4 21.41c.39.39.9.59 1.41.59.51 0 1.02-.2 1.41-.59l7.78-7.78 2.81-2.81c.8-.78.8-2.07 0-2.86zM5.41 20L4 18.59l7.72-7.72 1.47 1.35L5.41 20z\"/>\n",
              "  </svg>\n",
              "      </button>\n",
              "      \n",
              "  <style>\n",
              "    .colab-df-container {\n",
              "      display:flex;\n",
              "      flex-wrap:wrap;\n",
              "      gap: 12px;\n",
              "    }\n",
              "\n",
              "    .colab-df-convert {\n",
              "      background-color: #E8F0FE;\n",
              "      border: none;\n",
              "      border-radius: 50%;\n",
              "      cursor: pointer;\n",
              "      display: none;\n",
              "      fill: #1967D2;\n",
              "      height: 32px;\n",
              "      padding: 0 0 0 0;\n",
              "      width: 32px;\n",
              "    }\n",
              "\n",
              "    .colab-df-convert:hover {\n",
              "      background-color: #E2EBFA;\n",
              "      box-shadow: 0px 1px 2px rgba(60, 64, 67, 0.3), 0px 1px 3px 1px rgba(60, 64, 67, 0.15);\n",
              "      fill: #174EA6;\n",
              "    }\n",
              "\n",
              "    [theme=dark] .colab-df-convert {\n",
              "      background-color: #3B4455;\n",
              "      fill: #D2E3FC;\n",
              "    }\n",
              "\n",
              "    [theme=dark] .colab-df-convert:hover {\n",
              "      background-color: #434B5C;\n",
              "      box-shadow: 0px 1px 3px 1px rgba(0, 0, 0, 0.15);\n",
              "      filter: drop-shadow(0px 1px 2px rgba(0, 0, 0, 0.3));\n",
              "      fill: #FFFFFF;\n",
              "    }\n",
              "  </style>\n",
              "\n",
              "      <script>\n",
              "        const buttonEl =\n",
              "          document.querySelector('#df-ce357d6f-1eec-428e-ad1a-6eea913dcf1a button.colab-df-convert');\n",
              "        buttonEl.style.display =\n",
              "          google.colab.kernel.accessAllowed ? 'block' : 'none';\n",
              "\n",
              "        async function convertToInteractive(key) {\n",
              "          const element = document.querySelector('#df-ce357d6f-1eec-428e-ad1a-6eea913dcf1a');\n",
              "          const dataTable =\n",
              "            await google.colab.kernel.invokeFunction('convertToInteractive',\n",
              "                                                     [key], {});\n",
              "          if (!dataTable) return;\n",
              "\n",
              "          const docLinkHtml = 'Like what you see? Visit the ' +\n",
              "            '<a target=\"_blank\" href=https://colab.research.google.com/notebooks/data_table.ipynb>data table notebook</a>'\n",
              "            + ' to learn more about interactive tables.';\n",
              "          element.innerHTML = '';\n",
              "          dataTable['output_type'] = 'display_data';\n",
              "          await google.colab.output.renderOutput(dataTable, element);\n",
              "          const docLink = document.createElement('div');\n",
              "          docLink.innerHTML = docLinkHtml;\n",
              "          element.appendChild(docLink);\n",
              "        }\n",
              "      </script>\n",
              "    </div>\n",
              "  </div>\n",
              "  "
            ]
          },
          "metadata": {},
          "execution_count": 43
        }
      ]
    },
    {
      "cell_type": "code",
      "source": [
        "#Confirmamos qué variables son de nuestro interés y cuántos valores distintos hay\n",
        "OHE_df.nunique()"
      ],
      "metadata": {
        "colab": {
          "base_uri": "https://localhost:8080/"
        },
        "id": "Pcf4eUg9N34z",
        "outputId": "c170249e-9fe8-4af1-ec54-a50c3b9ba55e"
      },
      "execution_count": 44,
      "outputs": [
        {
          "output_type": "execute_result",
          "data": {
            "text/plain": [
              "nombre_prod      24\n",
              "codigo_error     26\n",
              "departamento    199\n",
              "dtype: int64"
            ]
          },
          "metadata": {},
          "execution_count": 44
        }
      ]
    },
    {
      "cell_type": "markdown",
      "source": [
        "Se han desestimado las features \"id\" ya que no representan variables categóricas y tampoco podrían normalizarse."
      ],
      "metadata": {
        "id": "jUVEwki5y6MA"
      }
    },
    {
      "cell_type": "code",
      "source": [
        "# Analizamos si existen valores nulos. \n",
        "OHE_df.isna().sum()"
      ],
      "metadata": {
        "colab": {
          "base_uri": "https://localhost:8080/"
        },
        "id": "ugv5A0ccOKzI",
        "outputId": "8f62b21e-7e3d-445c-f2aa-6650ae0b7387"
      },
      "execution_count": 45,
      "outputs": [
        {
          "output_type": "execute_result",
          "data": {
            "text/plain": [
              "nombre_prod     0\n",
              "codigo_error    0\n",
              "departamento    0\n",
              "dtype: int64"
            ]
          },
          "metadata": {},
          "execution_count": 45
        }
      ]
    },
    {
      "cell_type": "code",
      "source": [
        "#One hot encoder compacto \n",
        "\n",
        "from sklearn.preprocessing import OneHotEncoder\n",
        "\n",
        "encoder= OneHotEncoder(sparse=False) #Sparse=False nos aseguramos que la matriz sea densa\n",
        "encoder.fit(data[categorical_cols])\n",
        "categoric_OHE=encoder.transform(data[categorical_cols])\n",
        "encoder.fit(data[numerical_cols])\n",
        "numeric_OHE=encoder.transform(data[numerical_cols])\n",
        "Dense_df=numpy.hstack((categoric_OHE,numeric_OHE))\n",
        "print(Dense_df)\n",
        "print(Dense_df.shape)\n",
        "print(type(Dense_df))\n"
      ],
      "metadata": {
        "colab": {
          "base_uri": "https://localhost:8080/"
        },
        "id": "5HUqJlzi1BeG",
        "outputId": "3c892c1a-b441-452d-84f0-5f9f36f3b40a"
      },
      "execution_count": 46,
      "outputs": [
        {
          "output_type": "stream",
          "name": "stdout",
          "text": [
            "[[0. 0. 0. ... 0. 0. 0.]\n",
            " [0. 0. 0. ... 0. 0. 0.]\n",
            " [0. 0. 0. ... 0. 0. 0.]\n",
            " ...\n",
            " [0. 0. 0. ... 0. 0. 0.]\n",
            " [0. 0. 0. ... 0. 0. 0.]\n",
            " [0. 0. 0. ... 0. 0. 0.]]\n",
            "(561525, 249)\n",
            "<class 'numpy.ndarray'>\n"
          ]
        }
      ]
    },
    {
      "cell_type": "code",
      "source": [
        "#Calculamos el peso de la matriz densa resultante\n",
        "matrix_size_mb = Dense_df.shape[0] * Dense_df.shape[1] * 4 / 1024 / 1024 #tamaño de la matriz obtenida por la opcion 1\n",
        "print(\"The dense matrix will weight approximately {:.2f} MB\".format(matrix_size_mb))"
      ],
      "metadata": {
        "colab": {
          "base_uri": "https://localhost:8080/"
        },
        "id": "p_sGINGrCGjD",
        "outputId": "ace1ce82-0b14-481b-bcf8-b6d01a7ad6c9"
      },
      "execution_count": 47,
      "outputs": [
        {
          "output_type": "stream",
          "name": "stdout",
          "text": [
            "The dense matrix will weight approximately 533.37 MB\n"
          ]
        }
      ]
    },
    {
      "cell_type": "markdown",
      "source": [
        "Del resultado anterior se obtiene que el peso de la matriz excede la capacidad de procesamiento del KNN. Es por ello que procederemos a fraccionar el dataset para poder entrenar el modelo."
      ],
      "metadata": {
        "id": "39rYqCr9xJIk"
      }
    },
    {
      "cell_type": "markdown",
      "metadata": {
        "id": "jSh8Lx1CGtx_"
      },
      "source": [
        "#### 3. Imputación de datos faltantes\n",
        "\n",
        "- En el caso de haber seleccionado algunas de las columnas con valores faltantes, imputar sus valores con el método y estimador convenientes para poder ser utilizados.\n",
        "- Realizar el encoding (si corresponde) sobre las columnas imputadas."
      ]
    },
    {
      "cell_type": "code",
      "execution_count": 47,
      "metadata": {
        "id": "KXRmmWltHCoI"
      },
      "outputs": [],
      "source": [
        ""
      ]
    },
    {
      "cell_type": "code",
      "execution_count": 50,
      "metadata": {
        "colab": {
          "base_uri": "https://localhost:8080/",
          "height": 396
        },
        "outputId": "64e1eb30-4f32-4dff-fa9a-5448f6d4dab1",
        "id": "xjoZLKfZU6lc"
      },
      "outputs": [
        {
          "output_type": "error",
          "ename": "ValueError",
          "evalue": "ignored",
          "traceback": [
            "\u001b[0;31m---------------------------------------------------------------------------\u001b[0m",
            "\u001b[0;31mValueError\u001b[0m                                Traceback (most recent call last)",
            "\u001b[0;32m<ipython-input-50-7ca6f9619c3f>\u001b[0m in \u001b[0;36m<module>\u001b[0;34m()\u001b[0m\n\u001b[1;32m      2\u001b[0m \u001b[0;34m\u001b[0m\u001b[0m\n\u001b[1;32m      3\u001b[0m \u001b[0mimputer\u001b[0m \u001b[0;34m=\u001b[0m \u001b[0mIterativeImputer\u001b[0m\u001b[0;34m(\u001b[0m\u001b[0mestimator\u001b[0m\u001b[0;34m=\u001b[0m\u001b[0mKNeighborsRegressor\u001b[0m\u001b[0;34m(\u001b[0m\u001b[0;34m)\u001b[0m\u001b[0;34m)\u001b[0m\u001b[0;34m\u001b[0m\u001b[0;34m\u001b[0m\u001b[0m\n\u001b[0;32m----> 4\u001b[0;31m \u001b[0mmelb_imputed\u001b[0m \u001b[0;34m=\u001b[0m \u001b[0mimputer\u001b[0m\u001b[0;34m.\u001b[0m\u001b[0mfit_transform\u001b[0m\u001b[0;34m(\u001b[0m\u001b[0mmelb_scaled\u001b[0m\u001b[0;34m)\u001b[0m\u001b[0;34m\u001b[0m\u001b[0;34m\u001b[0m\u001b[0m\n\u001b[0m\u001b[1;32m      5\u001b[0m \u001b[0mmelb_imputed\u001b[0m \u001b[0;34m=\u001b[0m \u001b[0mscaler\u001b[0m\u001b[0;34m.\u001b[0m\u001b[0minverse_transform\u001b[0m\u001b[0;34m(\u001b[0m\u001b[0mmelb_imputed\u001b[0m\u001b[0;34m)\u001b[0m\u001b[0;34m\u001b[0m\u001b[0;34m\u001b[0m\u001b[0m\n\u001b[1;32m      6\u001b[0m \u001b[0;34m\u001b[0m\u001b[0m\n",
            "\u001b[0;32m/usr/local/lib/python3.7/dist-packages/sklearn/impute/_iterative.py\u001b[0m in \u001b[0;36mfit_transform\u001b[0;34m(self, X, y)\u001b[0m\n\u001b[1;32m    617\u001b[0m \u001b[0;34m\u001b[0m\u001b[0m\n\u001b[1;32m    618\u001b[0m         X, Xt, mask_missing_values, complete_mask = self._initial_imputation(\n\u001b[0;32m--> 619\u001b[0;31m             \u001b[0mX\u001b[0m\u001b[0;34m,\u001b[0m \u001b[0min_fit\u001b[0m\u001b[0;34m=\u001b[0m\u001b[0;32mTrue\u001b[0m\u001b[0;34m\u001b[0m\u001b[0;34m\u001b[0m\u001b[0m\n\u001b[0m\u001b[1;32m    620\u001b[0m         )\n\u001b[1;32m    621\u001b[0m \u001b[0;34m\u001b[0m\u001b[0m\n",
            "\u001b[0;32m/usr/local/lib/python3.7/dist-packages/sklearn/impute/_iterative.py\u001b[0m in \u001b[0;36m_initial_imputation\u001b[0;34m(self, X, in_fit)\u001b[0m\n\u001b[1;32m    517\u001b[0m             \u001b[0morder\u001b[0m\u001b[0;34m=\u001b[0m\u001b[0;34m\"F\"\u001b[0m\u001b[0;34m,\u001b[0m\u001b[0;34m\u001b[0m\u001b[0;34m\u001b[0m\u001b[0m\n\u001b[1;32m    518\u001b[0m             \u001b[0mreset\u001b[0m\u001b[0;34m=\u001b[0m\u001b[0min_fit\u001b[0m\u001b[0;34m,\u001b[0m\u001b[0;34m\u001b[0m\u001b[0;34m\u001b[0m\u001b[0m\n\u001b[0;32m--> 519\u001b[0;31m             \u001b[0mforce_all_finite\u001b[0m\u001b[0;34m=\u001b[0m\u001b[0mforce_all_finite\u001b[0m\u001b[0;34m,\u001b[0m\u001b[0;34m\u001b[0m\u001b[0;34m\u001b[0m\u001b[0m\n\u001b[0m\u001b[1;32m    520\u001b[0m         )\n\u001b[1;32m    521\u001b[0m         \u001b[0m_check_inputs_dtype\u001b[0m\u001b[0;34m(\u001b[0m\u001b[0mX\u001b[0m\u001b[0;34m,\u001b[0m \u001b[0mself\u001b[0m\u001b[0;34m.\u001b[0m\u001b[0mmissing_values\u001b[0m\u001b[0;34m)\u001b[0m\u001b[0;34m\u001b[0m\u001b[0;34m\u001b[0m\u001b[0m\n",
            "\u001b[0;32m/usr/local/lib/python3.7/dist-packages/sklearn/base.py\u001b[0m in \u001b[0;36m_validate_data\u001b[0;34m(self, X, y, reset, validate_separately, **check_params)\u001b[0m\n\u001b[1;32m    564\u001b[0m             \u001b[0;32mraise\u001b[0m \u001b[0mValueError\u001b[0m\u001b[0;34m(\u001b[0m\u001b[0;34m\"Validation should be done on X, y or both.\"\u001b[0m\u001b[0;34m)\u001b[0m\u001b[0;34m\u001b[0m\u001b[0;34m\u001b[0m\u001b[0m\n\u001b[1;32m    565\u001b[0m         \u001b[0;32melif\u001b[0m \u001b[0;32mnot\u001b[0m \u001b[0mno_val_X\u001b[0m \u001b[0;32mand\u001b[0m \u001b[0mno_val_y\u001b[0m\u001b[0;34m:\u001b[0m\u001b[0;34m\u001b[0m\u001b[0;34m\u001b[0m\u001b[0m\n\u001b[0;32m--> 566\u001b[0;31m             \u001b[0mX\u001b[0m \u001b[0;34m=\u001b[0m \u001b[0mcheck_array\u001b[0m\u001b[0;34m(\u001b[0m\u001b[0mX\u001b[0m\u001b[0;34m,\u001b[0m \u001b[0;34m**\u001b[0m\u001b[0mcheck_params\u001b[0m\u001b[0;34m)\u001b[0m\u001b[0;34m\u001b[0m\u001b[0;34m\u001b[0m\u001b[0m\n\u001b[0m\u001b[1;32m    567\u001b[0m             \u001b[0mout\u001b[0m \u001b[0;34m=\u001b[0m \u001b[0mX\u001b[0m\u001b[0;34m\u001b[0m\u001b[0;34m\u001b[0m\u001b[0m\n\u001b[1;32m    568\u001b[0m         \u001b[0;32melif\u001b[0m \u001b[0mno_val_X\u001b[0m \u001b[0;32mand\u001b[0m \u001b[0;32mnot\u001b[0m \u001b[0mno_val_y\u001b[0m\u001b[0;34m:\u001b[0m\u001b[0;34m\u001b[0m\u001b[0;34m\u001b[0m\u001b[0m\n",
            "\u001b[0;32m/usr/local/lib/python3.7/dist-packages/sklearn/utils/validation.py\u001b[0m in \u001b[0;36mcheck_array\u001b[0;34m(array, accept_sparse, accept_large_sparse, dtype, order, copy, force_all_finite, ensure_2d, allow_nd, ensure_min_samples, ensure_min_features, estimator)\u001b[0m\n\u001b[1;32m    744\u001b[0m                     \u001b[0marray\u001b[0m \u001b[0;34m=\u001b[0m \u001b[0marray\u001b[0m\u001b[0;34m.\u001b[0m\u001b[0mastype\u001b[0m\u001b[0;34m(\u001b[0m\u001b[0mdtype\u001b[0m\u001b[0;34m,\u001b[0m \u001b[0mcasting\u001b[0m\u001b[0;34m=\u001b[0m\u001b[0;34m\"unsafe\"\u001b[0m\u001b[0;34m,\u001b[0m \u001b[0mcopy\u001b[0m\u001b[0;34m=\u001b[0m\u001b[0;32mFalse\u001b[0m\u001b[0;34m)\u001b[0m\u001b[0;34m\u001b[0m\u001b[0;34m\u001b[0m\u001b[0m\n\u001b[1;32m    745\u001b[0m                 \u001b[0;32melse\u001b[0m\u001b[0;34m:\u001b[0m\u001b[0;34m\u001b[0m\u001b[0;34m\u001b[0m\u001b[0m\n\u001b[0;32m--> 746\u001b[0;31m                     \u001b[0marray\u001b[0m \u001b[0;34m=\u001b[0m \u001b[0mnp\u001b[0m\u001b[0;34m.\u001b[0m\u001b[0masarray\u001b[0m\u001b[0;34m(\u001b[0m\u001b[0marray\u001b[0m\u001b[0;34m,\u001b[0m \u001b[0morder\u001b[0m\u001b[0;34m=\u001b[0m\u001b[0morder\u001b[0m\u001b[0;34m,\u001b[0m \u001b[0mdtype\u001b[0m\u001b[0;34m=\u001b[0m\u001b[0mdtype\u001b[0m\u001b[0;34m)\u001b[0m\u001b[0;34m\u001b[0m\u001b[0;34m\u001b[0m\u001b[0m\n\u001b[0m\u001b[1;32m    747\u001b[0m             \u001b[0;32mexcept\u001b[0m \u001b[0mComplexWarning\u001b[0m \u001b[0;32mas\u001b[0m \u001b[0mcomplex_warning\u001b[0m\u001b[0;34m:\u001b[0m\u001b[0;34m\u001b[0m\u001b[0;34m\u001b[0m\u001b[0m\n\u001b[1;32m    748\u001b[0m                 raise ValueError(\n",
            "\u001b[0;32m/usr/local/lib/python3.7/dist-packages/pandas/core/generic.py\u001b[0m in \u001b[0;36m__array__\u001b[0;34m(self, dtype)\u001b[0m\n\u001b[1;32m   1991\u001b[0m \u001b[0;34m\u001b[0m\u001b[0m\n\u001b[1;32m   1992\u001b[0m     \u001b[0;32mdef\u001b[0m \u001b[0m__array__\u001b[0m\u001b[0;34m(\u001b[0m\u001b[0mself\u001b[0m\u001b[0;34m,\u001b[0m \u001b[0mdtype\u001b[0m\u001b[0;34m:\u001b[0m \u001b[0mNpDtype\u001b[0m \u001b[0;34m|\u001b[0m \u001b[0;32mNone\u001b[0m \u001b[0;34m=\u001b[0m \u001b[0;32mNone\u001b[0m\u001b[0;34m)\u001b[0m \u001b[0;34m->\u001b[0m \u001b[0mnp\u001b[0m\u001b[0;34m.\u001b[0m\u001b[0mndarray\u001b[0m\u001b[0;34m:\u001b[0m\u001b[0;34m\u001b[0m\u001b[0;34m\u001b[0m\u001b[0m\n\u001b[0;32m-> 1993\u001b[0;31m         \u001b[0;32mreturn\u001b[0m \u001b[0mnp\u001b[0m\u001b[0;34m.\u001b[0m\u001b[0masarray\u001b[0m\u001b[0;34m(\u001b[0m\u001b[0mself\u001b[0m\u001b[0;34m.\u001b[0m\u001b[0m_values\u001b[0m\u001b[0;34m,\u001b[0m \u001b[0mdtype\u001b[0m\u001b[0;34m=\u001b[0m\u001b[0mdtype\u001b[0m\u001b[0;34m)\u001b[0m\u001b[0;34m\u001b[0m\u001b[0;34m\u001b[0m\u001b[0m\n\u001b[0m\u001b[1;32m   1994\u001b[0m \u001b[0;34m\u001b[0m\u001b[0m\n\u001b[1;32m   1995\u001b[0m     def __array_wrap__(\n",
            "\u001b[0;31mValueError\u001b[0m: could not convert string to float: 'FOGA'"
          ]
        }
      ],
      "source": [
        "# se realiza el metodo de imputación KNN\n",
        "\n",
        "imputer = IterativeImputer(estimator=KNeighborsRegressor())\n",
        "melb_imputed = imputer.fit_transform(melb_scaled)\n",
        "melb_imputed = scaler.inverse_transform(melb_imputed)\n",
        "\n",
        "melb_imputed = pd.DataFrame(melb_imputed, index=melb_enc[numerical_cols].index, columns=melb_enc[numerical_cols].columns)\n",
        "(len(melb_imputed),len(melb_enc))"
      ]
    },
    {
      "cell_type": "code",
      "source": [
        "seaborn.set(rc={'figure.figsize':(8,6)})\n",
        "ax = seaborn.kdeplot(melb_imputed.volumen_inicial,label=\"Imputados con knn\")\n",
        "ax = seaborn.kdeplot(melb_enc.volumen_inicial,label=\"Original\")\n",
        "ax.legend()"
      ],
      "metadata": {
        "id": "zzMV1BpqLM5t"
      },
      "execution_count": null,
      "outputs": []
    },
    {
      "cell_type": "markdown",
      "metadata": {
        "id": "CQh0RcwOYuJ-"
      },
      "source": [
        "#### 4. Guardado del dataset\n",
        "\n",
        "Luego de realizar las transformaciones generar los siguientes archivos:\n",
        "- .csv o .pickle con el dataset transformado en el punto 2 que será utilizado en el último práctico.\n",
        "- .csv o .pickle con el dataset transformado **sin la tranformación de la columna `codigo_error` one hot (si fue incluida en la anterior)**.\n",
        "- .csv o .pickle con la columna `codigo_error` (o incluirse como una columna extra en el archivo anterior) que será utilizado como label en el próximo práctico.\n",
        "\n",
        "**Input**: .csv completo.  \n",
        "**Output**: Uno a tres .csv/.pickle limpios y transformados (según transformaciones realizadas)."
      ]
    },
    {
      "cell_type": "code",
      "execution_count": null,
      "metadata": {
        "id": "ZHcWOPUWBBUv"
      },
      "outputs": [],
      "source": [
        "#merged_sales_df.to_csv(\"df_extended.csv\", index=None)\n",
        "\n",
        "#files.download(\"df_extended.csv\")"
      ]
    },
    {
      "cell_type": "markdown",
      "metadata": {
        "id": "g_2cJ-I_QPQL"
      },
      "source": [
        "#### (Opcional) 5. Reducción de dimensionalidad usando PCA\n",
        "\n",
        "- Aplicar PCA para reducir las dimensiones del dataset transformado.\n",
        "- Ahora realizar el mismo procedimiento seleccionando sólo una o dos [  empresas | industrias | productos ].\n",
        "- Graficar ambos resultados (2 o 3 componentes), observar la dispersión de los datos en el nuevo espacio. \n",
        "\n",
        "> _Este proceso puede ser muy lento. A fines de observación puede reducirse el dataset a una semana o un mes._\n",
        "\n",
        "https://medium.com/@ansjin/dimensionality-reduction-using-pca-on-multivariate-timeseries-data-b5cc07238dc4"
      ]
    },
    {
      "cell_type": "code",
      "execution_count": null,
      "metadata": {
        "id": "zkMIyrmO2Jks"
      },
      "outputs": [],
      "source": [
        "from sklearn.decomposition import PCA\n",
        "pca = PCA()\n",
        "# X_pca = pca.fit(X)"
      ]
    },
    {
      "cell_type": "markdown",
      "metadata": {
        "id": "YTyrdDJKdzKF"
      },
      "source": [
        "#### (Opcional) 6. Medias y medianas móviles para observar ouliers\n",
        "\n",
        "- Graficar las cantidades de las transacciones de una o dos empresas junto a la media móvil y otra con la mediana móvil. Identificar outliers.\n",
        "- Graficar las cantidades acumuladas de las transacciones de una o dos empresas junto a la media móvil y otra con la mediana móvil del acumulado. Identificar outliers.\n",
        "- Graficar la media y mediana móvil del residuo de ambas series descompuestas. Identificar outliers.\n",
        "- **¿Qué resultados se obtienen observando los outliers utilizando medias móviles? ¿Qué resultados se obtienen con la mediana móvil? ¿Cuál funciona mejor y por qué?**\n",
        "\n",
        "https://anomaly.io/anomaly-detection-moving-median-decomposition/index.html\n",
        "\n"
      ]
    },
    {
      "cell_type": "code",
      "execution_count": 49,
      "metadata": {
        "id": "5oKkWz3L0N80"
      },
      "outputs": [],
      "source": [
        "# Para poder utilizarse un window en tiempo, es necesario que el index sea de tiempo.\n",
        "# df.rolling('15T')[\"cantidad\"].mean()"
      ]
    },
    {
      "cell_type": "markdown",
      "metadata": {
        "id": "lES1-wl6EAMv"
      },
      "source": [
        "### Entregable\n",
        "\n",
        "Se propone la elaboración de un informe que deberá entregarse en formato de notebook tipo Jupyter o Google Colaboratory, con los resultados guardados, gráficos, notas y conclusiones. El mismo deberá apuntar a un público técnico, pero sin conocimientos específicos en el tema.\n",
        "\n",
        "**Fecha de entrega: 17/06/2022**"
      ]
    },
    {
      "cell_type": "markdown",
      "metadata": {
        "id": "cKL75SIKGilo"
      },
      "source": [
        "### Enlaces útiles\n",
        "- https://medium.com/@ansjin/dimensionality-reduction-using-pca-on-multivariate-timeseries-data-b5cc07238dc4\n",
        "- https://anomaly.io/anomaly-detection-moving-median-decomposition/index.html\n",
        "- https://neptune.ai/blog/anomaly-detection-in-time-series"
      ]
    }
  ],
  "metadata": {
    "colab": {
      "collapsed_sections": [],
      "name": "2_Exploración_y_Curación_de_Datos_compartido.ipynb",
      "provenance": [],
      "include_colab_link": true
    },
    "kernelspec": {
      "display_name": "Python 3 (ipykernel)",
      "language": "python",
      "name": "python3"
    },
    "language_info": {
      "codemirror_mode": {
        "name": "ipython",
        "version": 3
      },
      "file_extension": ".py",
      "mimetype": "text/x-python",
      "name": "python",
      "nbconvert_exporter": "python",
      "pygments_lexer": "ipython3",
      "version": "3.8.3"
    }
  },
  "nbformat": 4,
  "nbformat_minor": 0
}